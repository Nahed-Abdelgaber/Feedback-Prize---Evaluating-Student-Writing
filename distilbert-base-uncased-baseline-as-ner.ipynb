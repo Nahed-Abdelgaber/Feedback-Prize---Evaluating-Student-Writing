{
 "cells": [
  {
   "cell_type": "markdown",
   "id": "4b055dd2",
   "metadata": {
    "papermill": {
     "duration": 0.045458,
     "end_time": "2022-01-08T03:25:17.510507",
     "exception": false,
     "start_time": "2022-01-08T03:25:17.465049",
     "status": "completed"
    },
    "tags": []
   },
   "source": [
    "## NER Tagging Demo\n",
    "\n",
    "See details at: https://www.kaggle.com/c/feedback-prize-2021/discussion/296669"
   ]
  },
  {
   "cell_type": "code",
   "execution_count": 1,
   "id": "25495424",
   "metadata": {
    "_cell_guid": "20cf4b69-b11e-4975-85ba-6fde3a62c765",
    "_uuid": "58b121d9-c213-41d9-87c3-12d1092d927f",
    "collapsed": false,
    "execution": {
     "iopub.execute_input": "2022-01-08T03:25:17.611560Z",
     "iopub.status.busy": "2022-01-08T03:25:17.610799Z",
     "iopub.status.idle": "2022-01-08T03:25:19.377347Z",
     "shell.execute_reply": "2022-01-08T03:25:19.378227Z",
     "shell.execute_reply.started": "2022-01-08T03:19:47.599390Z"
    },
    "jupyter": {
     "outputs_hidden": false
    },
    "papermill": {
     "duration": 1.824103,
     "end_time": "2022-01-08T03:25:19.378592",
     "exception": false,
     "start_time": "2022-01-08T03:25:17.554489",
     "status": "completed"
    },
    "tags": []
   },
   "outputs": [],
   "source": [
    "import os\n",
    "\n",
    "import pandas as pd\n",
    "import transformers as trm\n",
    "from tqdm.auto import tqdm\n",
    "\n",
    "# Uses this utility script: https://www.kaggle.com/xhlulu/ner-tagging\n",
    "import ner_tagging as tag"
   ]
  },
  {
   "cell_type": "code",
   "execution_count": 2,
   "id": "5ffccc3b",
   "metadata": {
    "execution": {
     "iopub.execute_input": "2022-01-08T03:25:19.497877Z",
     "iopub.status.busy": "2022-01-08T03:25:19.497077Z",
     "iopub.status.idle": "2022-01-08T03:25:27.803955Z",
     "shell.execute_reply": "2022-01-08T03:25:27.803050Z",
     "shell.execute_reply.started": "2022-01-08T03:19:51.875583Z"
    },
    "papermill": {
     "duration": 8.354811,
     "end_time": "2022-01-08T03:25:27.804103",
     "exception": false,
     "start_time": "2022-01-08T03:25:19.449292",
     "status": "completed"
    },
    "tags": []
   },
   "outputs": [
    {
     "name": "stdout",
     "output_type": "stream",
     "text": [
      "\u001b[33mWARNING: Running pip as the 'root' user can result in broken permissions and conflicting behaviour with the system package manager. It is recommended to use a virtual environment instead: https://pip.pypa.io/warnings/venv\u001b[0m\r\n"
     ]
    }
   ],
   "source": [
    "!pip install --quiet datasets transformers[sentencepiece]\n"
   ]
  },
  {
   "cell_type": "code",
   "execution_count": 3,
   "id": "ddd4a3e4",
   "metadata": {
    "execution": {
     "iopub.execute_input": "2022-01-08T03:25:27.896977Z",
     "iopub.status.busy": "2022-01-08T03:25:27.896344Z",
     "iopub.status.idle": "2022-01-08T03:25:28.226373Z",
     "shell.execute_reply": "2022-01-08T03:25:28.225876Z",
     "shell.execute_reply.started": "2022-01-08T03:20:00.814280Z"
    },
    "papermill": {
     "duration": 0.377808,
     "end_time": "2022-01-08T03:25:28.226566",
     "exception": false,
     "start_time": "2022-01-08T03:25:27.848758",
     "status": "completed"
    },
    "tags": []
   },
   "outputs": [],
   "source": [
    "from datasets import load_dataset\n",
    "from huggingface_hub import notebook_login"
   ]
  },
  {
   "cell_type": "markdown",
   "id": "93152c9e",
   "metadata": {
    "papermill": {
     "duration": 0.043311,
     "end_time": "2022-01-08T03:25:28.313775",
     "exception": false,
     "start_time": "2022-01-08T03:25:28.270464",
     "status": "completed"
    },
    "tags": []
   },
   "source": [
    "Let's first load the training dataframe, along with the essays text and a dictionary to quickly map a id to a subset of the dataframe for the corresponding essay:"
   ]
  },
  {
   "cell_type": "code",
   "execution_count": 4,
   "id": "7a6ddd30",
   "metadata": {
    "execution": {
     "iopub.execute_input": "2022-01-08T03:25:28.407218Z",
     "iopub.status.busy": "2022-01-08T03:25:28.406701Z",
     "iopub.status.idle": "2022-01-08T03:26:13.445497Z",
     "shell.execute_reply": "2022-01-08T03:26:13.446105Z",
     "shell.execute_reply.started": "2022-01-07T05:15:39.797023Z"
    },
    "papermill": {
     "duration": 45.089173,
     "end_time": "2022-01-08T03:26:13.446312",
     "exception": false,
     "start_time": "2022-01-08T03:25:28.357139",
     "status": "completed"
    },
    "tags": []
   },
   "outputs": [
    {
     "data": {
      "application/vnd.jupyter.widget-view+json": {
       "model_id": "82285cfaaf9d4e62a039a416df5f497c",
       "version_major": 2,
       "version_minor": 0
      },
      "text/plain": [
       "  0%|          | 0/15594 [00:00<?, ?it/s]"
      ]
     },
     "metadata": {},
     "output_type": "display_data"
    },
    {
     "name": "stdout",
     "output_type": "stream",
     "text": [
      "CPU times: user 3.39 s, sys: 1.45 s, total: 4.84 s\n",
      "Wall time: 45 s\n"
     ]
    }
   ],
   "source": [
    "%%time\n",
    "train_df = pd.read_csv('../input/feedback-prize-2021/train.csv')\n",
    "\n",
    "train_dir = '../input/feedback-prize-2021/train'\n",
    "train_files = list(os.listdir(train_dir))\n",
    "train_ids = [f.replace('.txt', '') for f in train_files]\n",
    "\n",
    "train_essays = [\n",
    "    open(os.path.join(train_dir, f)).read()\n",
    "    for f in tqdm(train_files)\n",
    "]\n",
    "\n",
    "train_id_to_df = dict(list(train_df.groupby('id')))"
   ]
  },
  {
   "cell_type": "code",
   "execution_count": 5,
   "id": "bb310d0d",
   "metadata": {
    "execution": {
     "iopub.execute_input": "2022-01-08T03:26:13.541982Z",
     "iopub.status.busy": "2022-01-08T03:26:13.541150Z",
     "iopub.status.idle": "2022-01-08T03:26:13.557479Z",
     "shell.execute_reply": "2022-01-08T03:26:13.557898Z",
     "shell.execute_reply.started": "2022-01-06T04:08:00.845772Z"
    },
    "papermill": {
     "duration": 0.066197,
     "end_time": "2022-01-08T03:26:13.558029",
     "exception": false,
     "start_time": "2022-01-08T03:26:13.491832",
     "status": "completed"
    },
    "tags": []
   },
   "outputs": [
    {
     "data": {
      "text/html": [
       "<div>\n",
       "<style scoped>\n",
       "    .dataframe tbody tr th:only-of-type {\n",
       "        vertical-align: middle;\n",
       "    }\n",
       "\n",
       "    .dataframe tbody tr th {\n",
       "        vertical-align: top;\n",
       "    }\n",
       "\n",
       "    .dataframe thead th {\n",
       "        text-align: right;\n",
       "    }\n",
       "</style>\n",
       "<table border=\"1\" class=\"dataframe\">\n",
       "  <thead>\n",
       "    <tr style=\"text-align: right;\">\n",
       "      <th></th>\n",
       "      <th>id</th>\n",
       "      <th>discourse_id</th>\n",
       "      <th>discourse_start</th>\n",
       "      <th>discourse_end</th>\n",
       "      <th>discourse_text</th>\n",
       "      <th>discourse_type</th>\n",
       "      <th>discourse_type_num</th>\n",
       "      <th>predictionstring</th>\n",
       "    </tr>\n",
       "  </thead>\n",
       "  <tbody>\n",
       "    <tr>\n",
       "      <th>59951</th>\n",
       "      <td>0000D23A521A</td>\n",
       "      <td>1.617735e+12</td>\n",
       "      <td>0.0</td>\n",
       "      <td>170.0</td>\n",
       "      <td>Some people belive that the so called \"face\" o...</td>\n",
       "      <td>Position</td>\n",
       "      <td>Position 1</td>\n",
       "      <td>0 1 2 3 4 5 6 7 8 9 10 11 12 13 14 15 16 17 18...</td>\n",
       "    </tr>\n",
       "    <tr>\n",
       "      <th>59952</th>\n",
       "      <td>0000D23A521A</td>\n",
       "      <td>1.617735e+12</td>\n",
       "      <td>170.0</td>\n",
       "      <td>357.0</td>\n",
       "      <td>It was not created by aliens, and there is no ...</td>\n",
       "      <td>Evidence</td>\n",
       "      <td>Evidence 1</td>\n",
       "      <td>34 35 36 37 38 39 40 41 42 43 44 45 46 47 48 4...</td>\n",
       "    </tr>\n",
       "    <tr>\n",
       "      <th>59953</th>\n",
       "      <td>0000D23A521A</td>\n",
       "      <td>1.617735e+12</td>\n",
       "      <td>358.0</td>\n",
       "      <td>438.0</td>\n",
       "      <td>A mesa is a naturally occuring rock formation,...</td>\n",
       "      <td>Evidence</td>\n",
       "      <td>Evidence 2</td>\n",
       "      <td>69 70 71 72 73 74 75 76 77 78 79 80 81 82 83</td>\n",
       "    </tr>\n",
       "    <tr>\n",
       "      <th>59954</th>\n",
       "      <td>0000D23A521A</td>\n",
       "      <td>1.617735e+12</td>\n",
       "      <td>438.0</td>\n",
       "      <td>626.0</td>\n",
       "      <td>This \"face\" on mars only looks like a face bec...</td>\n",
       "      <td>Claim</td>\n",
       "      <td>Claim 1</td>\n",
       "      <td>84 85 86 87 88 89 90 91 92 93 94 95 96 97 98 9...</td>\n",
       "    </tr>\n",
       "    <tr>\n",
       "      <th>59955</th>\n",
       "      <td>0000D23A521A</td>\n",
       "      <td>1.617735e+12</td>\n",
       "      <td>627.0</td>\n",
       "      <td>722.0</td>\n",
       "      <td>Many conspiracy theorists believe that NASA is...</td>\n",
       "      <td>Counterclaim</td>\n",
       "      <td>Counterclaim 1</td>\n",
       "      <td>117 118 119 120 121 122 123 124 125 126 127 12...</td>\n",
       "    </tr>\n",
       "    <tr>\n",
       "      <th>59956</th>\n",
       "      <td>0000D23A521A</td>\n",
       "      <td>1.617735e+12</td>\n",
       "      <td>722.0</td>\n",
       "      <td>836.0</td>\n",
       "      <td>These people would be very wrong. If NASA foun...</td>\n",
       "      <td>Rebuttal</td>\n",
       "      <td>Rebuttal 1</td>\n",
       "      <td>134 135 136 137 138 139 140 141 142 143 144 14...</td>\n",
       "    </tr>\n",
       "    <tr>\n",
       "      <th>59957</th>\n",
       "      <td>0000D23A521A</td>\n",
       "      <td>1.617735e+12</td>\n",
       "      <td>836.0</td>\n",
       "      <td>1014.0</td>\n",
       "      <td>NASA's budget would increase drasticly, which ...</td>\n",
       "      <td>Evidence</td>\n",
       "      <td>Evidence 3</td>\n",
       "      <td>154 155 156 157 158 159 160 161 162 163 164 16...</td>\n",
       "    </tr>\n",
       "    <tr>\n",
       "      <th>59958</th>\n",
       "      <td>0000D23A521A</td>\n",
       "      <td>1.617735e+12</td>\n",
       "      <td>1015.0</td>\n",
       "      <td>1343.0</td>\n",
       "      <td>So, NASA is not hiding life on Mars from us, a...</td>\n",
       "      <td>Concluding Statement</td>\n",
       "      <td>Concluding Statement 1</td>\n",
       "      <td>186 187 188 189 190 191 192 193 194 195 196 19...</td>\n",
       "    </tr>\n",
       "  </tbody>\n",
       "</table>\n",
       "</div>"
      ],
      "text/plain": [
       "                 id  discourse_id  discourse_start  discourse_end  \\\n",
       "59951  0000D23A521A  1.617735e+12              0.0          170.0   \n",
       "59952  0000D23A521A  1.617735e+12            170.0          357.0   \n",
       "59953  0000D23A521A  1.617735e+12            358.0          438.0   \n",
       "59954  0000D23A521A  1.617735e+12            438.0          626.0   \n",
       "59955  0000D23A521A  1.617735e+12            627.0          722.0   \n",
       "59956  0000D23A521A  1.617735e+12            722.0          836.0   \n",
       "59957  0000D23A521A  1.617735e+12            836.0         1014.0   \n",
       "59958  0000D23A521A  1.617735e+12           1015.0         1343.0   \n",
       "\n",
       "                                          discourse_text  \\\n",
       "59951  Some people belive that the so called \"face\" o...   \n",
       "59952  It was not created by aliens, and there is no ...   \n",
       "59953  A mesa is a naturally occuring rock formation,...   \n",
       "59954  This \"face\" on mars only looks like a face bec...   \n",
       "59955  Many conspiracy theorists believe that NASA is...   \n",
       "59956  These people would be very wrong. If NASA foun...   \n",
       "59957  NASA's budget would increase drasticly, which ...   \n",
       "59958  So, NASA is not hiding life on Mars from us, a...   \n",
       "\n",
       "             discourse_type      discourse_type_num  \\\n",
       "59951              Position              Position 1   \n",
       "59952              Evidence              Evidence 1   \n",
       "59953              Evidence              Evidence 2   \n",
       "59954                 Claim                 Claim 1   \n",
       "59955          Counterclaim          Counterclaim 1   \n",
       "59956              Rebuttal              Rebuttal 1   \n",
       "59957              Evidence              Evidence 3   \n",
       "59958  Concluding Statement  Concluding Statement 1   \n",
       "\n",
       "                                        predictionstring  \n",
       "59951  0 1 2 3 4 5 6 7 8 9 10 11 12 13 14 15 16 17 18...  \n",
       "59952  34 35 36 37 38 39 40 41 42 43 44 45 46 47 48 4...  \n",
       "59953       69 70 71 72 73 74 75 76 77 78 79 80 81 82 83  \n",
       "59954  84 85 86 87 88 89 90 91 92 93 94 95 96 97 98 9...  \n",
       "59955  117 118 119 120 121 122 123 124 125 126 127 12...  \n",
       "59956  134 135 136 137 138 139 140 141 142 143 144 14...  \n",
       "59957  154 155 156 157 158 159 160 161 162 163 164 16...  \n",
       "59958  186 187 188 189 190 191 192 193 194 195 196 19...  "
      ]
     },
     "execution_count": 5,
     "metadata": {},
     "output_type": "execute_result"
    }
   ],
   "source": [
    "train_id_to_df[\"0000D23A521A\"]"
   ]
  },
  {
   "cell_type": "markdown",
   "id": "5de8f6b0",
   "metadata": {
    "papermill": {
     "duration": 0.044459,
     "end_time": "2022-01-08T03:26:13.647395",
     "exception": false,
     "start_time": "2022-01-08T03:26:13.602936",
     "status": "completed"
    },
    "tags": []
   },
   "source": [
    "Let's use any tokenizer (you can change it here if needed) to tokenize our training text. I selected `bert-base-cased` but you can choose any tokenize you want; the important part is to keep the `return_offsets_mapping` to true so we can use it in the `iob.create_target` function later."
   ]
  },
  {
   "cell_type": "code",
   "execution_count": 6,
   "id": "de33a93b",
   "metadata": {
    "execution": {
     "iopub.execute_input": "2022-01-08T03:26:13.743230Z",
     "iopub.status.busy": "2022-01-08T03:26:13.739334Z",
     "iopub.status.idle": "2022-01-08T03:26:47.320047Z",
     "shell.execute_reply": "2022-01-08T03:26:47.320973Z",
     "shell.execute_reply.started": "2022-01-06T04:08:00.876906Z"
    },
    "papermill": {
     "duration": 33.628638,
     "end_time": "2022-01-08T03:26:47.321192",
     "exception": false,
     "start_time": "2022-01-08T03:26:13.692554",
     "status": "completed"
    },
    "tags": []
   },
   "outputs": [
    {
     "data": {
      "application/vnd.jupyter.widget-view+json": {
       "model_id": "08de7ce0d99e4cf5932dd05a6475cf03",
       "version_major": 2,
       "version_minor": 0
      },
      "text/plain": [
       "Downloading:   0%|          | 0.00/28.0 [00:00<?, ?B/s]"
      ]
     },
     "metadata": {},
     "output_type": "display_data"
    },
    {
     "data": {
      "application/vnd.jupyter.widget-view+json": {
       "model_id": "79f722d1c53645e1a0c70a507aa9e508",
       "version_major": 2,
       "version_minor": 0
      },
      "text/plain": [
       "Downloading:   0%|          | 0.00/483 [00:00<?, ?B/s]"
      ]
     },
     "metadata": {},
     "output_type": "display_data"
    },
    {
     "data": {
      "application/vnd.jupyter.widget-view+json": {
       "model_id": "958067aebe704378b4edeb0980c5457f",
       "version_major": 2,
       "version_minor": 0
      },
      "text/plain": [
       "Downloading:   0%|          | 0.00/226k [00:00<?, ?B/s]"
      ]
     },
     "metadata": {},
     "output_type": "display_data"
    },
    {
     "data": {
      "application/vnd.jupyter.widget-view+json": {
       "model_id": "e1209d07f9b14021bc4f3b16026752e5",
       "version_major": 2,
       "version_minor": 0
      },
      "text/plain": [
       "Downloading:   0%|          | 0.00/455k [00:00<?, ?B/s]"
      ]
     },
     "metadata": {},
     "output_type": "display_data"
    }
   ],
   "source": [
    "tokenizer = trm.AutoTokenizer.from_pretrained(\"distilbert-base-uncased\", return_offsets_mapping=True, truncation=True, max_length=512, padding='max_length')\n",
    "tokens = tokenizer(train_essays, return_offsets_mapping=True, truncation=True, max_length=512, padding='max_length')"
   ]
  },
  {
   "cell_type": "markdown",
   "id": "836995ce",
   "metadata": {
    "papermill": {
     "duration": 0.078184,
     "end_time": "2022-01-08T03:26:47.481944",
     "exception": false,
     "start_time": "2022-01-08T03:26:47.403760",
     "status": "completed"
    },
    "tags": []
   },
   "source": [
    "In case continue training run the following cell if you want to start from the original distilbert-base-uncased don't run it"
   ]
  },
  {
   "cell_type": "code",
   "execution_count": 7,
   "id": "2684b3a4",
   "metadata": {
    "execution": {
     "iopub.execute_input": "2022-01-08T03:26:47.602771Z",
     "iopub.status.busy": "2022-01-08T03:26:47.601903Z",
     "iopub.status.idle": "2022-01-08T03:26:47.604004Z",
     "shell.execute_reply": "2022-01-08T03:26:47.604378Z",
     "shell.execute_reply.started": "2022-01-06T06:02:14.438426Z"
    },
    "papermill": {
     "duration": 0.053244,
     "end_time": "2022-01-08T03:26:47.604550",
     "exception": false,
     "start_time": "2022-01-08T03:26:47.551306",
     "status": "completed"
    },
    "tags": []
   },
   "outputs": [],
   "source": [
    "model_checkpoint = \"NahedAbdelgaber/evaluating-student-writing-distibert-ner\"\n"
   ]
  },
  {
   "cell_type": "code",
   "execution_count": 8,
   "id": "dffe9472",
   "metadata": {
    "execution": {
     "iopub.execute_input": "2022-01-08T03:26:47.702455Z",
     "iopub.status.busy": "2022-01-08T03:26:47.701690Z",
     "iopub.status.idle": "2022-01-08T03:27:16.449510Z",
     "shell.execute_reply": "2022-01-08T03:27:16.448966Z",
     "shell.execute_reply.started": "2022-01-06T05:13:22.882113Z"
    },
    "papermill": {
     "duration": 28.798843,
     "end_time": "2022-01-08T03:27:16.449660",
     "exception": false,
     "start_time": "2022-01-08T03:26:47.650817",
     "status": "completed"
    },
    "tags": []
   },
   "outputs": [
    {
     "data": {
      "application/vnd.jupyter.widget-view+json": {
       "model_id": "a6b3b5dc34cc4697886cfdb76301e507",
       "version_major": 2,
       "version_minor": 0
      },
      "text/plain": [
       "Downloading:   0%|          | 0.00/462 [00:00<?, ?B/s]"
      ]
     },
     "metadata": {},
     "output_type": "display_data"
    },
    {
     "data": {
      "application/vnd.jupyter.widget-view+json": {
       "model_id": "fa45df29561c49539ae6d43354359e41",
       "version_major": 2,
       "version_minor": 0
      },
      "text/plain": [
       "Downloading:   0%|          | 0.00/226k [00:00<?, ?B/s]"
      ]
     },
     "metadata": {},
     "output_type": "display_data"
    },
    {
     "data": {
      "application/vnd.jupyter.widget-view+json": {
       "model_id": "82ac86a2115b456894a1c04484fec295",
       "version_major": 2,
       "version_minor": 0
      },
      "text/plain": [
       "Downloading:   0%|          | 0.00/455k [00:00<?, ?B/s]"
      ]
     },
     "metadata": {},
     "output_type": "display_data"
    },
    {
     "data": {
      "application/vnd.jupyter.widget-view+json": {
       "model_id": "511a864ef0a74c28a79defe5b0c01a2c",
       "version_major": 2,
       "version_minor": 0
      },
      "text/plain": [
       "Downloading:   0%|          | 0.00/112 [00:00<?, ?B/s]"
      ]
     },
     "metadata": {},
     "output_type": "display_data"
    }
   ],
   "source": [
    "tokenizer = trm.AutoTokenizer.from_pretrained(model_checkpoint, return_offsets_mapping=True, truncation=True, max_length=512, padding='max_length')\n",
    "tokens = tokenizer(train_essays, return_offsets_mapping=True, truncation=True, max_length=512, padding='max_length')"
   ]
  },
  {
   "cell_type": "code",
   "execution_count": 9,
   "id": "3fde3a18",
   "metadata": {
    "execution": {
     "iopub.execute_input": "2022-01-08T03:27:16.550858Z",
     "iopub.status.busy": "2022-01-08T03:27:16.550068Z",
     "iopub.status.idle": "2022-01-08T03:27:16.555940Z",
     "shell.execute_reply": "2022-01-08T03:27:16.555500Z",
     "shell.execute_reply.started": "2022-01-06T05:13:46.011438Z"
    },
    "papermill": {
     "duration": 0.05791,
     "end_time": "2022-01-08T03:27:16.556058",
     "exception": false,
     "start_time": "2022-01-08T03:27:16.498148",
     "status": "completed"
    },
    "tags": []
   },
   "outputs": [
    {
     "data": {
      "text/plain": [
       "512"
      ]
     },
     "execution_count": 9,
     "metadata": {},
     "output_type": "execute_result"
    }
   ],
   "source": [
    "len(tokenizer(train_essays[0], return_offsets_mapping=True, truncation=True, max_length=512, padding='max_length')[\"input_ids\"])"
   ]
  },
  {
   "cell_type": "code",
   "execution_count": 10,
   "id": "ee86959d",
   "metadata": {
    "execution": {
     "iopub.execute_input": "2022-01-08T03:27:16.661527Z",
     "iopub.status.busy": "2022-01-08T03:27:16.660787Z",
     "iopub.status.idle": "2022-01-08T03:27:16.663763Z",
     "shell.execute_reply": "2022-01-08T03:27:16.664205Z",
     "shell.execute_reply.started": "2022-01-06T05:15:04.856799Z"
    },
    "papermill": {
     "duration": 0.059814,
     "end_time": "2022-01-08T03:27:16.664354",
     "exception": false,
     "start_time": "2022-01-08T03:27:16.604540",
     "status": "completed"
    },
    "tags": []
   },
   "outputs": [
    {
     "data": {
      "text/plain": [
       "\"I think we should be able to play in a sport if we have a grade C. I think i would be not fear for student that have a good grade like c to play in a sport. If we had a D or an F i would understand that but a C i nothing. Not a lot of kid get A or Bs and if we do. Some of those kids don't like to play a sport they like to do all there homework not that i am saying that a bad C grade people do there homework to. If there is only 1 out of 4 percent of student that get A and B, They all don't like the same sports and some don't like to do sports so it wouldn't be a hole team in that sport. that means you would have to cancel all the sport teams in the school. That why you should let C student play an a sport.\""
      ]
     },
     "execution_count": 10,
     "metadata": {},
     "output_type": "execute_result"
    }
   ],
   "source": [
    "train_essays[0]"
   ]
  },
  {
   "cell_type": "markdown",
   "id": "76d1f2eb",
   "metadata": {
    "papermill": {
     "duration": 0.05373,
     "end_time": "2022-01-08T03:27:16.773565",
     "exception": false,
     "start_time": "2022-01-08T03:27:16.719835",
     "status": "completed"
    },
    "tags": []
   },
   "source": [
    "We will now generate the target training data. "
   ]
  },
  {
   "cell_type": "code",
   "execution_count": 11,
   "id": "f86af4c4",
   "metadata": {
    "execution": {
     "iopub.execute_input": "2022-01-08T03:27:16.911873Z",
     "iopub.status.busy": "2022-01-08T03:27:16.911283Z",
     "iopub.status.idle": "2022-01-08T03:27:32.196728Z",
     "shell.execute_reply": "2022-01-08T03:27:32.190900Z",
     "shell.execute_reply.started": "2022-01-06T05:13:54.867193Z"
    },
    "papermill": {
     "duration": 15.374176,
     "end_time": "2022-01-08T03:27:32.196858",
     "exception": false,
     "start_time": "2022-01-08T03:27:16.822682",
     "status": "completed"
    },
    "tags": []
   },
   "outputs": [
    {
     "data": {
      "application/vnd.jupyter.widget-view+json": {
       "model_id": "32a95c0902874082960bca0206c8e0a7",
       "version_major": 2,
       "version_minor": 0
      },
      "text/plain": [
       "  0%|          | 0/15594 [00:00<?, ?it/s]"
      ]
     },
     "metadata": {},
     "output_type": "display_data"
    }
   ],
   "source": [
    "train_targets = []\n",
    "\n",
    "# First, you need to generate the tags from labels in the training dataframe\n",
    "tags, tag_to_num = tag.generate_tags(train_df.discourse_type, scheme=\"BILOU\")\n",
    "\n",
    "for i, essay in enumerate(tqdm(train_essays)):\n",
    "    essay_df = train_id_to_df[train_ids[i]]\n",
    "    \n",
    "    # Using the offset_mapping obtained from the tokenizer, we can align\n",
    "    # it with the tagged characters to create the target for our model\n",
    "    target = tag.create_target(\n",
    "        text=essay,\n",
    "        labels=essay_df.discourse_type,\n",
    "        start=essay_df.discourse_start,\n",
    "        end=essay_df.discourse_end,\n",
    "        offset_mapping=tokens.offset_mapping[i],\n",
    "        tag_to_num=tag_to_num,\n",
    "        scheme=\"BILOU\"\n",
    "    )\n",
    "    train_targets.append(target)"
   ]
  },
  {
   "cell_type": "code",
   "execution_count": 12,
   "id": "23bbdda0",
   "metadata": {
    "execution": {
     "iopub.execute_input": "2022-01-08T03:27:32.304562Z",
     "iopub.status.busy": "2022-01-08T03:27:32.303936Z",
     "iopub.status.idle": "2022-01-08T03:27:32.306975Z",
     "shell.execute_reply": "2022-01-08T03:27:32.307378Z",
     "shell.execute_reply.started": "2022-01-06T05:19:18.311438Z"
    },
    "papermill": {
     "duration": 0.058332,
     "end_time": "2022-01-08T03:27:32.307537",
     "exception": false,
     "start_time": "2022-01-08T03:27:32.249205",
     "status": "completed"
    },
    "tags": []
   },
   "outputs": [
    {
     "data": {
      "text/plain": [
       "{'O': 0,\n",
       " 'B-Evidence': 1,\n",
       " 'I-Evidence': 2,\n",
       " 'L-Evidence': 3,\n",
       " 'U-Evidence': 4,\n",
       " 'B-Rebuttal': 5,\n",
       " 'I-Rebuttal': 6,\n",
       " 'L-Rebuttal': 7,\n",
       " 'U-Rebuttal': 8,\n",
       " 'B-Lead': 9,\n",
       " 'I-Lead': 10,\n",
       " 'L-Lead': 11,\n",
       " 'U-Lead': 12,\n",
       " 'B-Concluding Statement': 13,\n",
       " 'I-Concluding Statement': 14,\n",
       " 'L-Concluding Statement': 15,\n",
       " 'U-Concluding Statement': 16,\n",
       " 'B-Counterclaim': 17,\n",
       " 'I-Counterclaim': 18,\n",
       " 'L-Counterclaim': 19,\n",
       " 'U-Counterclaim': 20,\n",
       " 'B-Claim': 21,\n",
       " 'I-Claim': 22,\n",
       " 'L-Claim': 23,\n",
       " 'U-Claim': 24,\n",
       " 'B-Position': 25,\n",
       " 'I-Position': 26,\n",
       " 'L-Position': 27,\n",
       " 'U-Position': 28}"
      ]
     },
     "execution_count": 12,
     "metadata": {},
     "output_type": "execute_result"
    }
   ],
   "source": [
    "tag_to_num"
   ]
  },
  {
   "cell_type": "code",
   "execution_count": 13,
   "id": "3cd7119a",
   "metadata": {
    "execution": {
     "iopub.execute_input": "2022-01-08T03:27:32.413073Z",
     "iopub.status.busy": "2022-01-08T03:27:32.412179Z",
     "iopub.status.idle": "2022-01-08T03:27:32.416923Z",
     "shell.execute_reply": "2022-01-08T03:27:32.416470Z",
     "shell.execute_reply.started": "2022-01-05T08:25:35.702473Z"
    },
    "papermill": {
     "duration": 0.060302,
     "end_time": "2022-01-08T03:27:32.417031",
     "exception": false,
     "start_time": "2022-01-08T03:27:32.356729",
     "status": "completed"
    },
    "tags": []
   },
   "outputs": [
    {
     "name": "stdout",
     "output_type": "stream",
     "text": [
      "train_targets =  15594\n",
      "train_id_to_df =  15594\n"
     ]
    },
    {
     "data": {
      "text/plain": [
       "(None, None)"
      ]
     },
     "execution_count": 13,
     "metadata": {},
     "output_type": "execute_result"
    }
   ],
   "source": [
    "print(\"train_targets = \", len(train_targets)), print(\"train_id_to_df = \",len(train_id_to_df))"
   ]
  },
  {
   "cell_type": "code",
   "execution_count": 14,
   "id": "b7671b4c",
   "metadata": {
    "execution": {
     "iopub.execute_input": "2022-01-08T03:27:32.525020Z",
     "iopub.status.busy": "2022-01-08T03:27:32.523471Z",
     "iopub.status.idle": "2022-01-08T03:27:32.525654Z",
     "shell.execute_reply": "2022-01-08T03:27:32.526065Z"
    },
    "papermill": {
     "duration": 0.055319,
     "end_time": "2022-01-08T03:27:32.526188",
     "exception": false,
     "start_time": "2022-01-08T03:27:32.470869",
     "status": "completed"
    },
    "tags": []
   },
   "outputs": [],
   "source": [
    "# tokens[0]"
   ]
  },
  {
   "cell_type": "code",
   "execution_count": 15,
   "id": "4ff3f4e4",
   "metadata": {
    "execution": {
     "iopub.execute_input": "2022-01-08T03:27:32.630345Z",
     "iopub.status.busy": "2022-01-08T03:27:32.627732Z",
     "iopub.status.idle": "2022-01-08T03:27:32.634247Z",
     "shell.execute_reply": "2022-01-08T03:27:32.633851Z",
     "shell.execute_reply.started": "2022-01-05T08:39:19.89046Z"
    },
    "papermill": {
     "duration": 0.058084,
     "end_time": "2022-01-08T03:27:32.634353",
     "exception": false,
     "start_time": "2022-01-08T03:27:32.576269",
     "status": "completed"
    },
    "tags": []
   },
   "outputs": [
    {
     "data": {
      "text/plain": [
       "512"
      ]
     },
     "execution_count": 15,
     "metadata": {},
     "output_type": "execute_result"
    }
   ],
   "source": [
    "len(train_targets[0])"
   ]
  },
  {
   "cell_type": "code",
   "execution_count": 16,
   "id": "931c4702",
   "metadata": {
    "execution": {
     "iopub.execute_input": "2022-01-08T03:27:32.738633Z",
     "iopub.status.busy": "2022-01-08T03:27:32.737962Z",
     "iopub.status.idle": "2022-01-08T03:27:32.740939Z",
     "shell.execute_reply": "2022-01-08T03:27:32.741348Z"
    },
    "papermill": {
     "duration": 0.057297,
     "end_time": "2022-01-08T03:27:32.741486",
     "exception": false,
     "start_time": "2022-01-08T03:27:32.684189",
     "status": "completed"
    },
    "tags": []
   },
   "outputs": [
    {
     "name": "stdout",
     "output_type": "stream",
     "text": [
      "<class 'list'>\n",
      "<class 'transformers.tokenization_utils_base.BatchEncoding'>\n"
     ]
    }
   ],
   "source": [
    "print(type(train_targets)) \n",
    "print(type(tokens))"
   ]
  },
  {
   "cell_type": "code",
   "execution_count": 17,
   "id": "a4c9d524",
   "metadata": {
    "execution": {
     "iopub.execute_input": "2022-01-08T03:27:32.851758Z",
     "iopub.status.busy": "2022-01-08T03:27:32.850820Z",
     "iopub.status.idle": "2022-01-08T03:27:32.853982Z",
     "shell.execute_reply": "2022-01-08T03:27:32.854419Z"
    },
    "papermill": {
     "duration": 0.06236,
     "end_time": "2022-01-08T03:27:32.854560",
     "exception": false,
     "start_time": "2022-01-08T03:27:32.792200",
     "status": "completed"
    },
    "tags": []
   },
   "outputs": [
    {
     "data": {
      "text/plain": [
       "list"
      ]
     },
     "execution_count": 17,
     "metadata": {},
     "output_type": "execute_result"
    }
   ],
   "source": [
    "type(train_essays)"
   ]
  },
  {
   "cell_type": "code",
   "execution_count": 18,
   "id": "98f6b29e",
   "metadata": {
    "execution": {
     "iopub.execute_input": "2022-01-08T03:27:32.966439Z",
     "iopub.status.busy": "2022-01-08T03:27:32.965372Z",
     "iopub.status.idle": "2022-01-08T03:27:32.969077Z",
     "shell.execute_reply": "2022-01-08T03:27:32.968627Z"
    },
    "papermill": {
     "duration": 0.06082,
     "end_time": "2022-01-08T03:27:32.969187",
     "exception": false,
     "start_time": "2022-01-08T03:27:32.908367",
     "status": "completed"
    },
    "tags": []
   },
   "outputs": [
    {
     "data": {
      "text/plain": [
       "\"I think we should be able to play in a sport if we have a grade C. I think i would be not fear for student that have a good grade like c to play in a sport. If we had a D or an F i would understand that but a C i nothing. Not a lot of kid get A or Bs and if we do. Some of those kids don't like to play a sport they like to do all there homework not that i am saying that a bad C grade people do there homework to. If there is only 1 out of 4 percent of student that get A and B, They all don't like the same sports and some don't like to do sports so it wouldn't be a hole team in that sport. that means you would have to cancel all the sport teams in the school. That why you should let C student play an a sport.\""
      ]
     },
     "execution_count": 18,
     "metadata": {},
     "output_type": "execute_result"
    }
   ],
   "source": [
    "train_essays[0]"
   ]
  },
  {
   "cell_type": "code",
   "execution_count": 19,
   "id": "d3bca4d9",
   "metadata": {
    "execution": {
     "iopub.execute_input": "2022-01-08T03:27:33.075168Z",
     "iopub.status.busy": "2022-01-08T03:27:33.074485Z",
     "iopub.status.idle": "2022-01-08T03:27:33.076539Z",
     "shell.execute_reply": "2022-01-08T03:27:33.076915Z",
     "shell.execute_reply.started": "2022-01-06T05:19:35.534319Z"
    },
    "papermill": {
     "duration": 0.056513,
     "end_time": "2022-01-08T03:27:33.077040",
     "exception": false,
     "start_time": "2022-01-08T03:27:33.020527",
     "status": "completed"
    },
    "tags": []
   },
   "outputs": [],
   "source": [
    "from torch.utils.data import Dataset"
   ]
  },
  {
   "cell_type": "code",
   "execution_count": 20,
   "id": "796fd05e",
   "metadata": {
    "execution": {
     "iopub.execute_input": "2022-01-08T03:27:33.189792Z",
     "iopub.status.busy": "2022-01-08T03:27:33.189071Z",
     "iopub.status.idle": "2022-01-08T03:27:33.191237Z",
     "shell.execute_reply": "2022-01-08T03:27:33.191647Z",
     "shell.execute_reply.started": "2022-01-06T05:19:35.886349Z"
    },
    "papermill": {
     "duration": 0.063246,
     "end_time": "2022-01-08T03:27:33.191780",
     "exception": false,
     "start_time": "2022-01-08T03:27:33.128534",
     "status": "completed"
    },
    "tags": []
   },
   "outputs": [],
   "source": [
    "class EvaluationStudentWritingDataSet(Dataset):\n",
    "    \n",
    "    \n",
    "      def __init__(\n",
    "          self, data, tokenizer, labels,\n",
    "          return_offsets_mapping= True, \n",
    "          truncation=True,\n",
    "          padding='max_length',\n",
    "          max_token_len: int = 512\n",
    "          ):\n",
    "\n",
    "        self.tokenizer = tokenizer\n",
    "        self.data = data\n",
    "        self.return_offsets_mapping = return_offsets_mapping\n",
    "        self.max_token_len = max_token_len\n",
    "        self.truncation = truncation\n",
    "        self.padding = padding\n",
    "        self.labels = labels\n",
    "\n",
    "      def __len__(self):\n",
    "        return len(self.data)\n",
    "\n",
    "      def __getitem__(self, index:int):\n",
    "        data_row = self.data[index]\n",
    "        text = data_row\n",
    "\n",
    "        text_encoding = self.tokenizer(text, return_offsets_mapping=self.return_offsets_mapping, \n",
    "                                       truncation=self.truncation, \n",
    "                       max_length=self.max_token_len, padding=self.padding, return_tensors = \"pt\")\n",
    "        label = self.labels[index]\n",
    "\n",
    "        \n",
    "        return dict(\n",
    "#             text = text,\n",
    "            input_ids = text_encoding[\"input_ids\"].flatten(),\n",
    "            attention_mask =  text_encoding[\"attention_mask\"].flatten(),\n",
    "            labels = label,\n",
    "#             special_tokens_mask = text_encoding[\"special_tokens_mask\"].flatten(),\n",
    "#             offsets=  text_encoding[\"offset_mapping\"].flatten(),\n",
    "#             type_ids =  text_encoding[\"type_ids\"].flatten()\n",
    "        )"
   ]
  },
  {
   "cell_type": "code",
   "execution_count": 21,
   "id": "9e6a1466",
   "metadata": {
    "execution": {
     "iopub.execute_input": "2022-01-08T03:27:33.298582Z",
     "iopub.status.busy": "2022-01-08T03:27:33.297958Z",
     "iopub.status.idle": "2022-01-08T03:27:33.846770Z",
     "shell.execute_reply": "2022-01-08T03:27:33.846117Z",
     "shell.execute_reply.started": "2022-01-06T05:19:44.422357Z"
    },
    "papermill": {
     "duration": 0.603743,
     "end_time": "2022-01-08T03:27:33.846944",
     "exception": false,
     "start_time": "2022-01-08T03:27:33.243201",
     "status": "completed"
    },
    "tags": []
   },
   "outputs": [],
   "source": [
    "from sklearn.model_selection import train_test_split"
   ]
  },
  {
   "cell_type": "code",
   "execution_count": 22,
   "id": "3f4faf8d",
   "metadata": {
    "execution": {
     "iopub.execute_input": "2022-01-08T03:27:33.968739Z",
     "iopub.status.busy": "2022-01-08T03:27:33.964318Z",
     "iopub.status.idle": "2022-01-08T03:27:33.970687Z",
     "shell.execute_reply": "2022-01-08T03:27:33.971078Z",
     "shell.execute_reply.started": "2022-01-06T05:22:48.576697Z"
    },
    "papermill": {
     "duration": 0.072857,
     "end_time": "2022-01-08T03:27:33.971213",
     "exception": false,
     "start_time": "2022-01-08T03:27:33.898356",
     "status": "completed"
    },
    "tags": []
   },
   "outputs": [],
   "source": [
    "# train_text, test_text = train_test_split(train_essays, test_size = 0.1)\n",
    "\n",
    "# train_labels, test_labels = train_test_split(train_targets, test_size = 0.1)\n",
    "\n",
    "train_text, test_text, train_labels, test_labels = train_test_split(train_essays, train_targets, test_size=0.1, random_state=42)\n",
    "\n",
    "train_data_set = EvaluationStudentWritingDataSet(train_text, tokenizer, train_labels)\n",
    "test_data_set = EvaluationStudentWritingDataSet(test_text, tokenizer, test_labels)"
   ]
  },
  {
   "cell_type": "markdown",
   "id": "c65eeef1",
   "metadata": {
    "papermill": {
     "duration": 0.05053,
     "end_time": "2022-01-08T03:27:34.072730",
     "exception": false,
     "start_time": "2022-01-08T03:27:34.022200",
     "status": "completed"
    },
    "tags": []
   },
   "source": [
    "Start of the baseline"
   ]
  },
  {
   "cell_type": "code",
   "execution_count": 23,
   "id": "4f4f9708",
   "metadata": {
    "execution": {
     "iopub.execute_input": "2022-01-08T03:27:34.178513Z",
     "iopub.status.busy": "2022-01-08T03:27:34.177832Z",
     "iopub.status.idle": "2022-01-08T03:27:34.185522Z",
     "shell.execute_reply": "2022-01-08T03:27:34.185970Z",
     "shell.execute_reply.started": "2022-01-06T05:22:57.438457Z"
    },
    "papermill": {
     "duration": 0.062478,
     "end_time": "2022-01-08T03:27:34.186101",
     "exception": false,
     "start_time": "2022-01-08T03:27:34.123623",
     "status": "completed"
    },
    "tags": []
   },
   "outputs": [],
   "source": [
    "from transformers import AutoModelForMaskedLM\n",
    "\n",
    "# model_checkpoint = \"distilbert-base-uncased\"\n",
    "\n",
    "# model_checkpoint = \"NahedAbdelgaber/distilbert-base-uncased-finetuned-evaluating-student-writing\"\n",
    "\n",
    "# fined_tunned_model = AutoModelForMaskedLM.from_pretrained(model_checkpoint)"
   ]
  },
  {
   "cell_type": "code",
   "execution_count": 24,
   "id": "6d5fc0cc",
   "metadata": {
    "execution": {
     "iopub.execute_input": "2022-01-08T03:27:34.293351Z",
     "iopub.status.busy": "2022-01-08T03:27:34.292768Z",
     "iopub.status.idle": "2022-01-08T03:27:34.313695Z",
     "shell.execute_reply": "2022-01-08T03:27:34.313203Z",
     "shell.execute_reply.started": "2022-01-06T05:23:01.486958Z"
    },
    "papermill": {
     "duration": 0.077046,
     "end_time": "2022-01-08T03:27:34.313815",
     "exception": false,
     "start_time": "2022-01-08T03:27:34.236769",
     "status": "completed"
    },
    "tags": []
   },
   "outputs": [],
   "source": [
    "from transformers import DataCollatorForTokenClassification\n",
    "\n",
    "data_collator = DataCollatorForTokenClassification(tokenizer=tokenizer)"
   ]
  },
  {
   "cell_type": "code",
   "execution_count": 25,
   "id": "efb56e77",
   "metadata": {
    "execution": {
     "iopub.execute_input": "2022-01-08T03:27:34.422884Z",
     "iopub.status.busy": "2022-01-08T03:27:34.422053Z",
     "iopub.status.idle": "2022-01-08T03:27:34.424018Z",
     "shell.execute_reply": "2022-01-08T03:27:34.424387Z",
     "shell.execute_reply.started": "2022-01-06T05:23:48.882753Z"
    },
    "papermill": {
     "duration": 0.058888,
     "end_time": "2022-01-08T03:27:34.424541",
     "exception": false,
     "start_time": "2022-01-08T03:27:34.365653",
     "status": "completed"
    },
    "tags": []
   },
   "outputs": [],
   "source": [
    "label2id = tag_to_num\n",
    "id2label = {v: k for k, v in label2id.items()}"
   ]
  },
  {
   "cell_type": "code",
   "execution_count": 26,
   "id": "4fb1a986",
   "metadata": {
    "execution": {
     "iopub.execute_input": "2022-01-08T03:27:34.532490Z",
     "iopub.status.busy": "2022-01-08T03:27:34.531633Z",
     "iopub.status.idle": "2022-01-08T03:27:49.558468Z",
     "shell.execute_reply": "2022-01-08T03:27:49.557976Z",
     "shell.execute_reply.started": "2022-01-06T06:02:58.160281Z"
    },
    "papermill": {
     "duration": 15.082589,
     "end_time": "2022-01-08T03:27:49.558606",
     "exception": false,
     "start_time": "2022-01-08T03:27:34.476017",
     "status": "completed"
    },
    "tags": []
   },
   "outputs": [
    {
     "data": {
      "application/vnd.jupyter.widget-view+json": {
       "model_id": "3cfb745fae4b4c51960b8f3e5b762e82",
       "version_major": 2,
       "version_minor": 0
      },
      "text/plain": [
       "Downloading:   0%|          | 0.00/1.92k [00:00<?, ?B/s]"
      ]
     },
     "metadata": {},
     "output_type": "display_data"
    },
    {
     "data": {
      "application/vnd.jupyter.widget-view+json": {
       "model_id": "542161da750046da8b3f7f37b86d4377",
       "version_major": 2,
       "version_minor": 0
      },
      "text/plain": [
       "Downloading:   0%|          | 0.00/253M [00:00<?, ?B/s]"
      ]
     },
     "metadata": {},
     "output_type": "display_data"
    }
   ],
   "source": [
    "from transformers import AutoModelForTokenClassification\n",
    "\n",
    "model = AutoModelForTokenClassification.from_pretrained(\n",
    "    model_checkpoint,\n",
    "    id2label=id2label,\n",
    "    label2id=label2id,\n",
    ")"
   ]
  },
  {
   "cell_type": "code",
   "execution_count": 27,
   "id": "375ab05d",
   "metadata": {
    "execution": {
     "iopub.execute_input": "2022-01-08T03:27:49.669119Z",
     "iopub.status.busy": "2022-01-08T03:27:49.668486Z",
     "iopub.status.idle": "2022-01-08T03:27:49.671210Z",
     "shell.execute_reply": "2022-01-08T03:27:49.671627Z",
     "shell.execute_reply.started": "2022-01-06T06:03:06.459381Z"
    },
    "papermill": {
     "duration": 0.060891,
     "end_time": "2022-01-08T03:27:49.671762",
     "exception": false,
     "start_time": "2022-01-08T03:27:49.610871",
     "status": "completed"
    },
    "tags": []
   },
   "outputs": [
    {
     "data": {
      "text/plain": [
       "DistilBertConfig {\n",
       "  \"_name_or_path\": \"NahedAbdelgaber/evaluating-student-writing-distibert-ner\",\n",
       "  \"activation\": \"gelu\",\n",
       "  \"architectures\": [\n",
       "    \"DistilBertForTokenClassification\"\n",
       "  ],\n",
       "  \"attention_dropout\": 0.1,\n",
       "  \"dim\": 768,\n",
       "  \"dropout\": 0.1,\n",
       "  \"hidden_dim\": 3072,\n",
       "  \"id2label\": {\n",
       "    \"0\": \"O\",\n",
       "    \"1\": \"B-Evidence\",\n",
       "    \"2\": \"I-Evidence\",\n",
       "    \"3\": \"L-Evidence\",\n",
       "    \"4\": \"U-Evidence\",\n",
       "    \"5\": \"B-Rebuttal\",\n",
       "    \"6\": \"I-Rebuttal\",\n",
       "    \"7\": \"L-Rebuttal\",\n",
       "    \"8\": \"U-Rebuttal\",\n",
       "    \"9\": \"B-Lead\",\n",
       "    \"10\": \"I-Lead\",\n",
       "    \"11\": \"L-Lead\",\n",
       "    \"12\": \"U-Lead\",\n",
       "    \"13\": \"B-Concluding Statement\",\n",
       "    \"14\": \"I-Concluding Statement\",\n",
       "    \"15\": \"L-Concluding Statement\",\n",
       "    \"16\": \"U-Concluding Statement\",\n",
       "    \"17\": \"B-Counterclaim\",\n",
       "    \"18\": \"I-Counterclaim\",\n",
       "    \"19\": \"L-Counterclaim\",\n",
       "    \"20\": \"U-Counterclaim\",\n",
       "    \"21\": \"B-Claim\",\n",
       "    \"22\": \"I-Claim\",\n",
       "    \"23\": \"L-Claim\",\n",
       "    \"24\": \"U-Claim\",\n",
       "    \"25\": \"B-Position\",\n",
       "    \"26\": \"I-Position\",\n",
       "    \"27\": \"L-Position\",\n",
       "    \"28\": \"U-Position\"\n",
       "  },\n",
       "  \"initializer_range\": 0.02,\n",
       "  \"label2id\": {\n",
       "    \"B-Claim\": 21,\n",
       "    \"B-Concluding Statement\": 13,\n",
       "    \"B-Counterclaim\": 17,\n",
       "    \"B-Evidence\": 1,\n",
       "    \"B-Lead\": 9,\n",
       "    \"B-Position\": 25,\n",
       "    \"B-Rebuttal\": 5,\n",
       "    \"I-Claim\": 22,\n",
       "    \"I-Concluding Statement\": 14,\n",
       "    \"I-Counterclaim\": 18,\n",
       "    \"I-Evidence\": 2,\n",
       "    \"I-Lead\": 10,\n",
       "    \"I-Position\": 26,\n",
       "    \"I-Rebuttal\": 6,\n",
       "    \"L-Claim\": 23,\n",
       "    \"L-Concluding Statement\": 15,\n",
       "    \"L-Counterclaim\": 19,\n",
       "    \"L-Evidence\": 3,\n",
       "    \"L-Lead\": 11,\n",
       "    \"L-Position\": 27,\n",
       "    \"L-Rebuttal\": 7,\n",
       "    \"O\": 0,\n",
       "    \"U-Claim\": 24,\n",
       "    \"U-Concluding Statement\": 16,\n",
       "    \"U-Counterclaim\": 20,\n",
       "    \"U-Evidence\": 4,\n",
       "    \"U-Lead\": 12,\n",
       "    \"U-Position\": 28,\n",
       "    \"U-Rebuttal\": 8\n",
       "  },\n",
       "  \"max_position_embeddings\": 512,\n",
       "  \"model_type\": \"distilbert\",\n",
       "  \"n_heads\": 12,\n",
       "  \"n_layers\": 6,\n",
       "  \"pad_token_id\": 0,\n",
       "  \"qa_dropout\": 0.1,\n",
       "  \"seq_classif_dropout\": 0.2,\n",
       "  \"sinusoidal_pos_embds\": false,\n",
       "  \"tie_weights_\": true,\n",
       "  \"torch_dtype\": \"float32\",\n",
       "  \"transformers_version\": \"4.12.5\",\n",
       "  \"vocab_size\": 30522\n",
       "}"
      ]
     },
     "execution_count": 27,
     "metadata": {},
     "output_type": "execute_result"
    }
   ],
   "source": [
    "model.config"
   ]
  },
  {
   "cell_type": "code",
   "execution_count": 28,
   "id": "ed8188e8",
   "metadata": {
    "execution": {
     "iopub.execute_input": "2022-01-08T03:27:49.779806Z",
     "iopub.status.busy": "2022-01-08T03:27:49.779031Z",
     "iopub.status.idle": "2022-01-08T03:27:49.784712Z",
     "shell.execute_reply": "2022-01-08T03:27:49.784262Z",
     "shell.execute_reply.started": "2022-01-05T08:22:36.02067Z"
    },
    "papermill": {
     "duration": 0.060963,
     "end_time": "2022-01-08T03:27:49.784845",
     "exception": false,
     "start_time": "2022-01-08T03:27:49.723882",
     "status": "completed"
    },
    "tags": []
   },
   "outputs": [
    {
     "data": {
      "text/plain": [
       "29"
      ]
     },
     "execution_count": 28,
     "metadata": {},
     "output_type": "execute_result"
    }
   ],
   "source": [
    "model.config.num_labels"
   ]
  },
  {
   "cell_type": "code",
   "execution_count": 29,
   "id": "3fe77d72",
   "metadata": {
    "execution": {
     "iopub.execute_input": "2022-01-08T03:27:49.894907Z",
     "iopub.status.busy": "2022-01-08T03:27:49.894132Z",
     "iopub.status.idle": "2022-01-08T03:27:49.896180Z",
     "shell.execute_reply": "2022-01-08T03:27:49.896676Z",
     "shell.execute_reply.started": "2022-01-06T06:03:15.184706Z"
    },
    "papermill": {
     "duration": 0.058984,
     "end_time": "2022-01-08T03:27:49.896811",
     "exception": false,
     "start_time": "2022-01-08T03:27:49.837827",
     "status": "completed"
    },
    "tags": []
   },
   "outputs": [],
   "source": [
    "import os\n",
    "os.environ[\"TOKENIZERS_PARALLELISM\"] = \"false\""
   ]
  },
  {
   "cell_type": "code",
   "execution_count": 30,
   "id": "b6772cbb",
   "metadata": {
    "execution": {
     "iopub.execute_input": "2022-01-08T03:27:50.008015Z",
     "iopub.status.busy": "2022-01-08T03:27:50.007227Z",
     "iopub.status.idle": "2022-01-08T03:27:50.013868Z",
     "shell.execute_reply": "2022-01-08T03:27:50.013364Z",
     "shell.execute_reply.started": "2022-01-06T05:24:54.530707Z"
    },
    "papermill": {
     "duration": 0.06491,
     "end_time": "2022-01-08T03:27:50.013981",
     "exception": false,
     "start_time": "2022-01-08T03:27:49.949071",
     "status": "completed"
    },
    "tags": []
   },
   "outputs": [
    {
     "data": {
      "text/plain": [
       "dict_keys(['input_ids', 'attention_mask', 'labels'])"
      ]
     },
     "execution_count": 30,
     "metadata": {},
     "output_type": "execute_result"
    }
   ],
   "source": [
    "train_data_set[0].keys()"
   ]
  },
  {
   "cell_type": "code",
   "execution_count": 31,
   "id": "902b10a0",
   "metadata": {
    "execution": {
     "iopub.execute_input": "2022-01-08T03:27:50.131743Z",
     "iopub.status.busy": "2022-01-08T03:27:50.129498Z",
     "iopub.status.idle": "2022-01-08T03:27:50.154454Z",
     "shell.execute_reply": "2022-01-08T03:27:50.155131Z",
     "shell.execute_reply.started": "2022-01-05T08:39:52.687637Z"
    },
    "papermill": {
     "duration": 0.088192,
     "end_time": "2022-01-08T03:27:50.155316",
     "exception": false,
     "start_time": "2022-01-08T03:27:50.067124",
     "status": "completed"
    },
    "tags": []
   },
   "outputs": [
    {
     "name": "stdout",
     "output_type": "stream",
     "text": [
      "label 512\n",
      "input_ids 512\n",
      "label 512\n",
      "input_ids 512\n",
      "label 512\n",
      "input_ids 512\n",
      "label 512\n",
      "input_ids 512\n",
      "label 512\n",
      "input_ids 512\n"
     ]
    }
   ],
   "source": [
    "for i in range(5):\n",
    "    print(\"label\", len(train_data_set[i]['labels']))\n",
    "    print(\"input_ids\", len(train_data_set[i]['input_ids']))"
   ]
  },
  {
   "cell_type": "code",
   "execution_count": 32,
   "id": "b06a4fbd",
   "metadata": {
    "execution": {
     "iopub.execute_input": "2022-01-08T03:27:50.271925Z",
     "iopub.status.busy": "2022-01-08T03:27:50.271142Z",
     "iopub.status.idle": "2022-01-08T03:27:50.308330Z",
     "shell.execute_reply": "2022-01-08T03:27:50.303560Z",
     "shell.execute_reply.started": "2022-01-08T03:20:16.775278Z"
    },
    "papermill": {
     "duration": 0.099093,
     "end_time": "2022-01-08T03:27:50.308451",
     "exception": false,
     "start_time": "2022-01-08T03:27:50.209358",
     "status": "completed"
    },
    "tags": []
   },
   "outputs": [
    {
     "data": {
      "application/vnd.jupyter.widget-view+json": {
       "model_id": "f903b6eeb7214e2790619d84216c9f1f",
       "version_major": 2,
       "version_minor": 0
      },
      "text/plain": [
       "VBox(children=(HTML(value=\"<center>\\n<img src=https://huggingface.co/front/assets/huggingface_logo-noborder.sv…"
      ]
     },
     "metadata": {},
     "output_type": "display_data"
    }
   ],
   "source": [
    "notebook_login()"
   ]
  },
  {
   "cell_type": "code",
   "execution_count": 33,
   "id": "dd63fd00",
   "metadata": {
    "execution": {
     "iopub.execute_input": "2022-01-08T03:27:50.420854Z",
     "iopub.status.busy": "2022-01-08T03:27:50.420020Z",
     "iopub.status.idle": "2022-01-08T03:27:50.421990Z",
     "shell.execute_reply": "2022-01-08T03:27:50.422357Z"
    },
    "papermill": {
     "duration": 0.059874,
     "end_time": "2022-01-08T03:27:50.422501",
     "exception": false,
     "start_time": "2022-01-08T03:27:50.362627",
     "status": "completed"
    },
    "tags": []
   },
   "outputs": [],
   "source": [
    "# sample = 0.1 * train_data_set.data"
   ]
  },
  {
   "cell_type": "code",
   "execution_count": 34,
   "id": "12fc6133",
   "metadata": {
    "execution": {
     "iopub.execute_input": "2022-01-08T03:27:50.535579Z",
     "iopub.status.busy": "2022-01-08T03:27:50.534219Z",
     "iopub.status.idle": "2022-01-08T03:27:50.602294Z",
     "shell.execute_reply": "2022-01-08T03:27:50.601845Z",
     "shell.execute_reply.started": "2022-01-06T06:04:02.348570Z"
    },
    "papermill": {
     "duration": 0.125124,
     "end_time": "2022-01-08T03:27:50.602439",
     "exception": false,
     "start_time": "2022-01-08T03:27:50.477315",
     "status": "completed"
    },
    "tags": []
   },
   "outputs": [],
   "source": [
    "from transformers import TrainingArguments\n",
    "\n",
    "args = TrainingArguments(\n",
    "    \"evaluating-student-writing-distibert-ner-with-metric\",\n",
    "    evaluation_strategy=\"epoch\",\n",
    "    save_strategy=\"epoch\",\n",
    "    learning_rate=2e-5,\n",
    "    num_train_epochs=3,\n",
    "    weight_decay=0.01,\n",
    "    push_to_hub=True,\n",
    ")"
   ]
  },
  {
   "cell_type": "code",
   "execution_count": 35,
   "id": "46d472d6",
   "metadata": {
    "execution": {
     "iopub.execute_input": "2022-01-08T03:27:50.714332Z",
     "iopub.status.busy": "2022-01-08T03:27:50.713516Z",
     "iopub.status.idle": "2022-01-08T03:27:50.715359Z",
     "shell.execute_reply": "2022-01-08T03:27:50.715783Z",
     "shell.execute_reply.started": "2022-01-06T05:25:54.860978Z"
    },
    "papermill": {
     "duration": 0.059562,
     "end_time": "2022-01-08T03:27:50.715918",
     "exception": false,
     "start_time": "2022-01-08T03:27:50.656356",
     "status": "completed"
    },
    "tags": []
   },
   "outputs": [],
   "source": [
    "label_names = list(id2label.values())"
   ]
  },
  {
   "cell_type": "code",
   "execution_count": 36,
   "id": "87ff30e5",
   "metadata": {
    "execution": {
     "iopub.execute_input": "2022-01-08T03:27:50.894583Z",
     "iopub.status.busy": "2022-01-08T03:27:50.829206Z",
     "iopub.status.idle": "2022-01-08T03:28:00.819777Z",
     "shell.execute_reply": "2022-01-08T03:28:00.819206Z",
     "shell.execute_reply.started": "2022-01-06T05:26:02.867661Z"
    },
    "papermill": {
     "duration": 10.049425,
     "end_time": "2022-01-08T03:28:00.819908",
     "exception": false,
     "start_time": "2022-01-08T03:27:50.770483",
     "status": "completed"
    },
    "tags": []
   },
   "outputs": [
    {
     "name": "stdout",
     "output_type": "stream",
     "text": [
      "Collecting seqeval\r\n",
      "  Downloading seqeval-1.2.2.tar.gz (43 kB)\r\n",
      "     |████████████████████████████████| 43 kB 265 kB/s            \r\n",
      "\u001b[?25h  Preparing metadata (setup.py) ... \u001b[?25l-\b \bdone\r\n",
      "\u001b[?25hRequirement already satisfied: numpy>=1.14.0 in /opt/conda/lib/python3.7/site-packages (from seqeval) (1.19.5)\r\n",
      "Requirement already satisfied: scikit-learn>=0.21.3 in /opt/conda/lib/python3.7/site-packages (from seqeval) (0.23.2)\r\n",
      "Requirement already satisfied: threadpoolctl>=2.0.0 in /opt/conda/lib/python3.7/site-packages (from scikit-learn>=0.21.3->seqeval) (3.0.0)\r\n",
      "Requirement already satisfied: joblib>=0.11 in /opt/conda/lib/python3.7/site-packages (from scikit-learn>=0.21.3->seqeval) (1.1.0)\r\n",
      "Requirement already satisfied: scipy>=0.19.1 in /opt/conda/lib/python3.7/site-packages (from scikit-learn>=0.21.3->seqeval) (1.7.2)\r\n",
      "Building wheels for collected packages: seqeval\r\n",
      "  Building wheel for seqeval (setup.py) ... \u001b[?25l-\b \b\\\b \bdone\r\n",
      "\u001b[?25h  Created wheel for seqeval: filename=seqeval-1.2.2-py3-none-any.whl size=16181 sha256=eb663fc096bd3d46b1b474885791d54f19c590f8c14ad5eb2d74f088bcc27f5a\r\n",
      "  Stored in directory: /root/.cache/pip/wheels/05/96/ee/7cac4e74f3b19e3158dce26a20a1c86b3533c43ec72a549fd7\r\n",
      "Successfully built seqeval\r\n",
      "Installing collected packages: seqeval\r\n",
      "Successfully installed seqeval-1.2.2\r\n",
      "\u001b[33mWARNING: Running pip as the 'root' user can result in broken permissions and conflicting behaviour with the system package manager. It is recommended to use a virtual environment instead: https://pip.pypa.io/warnings/venv\u001b[0m\r\n"
     ]
    }
   ],
   "source": [
    "!pip install seqeval"
   ]
  },
  {
   "cell_type": "code",
   "execution_count": 37,
   "id": "b66c6fe3",
   "metadata": {
    "execution": {
     "iopub.execute_input": "2022-01-08T03:28:00.948562Z",
     "iopub.status.busy": "2022-01-08T03:28:00.947873Z",
     "iopub.status.idle": "2022-01-08T03:28:01.975551Z",
     "shell.execute_reply": "2022-01-08T03:28:01.975032Z",
     "shell.execute_reply.started": "2022-01-06T06:04:23.865003Z"
    },
    "papermill": {
     "duration": 1.097123,
     "end_time": "2022-01-08T03:28:01.975681",
     "exception": false,
     "start_time": "2022-01-08T03:28:00.878558",
     "status": "completed"
    },
    "tags": []
   },
   "outputs": [
    {
     "data": {
      "application/vnd.jupyter.widget-view+json": {
       "model_id": "3a859070caee408aabf2878675b46e7d",
       "version_major": 2,
       "version_minor": 0
      },
      "text/plain": [
       "Downloading:   0%|          | 0.00/2.48k [00:00<?, ?B/s]"
      ]
     },
     "metadata": {},
     "output_type": "display_data"
    }
   ],
   "source": [
    "import numpy as np\n",
    "from datasets import load_metric\n",
    "\n",
    "metric = load_metric(\"seqeval\")\n",
    "\n",
    "\n",
    "\n",
    "def compute_metrics(eval_preds):\n",
    "    logits, labels = eval_preds\n",
    "    predictions = np.argmax(logits, axis=-1)\n",
    "\n",
    "    # Remove ignored index (special tokens) and convert to labels\n",
    "    true_labels = [[label_names[l] for l in label if l != -100] for label in labels]\n",
    "    true_predictions = [\n",
    "        [label_names[p] for (p, l) in zip(prediction, label) if l != -100]\n",
    "        for prediction, label in zip(predictions, labels)\n",
    "    ]\n",
    "    all_metrics = metric.compute(predictions=true_predictions, references=true_labels)\n",
    "    return {\n",
    "        \"precision\": all_metrics[\"overall_precision\"],\n",
    "        \"recall\": all_metrics[\"overall_recall\"],\n",
    "        \"f1\": all_metrics[\"overall_f1\"],\n",
    "        \"accuracy\": all_metrics[\"overall_accuracy\"],\n",
    "    }"
   ]
  },
  {
   "cell_type": "code",
   "execution_count": 38,
   "id": "019bf38c",
   "metadata": {
    "execution": {
     "iopub.execute_input": "2022-01-08T03:28:02.095068Z",
     "iopub.status.busy": "2022-01-08T03:28:02.094361Z",
     "iopub.status.idle": "2022-01-08T03:28:07.930968Z",
     "shell.execute_reply": "2022-01-08T03:28:07.930105Z",
     "shell.execute_reply.started": "2022-01-06T05:26:12.573005Z"
    },
    "papermill": {
     "duration": 5.898042,
     "end_time": "2022-01-08T03:28:07.931106",
     "exception": false,
     "start_time": "2022-01-08T03:28:02.033064",
     "status": "completed"
    },
    "tags": []
   },
   "outputs": [
    {
     "name": "stdout",
     "output_type": "stream",
     "text": [
      "\r\n",
      "\r\n",
      "\r\n",
      "The following NEW packages will be installed:\r\n",
      "  git-lfs\r\n",
      "0 upgraded, 1 newly installed, 0 to remove and 31 not upgraded.\r\n",
      "Need to get 3316 kB of archives.\r\n",
      "After this operation, 11.1 MB of additional disk space will be used.\r\n",
      "Get:1 http://archive.ubuntu.com/ubuntu focal/universe amd64 git-lfs amd64 2.9.2-1 [3316 kB]\r\n",
      "Fetched 3316 kB in 1s (2261 kB/s)\r\n",
      "\n",
      "\u001b7\u001b[0;23r\u001b8\u001b[1ASelecting previously unselected package git-lfs.\r\n",
      "(Reading database ... 102169 files and directories currently installed.)\r\n",
      "Preparing to unpack .../git-lfs_2.9.2-1_amd64.deb ...\r\n",
      "\u001b7\u001b[24;0f\u001b[42m\u001b[30mProgress: [  0%]\u001b[49m\u001b[39m [..........................................................] \u001b8\u001b7\u001b[24;0f\u001b[42m\u001b[30mProgress: [ 20%]\u001b[49m\u001b[39m [###########...............................................] \u001b8Unpacking git-lfs (2.9.2-1) ...\r\n",
      "\u001b7\u001b[24;0f\u001b[42m\u001b[30mProgress: [ 40%]\u001b[49m\u001b[39m [#######################...................................] \u001b8Setting up git-lfs (2.9.2-1) ...\r\n",
      "\u001b7\u001b[24;0f\u001b[42m\u001b[30mProgress: [ 60%]\u001b[49m\u001b[39m [##################################........................] \u001b8\u001b7\u001b[24;0f\u001b[42m\u001b[30mProgress: [ 80%]\u001b[49m\u001b[39m [##############################################............] \u001b8\r\n",
      "\u001b7\u001b[0;24r\u001b8\u001b[1A\u001b[J"
     ]
    }
   ],
   "source": [
    "\n",
    "!apt install git-lfs"
   ]
  },
  {
   "cell_type": "code",
   "execution_count": 39,
   "id": "a45bba0d",
   "metadata": {
    "execution": {
     "iopub.execute_input": "2022-01-08T03:28:08.066896Z",
     "iopub.status.busy": "2022-01-08T03:28:08.065933Z",
     "iopub.status.idle": "2022-01-08T03:28:13.680572Z",
     "shell.execute_reply": "2022-01-08T03:28:13.679972Z",
     "shell.execute_reply.started": "2022-01-06T06:04:36.003684Z"
    },
    "papermill": {
     "duration": 5.684914,
     "end_time": "2022-01-08T03:28:13.680852",
     "exception": true,
     "start_time": "2022-01-08T03:28:07.995938",
     "status": "failed"
    },
    "tags": []
   },
   "outputs": [
    {
     "ename": "ValueError",
     "evalue": "You need to pass a valid `token` or login by using `huggingface-cli login`",
     "output_type": "error",
     "traceback": [
      "\u001b[0;31m---------------------------------------------------------------------------\u001b[0m",
      "\u001b[0;31mValueError\u001b[0m                                Traceback (most recent call last)",
      "\u001b[0;32m/tmp/ipykernel_26/1805814322.py\u001b[0m in \u001b[0;36m<module>\u001b[0;34m\u001b[0m\n\u001b[1;32m     10\u001b[0m     \u001b[0mdata_collator\u001b[0m\u001b[0;34m=\u001b[0m\u001b[0mdata_collator\u001b[0m\u001b[0;34m,\u001b[0m\u001b[0;34m\u001b[0m\u001b[0;34m\u001b[0m\u001b[0m\n\u001b[1;32m     11\u001b[0m     \u001b[0mcompute_metrics\u001b[0m\u001b[0;34m=\u001b[0m\u001b[0mcompute_metrics\u001b[0m\u001b[0;34m,\u001b[0m\u001b[0;34m\u001b[0m\u001b[0;34m\u001b[0m\u001b[0m\n\u001b[0;32m---> 12\u001b[0;31m     \u001b[0mtokenizer\u001b[0m\u001b[0;34m=\u001b[0m\u001b[0mtokenizer\u001b[0m\u001b[0;34m,\u001b[0m\u001b[0;34m\u001b[0m\u001b[0;34m\u001b[0m\u001b[0m\n\u001b[0m\u001b[1;32m     13\u001b[0m )\n",
      "\u001b[0;32m/opt/conda/lib/python3.7/site-packages/transformers/trainer.py\u001b[0m in \u001b[0;36m__init__\u001b[0;34m(self, model, args, data_collator, train_dataset, eval_dataset, tokenizer, model_init, compute_metrics, callbacks, optimizers)\u001b[0m\n\u001b[1;32m    401\u001b[0m         \u001b[0;31m# Create clone of distant repo and output directory if needed\u001b[0m\u001b[0;34m\u001b[0m\u001b[0;34m\u001b[0m\u001b[0;34m\u001b[0m\u001b[0m\n\u001b[1;32m    402\u001b[0m         \u001b[0;32mif\u001b[0m \u001b[0mself\u001b[0m\u001b[0;34m.\u001b[0m\u001b[0margs\u001b[0m\u001b[0;34m.\u001b[0m\u001b[0mpush_to_hub\u001b[0m\u001b[0;34m:\u001b[0m\u001b[0;34m\u001b[0m\u001b[0;34m\u001b[0m\u001b[0m\n\u001b[0;32m--> 403\u001b[0;31m             \u001b[0mself\u001b[0m\u001b[0;34m.\u001b[0m\u001b[0minit_git_repo\u001b[0m\u001b[0;34m(\u001b[0m\u001b[0;34m)\u001b[0m\u001b[0;34m\u001b[0m\u001b[0;34m\u001b[0m\u001b[0m\n\u001b[0m\u001b[1;32m    404\u001b[0m             \u001b[0;31m# In case of pull, we need to make sure every process has the latest.\u001b[0m\u001b[0;34m\u001b[0m\u001b[0;34m\u001b[0m\u001b[0;34m\u001b[0m\u001b[0m\n\u001b[1;32m    405\u001b[0m             \u001b[0;32mif\u001b[0m \u001b[0mis_torch_tpu_available\u001b[0m\u001b[0;34m(\u001b[0m\u001b[0;34m)\u001b[0m\u001b[0;34m:\u001b[0m\u001b[0;34m\u001b[0m\u001b[0;34m\u001b[0m\u001b[0m\n",
      "\u001b[0;32m/opt/conda/lib/python3.7/site-packages/transformers/trainer.py\u001b[0m in \u001b[0;36minit_git_repo\u001b[0;34m(self)\u001b[0m\n\u001b[1;32m   2551\u001b[0m             \u001b[0mrepo_name\u001b[0m \u001b[0;34m=\u001b[0m \u001b[0mself\u001b[0m\u001b[0;34m.\u001b[0m\u001b[0margs\u001b[0m\u001b[0;34m.\u001b[0m\u001b[0mhub_model_id\u001b[0m\u001b[0;34m\u001b[0m\u001b[0;34m\u001b[0m\u001b[0m\n\u001b[1;32m   2552\u001b[0m         \u001b[0;32mif\u001b[0m \u001b[0;34m\"/\"\u001b[0m \u001b[0;32mnot\u001b[0m \u001b[0;32min\u001b[0m \u001b[0mrepo_name\u001b[0m\u001b[0;34m:\u001b[0m\u001b[0;34m\u001b[0m\u001b[0;34m\u001b[0m\u001b[0m\n\u001b[0;32m-> 2553\u001b[0;31m             \u001b[0mrepo_name\u001b[0m \u001b[0;34m=\u001b[0m \u001b[0mget_full_repo_name\u001b[0m\u001b[0;34m(\u001b[0m\u001b[0mrepo_name\u001b[0m\u001b[0;34m,\u001b[0m \u001b[0mtoken\u001b[0m\u001b[0;34m=\u001b[0m\u001b[0mself\u001b[0m\u001b[0;34m.\u001b[0m\u001b[0margs\u001b[0m\u001b[0;34m.\u001b[0m\u001b[0mhub_token\u001b[0m\u001b[0;34m)\u001b[0m\u001b[0;34m\u001b[0m\u001b[0;34m\u001b[0m\u001b[0m\n\u001b[0m\u001b[1;32m   2554\u001b[0m \u001b[0;34m\u001b[0m\u001b[0m\n\u001b[1;32m   2555\u001b[0m         \u001b[0;32mtry\u001b[0m\u001b[0;34m:\u001b[0m\u001b[0;34m\u001b[0m\u001b[0;34m\u001b[0m\u001b[0m\n",
      "\u001b[0;32m/opt/conda/lib/python3.7/site-packages/transformers/file_utils.py\u001b[0m in \u001b[0;36mget_full_repo_name\u001b[0;34m(model_id, organization, token)\u001b[0m\n\u001b[1;32m   2367\u001b[0m         \u001b[0mtoken\u001b[0m \u001b[0;34m=\u001b[0m \u001b[0mHfFolder\u001b[0m\u001b[0;34m.\u001b[0m\u001b[0mget_token\u001b[0m\u001b[0;34m(\u001b[0m\u001b[0;34m)\u001b[0m\u001b[0;34m\u001b[0m\u001b[0;34m\u001b[0m\u001b[0m\n\u001b[1;32m   2368\u001b[0m     \u001b[0;32mif\u001b[0m \u001b[0morganization\u001b[0m \u001b[0;32mis\u001b[0m \u001b[0;32mNone\u001b[0m\u001b[0;34m:\u001b[0m\u001b[0;34m\u001b[0m\u001b[0;34m\u001b[0m\u001b[0m\n\u001b[0;32m-> 2369\u001b[0;31m         \u001b[0musername\u001b[0m \u001b[0;34m=\u001b[0m \u001b[0mHfApi\u001b[0m\u001b[0;34m(\u001b[0m\u001b[0;34m)\u001b[0m\u001b[0;34m.\u001b[0m\u001b[0mwhoami\u001b[0m\u001b[0;34m(\u001b[0m\u001b[0mtoken\u001b[0m\u001b[0;34m)\u001b[0m\u001b[0;34m[\u001b[0m\u001b[0;34m\"name\"\u001b[0m\u001b[0;34m]\u001b[0m\u001b[0;34m\u001b[0m\u001b[0;34m\u001b[0m\u001b[0m\n\u001b[0m\u001b[1;32m   2370\u001b[0m         \u001b[0;32mreturn\u001b[0m \u001b[0;34mf\"{username}/{model_id}\"\u001b[0m\u001b[0;34m\u001b[0m\u001b[0;34m\u001b[0m\u001b[0m\n\u001b[1;32m   2371\u001b[0m     \u001b[0;32melse\u001b[0m\u001b[0;34m:\u001b[0m\u001b[0;34m\u001b[0m\u001b[0;34m\u001b[0m\u001b[0m\n",
      "\u001b[0;32m/opt/conda/lib/python3.7/site-packages/huggingface_hub/hf_api.py\u001b[0m in \u001b[0;36mwhoami\u001b[0;34m(self, token)\u001b[0m\n\u001b[1;32m    370\u001b[0m         \u001b[0;32mif\u001b[0m \u001b[0mtoken\u001b[0m \u001b[0;32mis\u001b[0m \u001b[0;32mNone\u001b[0m\u001b[0;34m:\u001b[0m\u001b[0;34m\u001b[0m\u001b[0;34m\u001b[0m\u001b[0m\n\u001b[1;32m    371\u001b[0m             raise ValueError(\n\u001b[0;32m--> 372\u001b[0;31m                 \u001b[0;34m\"You need to pass a valid `token` or login by using `huggingface-cli login`\"\u001b[0m\u001b[0;34m\u001b[0m\u001b[0;34m\u001b[0m\u001b[0m\n\u001b[0m\u001b[1;32m    373\u001b[0m             )\n\u001b[1;32m    374\u001b[0m \u001b[0;34m\u001b[0m\u001b[0m\n",
      "\u001b[0;31mValueError\u001b[0m: You need to pass a valid `token` or login by using `huggingface-cli login`"
     ]
    }
   ],
   "source": [
    "from transformers import Trainer\n",
    "\n",
    "trainer = Trainer(\n",
    "    model=model,\n",
    "    args=args,\n",
    "    train_dataset=train_data_set,\n",
    "    eval_dataset=test_data_set,\n",
    "#     train_dataset=train_batch,\n",
    "#     eval_dataset=test_batch,  \n",
    "    data_collator=data_collator,\n",
    "    compute_metrics=compute_metrics,\n",
    "    tokenizer=tokenizer,\n",
    ")\n"
   ]
  },
  {
   "cell_type": "code",
   "execution_count": null,
   "id": "07dab738",
   "metadata": {
    "execution": {
     "iopub.execute_input": "2022-01-06T06:04:46.540675Z",
     "iopub.status.busy": "2022-01-06T06:04:46.540449Z",
     "iopub.status.idle": "2022-01-06T06:32:10.008542Z",
     "shell.execute_reply": "2022-01-06T06:32:10.007593Z",
     "shell.execute_reply.started": "2022-01-06T06:04:46.540648Z"
    },
    "papermill": {
     "duration": null,
     "end_time": null,
     "exception": null,
     "start_time": null,
     "status": "pending"
    },
    "tags": []
   },
   "outputs": [],
   "source": [
    "trainer.train()"
   ]
  },
  {
   "cell_type": "markdown",
   "id": "03add47c",
   "metadata": {
    "papermill": {
     "duration": null,
     "end_time": null,
     "exception": null,
     "start_time": null,
     "status": "pending"
    },
    "tags": []
   },
   "source": [
    "pushing the model and tokenizer to the hub"
   ]
  },
  {
   "cell_type": "code",
   "execution_count": null,
   "id": "ff2dc9b9",
   "metadata": {
    "execution": {
     "iopub.execute_input": "2022-01-06T06:35:04.979780Z",
     "iopub.status.busy": "2022-01-06T06:35:04.979478Z",
     "iopub.status.idle": "2022-01-06T06:35:25.700249Z",
     "shell.execute_reply": "2022-01-06T06:35:25.699175Z",
     "shell.execute_reply.started": "2022-01-06T06:35:04.979741Z"
    },
    "papermill": {
     "duration": null,
     "end_time": null,
     "exception": null,
     "start_time": null,
     "status": "pending"
    },
    "tags": []
   },
   "outputs": [],
   "source": [
    "trainer.push_to_hub(commit_message=\"Training complete\")"
   ]
  },
  {
   "cell_type": "markdown",
   "id": "69fbfd71",
   "metadata": {
    "papermill": {
     "duration": null,
     "end_time": null,
     "exception": null,
     "start_time": null,
     "status": "pending"
    },
    "tags": []
   },
   "source": []
  },
  {
   "cell_type": "code",
   "execution_count": null,
   "id": "41a2b512",
   "metadata": {
    "execution": {
     "iopub.execute_input": "2022-01-06T06:35:25.703228Z",
     "iopub.status.busy": "2022-01-06T06:35:25.702883Z",
     "iopub.status.idle": "2022-01-06T06:35:28.986882Z",
     "shell.execute_reply": "2022-01-06T06:35:28.985903Z",
     "shell.execute_reply.started": "2022-01-06T06:35:25.703185Z"
    },
    "papermill": {
     "duration": null,
     "end_time": null,
     "exception": null,
     "start_time": null,
     "status": "pending"
    },
    "tags": []
   },
   "outputs": [],
   "source": [
    "tokenizer.push_to_hub(\"evaluating-student-writing-distibert-ner-with-metric\")"
   ]
  },
  {
   "cell_type": "code",
   "execution_count": null,
   "id": "93ac8821",
   "metadata": {
    "execution": {
     "iopub.execute_input": "2022-01-06T05:50:37.252819Z",
     "iopub.status.busy": "2022-01-06T05:50:37.252504Z",
     "iopub.status.idle": "2022-01-06T05:50:37.264149Z",
     "shell.execute_reply": "2022-01-06T05:50:37.263547Z",
     "shell.execute_reply.started": "2022-01-06T05:50:37.252785Z"
    },
    "papermill": {
     "duration": null,
     "end_time": null,
     "exception": null,
     "start_time": null,
     "status": "pending"
    },
    "tags": []
   },
   "outputs": [],
   "source": [
    "def postprocess(predictions, labels):\n",
    "    predictions = predictions.detach().cpu().clone().numpy()\n",
    "    labels = labels.detach().cpu().clone().numpy()\n",
    "\n",
    "    # Remove ignored index (special tokens) and convert to labels\n",
    "    true_labels = [[label_names[l] for l in label if l != -100] for label in labels]\n",
    "    true_predictions = [\n",
    "        [label_names[p] for (p, l) in zip(prediction, label) if l != -100]\n",
    "        for prediction, label in zip(predictions, labels)\n",
    "    ]\n",
    "    return true_labels, true_predictions"
   ]
  },
  {
   "cell_type": "code",
   "execution_count": null,
   "id": "5742a971",
   "metadata": {
    "execution": {
     "iopub.execute_input": "2022-01-08T03:20:43.332437Z",
     "iopub.status.busy": "2022-01-08T03:20:43.332131Z",
     "iopub.status.idle": "2022-01-08T03:21:09.268276Z",
     "shell.execute_reply": "2022-01-08T03:21:09.267491Z",
     "shell.execute_reply.started": "2022-01-08T03:20:43.332398Z"
    },
    "papermill": {
     "duration": null,
     "end_time": null,
     "exception": null,
     "start_time": null,
     "status": "pending"
    },
    "tags": []
   },
   "outputs": [],
   "source": [
    "from transformers import pipeline\n",
    "\n",
    "# Replace this with your own checkpoint\n",
    "model_checkpoint = \"NahedAbdelgaber/evaluating-student-writing-distibert-ner-with-metric\"\n",
    "token_classifier = pipeline(\n",
    "    \"token-classification\", model=model_checkpoint, aggregation_strategy=\"simple\"\n",
    ")\n",
    "# token_classifier(\"My name is Sylvain and I work at Hugging Face in Brooklyn.\")"
   ]
  },
  {
   "cell_type": "code",
   "execution_count": null,
   "id": "6cbddbf3",
   "metadata": {
    "execution": {
     "iopub.execute_input": "2022-01-08T03:21:09.270236Z",
     "iopub.status.busy": "2022-01-08T03:21:09.269972Z",
     "iopub.status.idle": "2022-01-08T03:21:09.275321Z",
     "shell.execute_reply": "2022-01-08T03:21:09.274659Z",
     "shell.execute_reply.started": "2022-01-08T03:21:09.270202Z"
    },
    "papermill": {
     "duration": null,
     "end_time": null,
     "exception": null,
     "start_time": null,
     "status": "pending"
    },
    "tags": []
   },
   "outputs": [],
   "source": [
    "text = \"\"\"Some people belive that the so called \"face\" on mars was created by life on mars. This is not the case. The face on Mars is a naturally occuring land form called a mesa. It was not created by aliens, and there is no consiracy to hide alien lifeforms on mars. There is no evidence that NASA has found that even suggests that this face was created by aliens.\n",
    "\n",
    "A mesa is a naturally occuring rock formation, that is found on Mars and Earth. This \"face\" on mars only looks like a face because humans tend to see faces wherever we look, humans are obviously extremely social, which is why our brain is designed to recognize faces.\n",
    "\n",
    "Many conspiracy theorists believe that NASA is hiding life on Mars from the rest of the world. These people would be very wrong. If NASA found life on Mars, then they would get millions of people's attention. NASA's budget would increase drasticly, which means that their workers would get paid more. There is no good reason that NASA would hide life on Mars from the rest of the world.\n",
    "\n",
    "So, NASA is not hiding life on Mars from us, and they are not trying to trick us into thinking that the \"face\" on mars is just a mesa, because it actually is. NASA hiding life would be illogical, because if they found life on Mars, they would make a lot of money, and we all know that the people at NASA aren't illogical people.\"\"\""
   ]
  },
  {
   "cell_type": "code",
   "execution_count": null,
   "id": "7336fa8a",
   "metadata": {
    "execution": {
     "iopub.execute_input": "2022-01-08T03:21:09.277087Z",
     "iopub.status.busy": "2022-01-08T03:21:09.276472Z",
     "iopub.status.idle": "2022-01-08T03:21:09.738307Z",
     "shell.execute_reply": "2022-01-08T03:21:09.737534Z",
     "shell.execute_reply.started": "2022-01-08T03:21:09.276944Z"
    },
    "papermill": {
     "duration": null,
     "end_time": null,
     "exception": null,
     "start_time": null,
     "status": "pending"
    },
    "tags": []
   },
   "outputs": [],
   "source": [
    "token_classifier(text)"
   ]
  },
  {
   "cell_type": "code",
   "execution_count": null,
   "id": "b324fb34",
   "metadata": {
    "papermill": {
     "duration": null,
     "end_time": null,
     "exception": null,
     "start_time": null,
     "status": "pending"
    },
    "tags": []
   },
   "outputs": [],
   "source": []
  },
  {
   "cell_type": "code",
   "execution_count": null,
   "id": "720c9a06",
   "metadata": {
    "execution": {
     "iopub.execute_input": "2022-01-07T06:14:02.517144Z",
     "iopub.status.busy": "2022-01-07T06:14:02.516565Z",
     "iopub.status.idle": "2022-01-07T06:14:02.523047Z",
     "shell.execute_reply": "2022-01-07T06:14:02.522140Z",
     "shell.execute_reply.started": "2022-01-07T06:14:02.517101Z"
    },
    "papermill": {
     "duration": null,
     "end_time": null,
     "exception": null,
     "start_time": null,
     "status": "pending"
    },
    "tags": []
   },
   "outputs": [],
   "source": [
    "char_start = 0\n",
    "char_end = 170\n",
    "word_start = len(text[:char_start].split())\n",
    "word_end = word_start + len(text[char_start:char_end].split())\n",
    "word_end = min( word_end, len(text.split()) )\n",
    "predictionstring = \" \".join( [str(x) for x in range(word_start,word_end)] )"
   ]
  },
  {
   "cell_type": "code",
   "execution_count": null,
   "id": "13b11767",
   "metadata": {
    "execution": {
     "iopub.execute_input": "2022-01-07T06:24:07.877776Z",
     "iopub.status.busy": "2022-01-07T06:24:07.877227Z",
     "iopub.status.idle": "2022-01-07T06:24:07.884447Z",
     "shell.execute_reply": "2022-01-07T06:24:07.883479Z",
     "shell.execute_reply.started": "2022-01-07T06:24:07.877738Z"
    },
    "papermill": {
     "duration": null,
     "end_time": null,
     "exception": null,
     "start_time": null,
     "status": "pending"
    },
    "tags": []
   },
   "outputs": [],
   "source": [
    "rows[\"predictionstring\"].iloc[-2]"
   ]
  },
  {
   "cell_type": "code",
   "execution_count": null,
   "id": "a8204b35",
   "metadata": {
    "execution": {
     "iopub.execute_input": "2022-01-07T06:19:40.442228Z",
     "iopub.status.busy": "2022-01-07T06:19:40.441944Z",
     "iopub.status.idle": "2022-01-07T06:19:40.742697Z",
     "shell.execute_reply": "2022-01-07T06:19:40.742000Z",
     "shell.execute_reply.started": "2022-01-07T06:19:40.442198Z"
    },
    "papermill": {
     "duration": null,
     "end_time": null,
     "exception": null,
     "start_time": null,
     "status": "pending"
    },
    "tags": []
   },
   "outputs": [],
   "source": [
    "result = token_classifier(text)\n",
    "\n",
    "for group in result:\n",
    "    char_start = group[\"start\"]\n",
    "    char_end = group[\"end\"]\n",
    "    word_start = len(text[:char_start].split())\n",
    "    word_end = word_start + len(text[char_start:char_end].split())\n",
    "    word_end = min( word_end, len(text.split()) )\n",
    "    predictionstring = \" \".join( [str(x) for x in range(word_start,word_end)] )\n",
    "    \n",
    "    print(\"pred \", predictionstring, \"class\" , group[\"entity_group\"])"
   ]
  },
  {
   "cell_type": "markdown",
   "id": "de6220ee",
   "metadata": {
    "papermill": {
     "duration": null,
     "end_time": null,
     "exception": null,
     "start_time": null,
     "status": "pending"
    },
    "tags": []
   },
   "source": [
    "Prepare submission file"
   ]
  },
  {
   "cell_type": "markdown",
   "id": "6ff4a792",
   "metadata": {
    "papermill": {
     "duration": null,
     "end_time": null,
     "exception": null,
     "start_time": null,
     "status": "pending"
    },
    "tags": []
   },
   "source": [
    "just making an update b"
   ]
  },
  {
   "cell_type": "code",
   "execution_count": null,
   "id": "4abb3821",
   "metadata": {
    "execution": {
     "iopub.execute_input": "2022-01-08T03:22:28.972466Z",
     "iopub.status.busy": "2022-01-08T03:22:28.971828Z",
     "iopub.status.idle": "2022-01-08T03:22:28.976280Z",
     "shell.execute_reply": "2022-01-08T03:22:28.975358Z",
     "shell.execute_reply.started": "2022-01-08T03:22:28.972432Z"
    },
    "papermill": {
     "duration": null,
     "end_time": null,
     "exception": null,
     "start_time": null,
     "status": "pending"
    },
    "tags": []
   },
   "outputs": [],
   "source": [
    "import pandas as pd"
   ]
  },
  {
   "cell_type": "code",
   "execution_count": null,
   "id": "89f4c26c",
   "metadata": {
    "execution": {
     "iopub.execute_input": "2022-01-08T03:23:08.886542Z",
     "iopub.status.busy": "2022-01-08T03:23:08.886268Z",
     "iopub.status.idle": "2022-01-08T03:23:08.894078Z",
     "shell.execute_reply": "2022-01-08T03:23:08.893305Z",
     "shell.execute_reply.started": "2022-01-08T03:23:08.886510Z"
    },
    "papermill": {
     "duration": null,
     "end_time": null,
     "exception": null,
     "start_time": null,
     "status": "pending"
    },
    "tags": []
   },
   "outputs": [],
   "source": [
    "test_dir = '../input/feedback-prize-2021/test'\n",
    "test_files = list(os.listdir(test_dir))\n",
    "test_ids = [f.replace('.txt', '') for f in test_files]\n"
   ]
  },
  {
   "cell_type": "code",
   "execution_count": null,
   "id": "68823ddd",
   "metadata": {
    "execution": {
     "iopub.execute_input": "2022-01-08T03:23:12.925394Z",
     "iopub.status.busy": "2022-01-08T03:23:12.925127Z",
     "iopub.status.idle": "2022-01-08T03:23:12.946455Z",
     "shell.execute_reply": "2022-01-08T03:23:12.945789Z",
     "shell.execute_reply.started": "2022-01-08T03:23:12.925365Z"
    },
    "papermill": {
     "duration": null,
     "end_time": null,
     "exception": null,
     "start_time": null,
     "status": "pending"
    },
    "tags": []
   },
   "outputs": [],
   "source": [
    "test_df = pd.DataFrame(columns = [\"id\",\"text\"])\n",
    "\n",
    "test_df"
   ]
  },
  {
   "cell_type": "code",
   "execution_count": null,
   "id": "193e01a9",
   "metadata": {
    "execution": {
     "iopub.execute_input": "2022-01-08T03:23:55.806079Z",
     "iopub.status.busy": "2022-01-08T03:23:55.805523Z",
     "iopub.status.idle": "2022-01-08T03:23:55.873379Z",
     "shell.execute_reply": "2022-01-08T03:23:55.872656Z",
     "shell.execute_reply.started": "2022-01-08T03:23:55.806035Z"
    },
    "papermill": {
     "duration": null,
     "end_time": null,
     "exception": null,
     "start_time": null,
     "status": "pending"
    },
    "tags": []
   },
   "outputs": [],
   "source": [
    "for f in tqdm(test_files):\n",
    "    text = open(os.path.join(test_dir, f)).read()\n",
    "    text_id = f.replace('.txt', '')\n",
    "    test_df = test_df.append({\"id\": text_id, \"text\":text}, ignore_index=True)\n",
    "    "
   ]
  },
  {
   "cell_type": "code",
   "execution_count": null,
   "id": "7c6cf8cd",
   "metadata": {
    "execution": {
     "iopub.execute_input": "2022-01-08T03:24:17.388515Z",
     "iopub.status.busy": "2022-01-08T03:24:17.388252Z",
     "iopub.status.idle": "2022-01-08T03:24:17.394482Z",
     "shell.execute_reply": "2022-01-08T03:24:17.393608Z",
     "shell.execute_reply.started": "2022-01-08T03:24:17.388488Z"
    },
    "papermill": {
     "duration": null,
     "end_time": null,
     "exception": null,
     "start_time": null,
     "status": "pending"
    },
    "tags": []
   },
   "outputs": [],
   "source": [
    "len(test_df)"
   ]
  },
  {
   "cell_type": "code",
   "execution_count": null,
   "id": "e9a20d79",
   "metadata": {
    "execution": {
     "iopub.execute_input": "2022-01-07T06:49:29.860697Z",
     "iopub.status.busy": "2022-01-07T06:49:29.860064Z",
     "iopub.status.idle": "2022-01-07T06:49:29.866213Z",
     "shell.execute_reply": "2022-01-07T06:49:29.865014Z",
     "shell.execute_reply.started": "2022-01-07T06:49:29.860660Z"
    },
    "papermill": {
     "duration": null,
     "end_time": null,
     "exception": null,
     "start_time": null,
     "status": "pending"
    },
    "tags": []
   },
   "outputs": [],
   "source": [
    "for i in range(len(test_df)):\n",
    "    row = test_df.iloc[i]\n",
    "    print(row[\"id\"])\n",
    "    break"
   ]
  },
  {
   "cell_type": "code",
   "execution_count": null,
   "id": "936b82a6",
   "metadata": {
    "execution": {
     "iopub.execute_input": "2022-01-08T03:24:30.316315Z",
     "iopub.status.busy": "2022-01-08T03:24:30.315606Z",
     "iopub.status.idle": "2022-01-08T03:24:30.321895Z",
     "shell.execute_reply": "2022-01-08T03:24:30.320919Z",
     "shell.execute_reply.started": "2022-01-08T03:24:30.316278Z"
    },
    "papermill": {
     "duration": null,
     "end_time": null,
     "exception": null,
     "start_time": null,
     "status": "pending"
    },
    "tags": []
   },
   "outputs": [],
   "source": [
    "submission_df = pd.DataFrame(columns = [\"id\",\"class\", \"predictionstring\"])"
   ]
  },
  {
   "cell_type": "code",
   "execution_count": null,
   "id": "19bbb432",
   "metadata": {
    "execution": {
     "iopub.execute_input": "2022-01-08T03:24:35.927870Z",
     "iopub.status.busy": "2022-01-08T03:24:35.927137Z",
     "iopub.status.idle": "2022-01-08T03:24:39.007179Z",
     "shell.execute_reply": "2022-01-08T03:24:39.006441Z",
     "shell.execute_reply.started": "2022-01-08T03:24:35.927828Z"
    },
    "papermill": {
     "duration": null,
     "end_time": null,
     "exception": null,
     "start_time": null,
     "status": "pending"
    },
    "tags": []
   },
   "outputs": [],
   "source": [
    "for i in range(len(test_df)):\n",
    "    row = test_df.iloc[i]\n",
    "    text_id = row[\"id\"]\n",
    "    text = row[\"text\"]\n",
    "    result = token_classifier(text)\n",
    "\n",
    "    for group in result:\n",
    "        char_start = group[\"start\"]\n",
    "        char_end = group[\"end\"]\n",
    "        word_start = len(text[:char_start].split())\n",
    "        word_end = word_start + len(text[char_start:char_end].split())\n",
    "        word_end = min( word_end, len(text.split()) )\n",
    "        \n",
    "        predictionstring = \" \".join( [str(x) for x in range(word_start,word_end)] )\n",
    "        prediction_class = group[\"entity_group\"]\n",
    "        \n",
    "        submission_df = submission_df.append({\"id\":text_id, \"class\": prediction_class,\"predictionstring\":predictionstring}, ignore_index=True)\n",
    "        "
   ]
  },
  {
   "cell_type": "code",
   "execution_count": null,
   "id": "0f99b778",
   "metadata": {
    "execution": {
     "iopub.execute_input": "2022-01-08T03:24:43.273802Z",
     "iopub.status.busy": "2022-01-08T03:24:43.273526Z",
     "iopub.status.idle": "2022-01-08T03:24:43.282497Z",
     "shell.execute_reply": "2022-01-08T03:24:43.281614Z",
     "shell.execute_reply.started": "2022-01-08T03:24:43.273772Z"
    },
    "papermill": {
     "duration": null,
     "end_time": null,
     "exception": null,
     "start_time": null,
     "status": "pending"
    },
    "tags": []
   },
   "outputs": [],
   "source": [
    "submission_df.to_csv(\"submission.csv\")"
   ]
  },
  {
   "cell_type": "code",
   "execution_count": null,
   "id": "caeffd9f",
   "metadata": {
    "execution": {
     "iopub.execute_input": "2022-01-08T03:24:40.923478Z",
     "iopub.status.busy": "2022-01-08T03:24:40.923196Z",
     "iopub.status.idle": "2022-01-08T03:24:40.935489Z",
     "shell.execute_reply": "2022-01-08T03:24:40.934626Z",
     "shell.execute_reply.started": "2022-01-08T03:24:40.923447Z"
    },
    "papermill": {
     "duration": null,
     "end_time": null,
     "exception": null,
     "start_time": null,
     "status": "pending"
    },
    "tags": []
   },
   "outputs": [],
   "source": [
    "submission_df.head(10)"
   ]
  },
  {
   "cell_type": "markdown",
   "id": "53aeafa6",
   "metadata": {
    "papermill": {
     "duration": null,
     "end_time": null,
     "exception": null,
     "start_time": null,
     "status": "pending"
    },
    "tags": []
   },
   "source": [
    "editing again\n",
    "\n"
   ]
  },
  {
   "cell_type": "code",
   "execution_count": null,
   "id": "2b9ce3ba",
   "metadata": {
    "papermill": {
     "duration": null,
     "end_time": null,
     "exception": null,
     "start_time": null,
     "status": "pending"
    },
    "tags": []
   },
   "outputs": [],
   "source": []
  }
 ],
 "metadata": {
  "kernelspec": {
   "display_name": "Python 3",
   "language": "python",
   "name": "python3"
  },
  "language_info": {
   "codemirror_mode": {
    "name": "ipython",
    "version": 3
   },
   "file_extension": ".py",
   "mimetype": "text/x-python",
   "name": "python",
   "nbconvert_exporter": "python",
   "pygments_lexer": "ipython3",
   "version": "3.7.12"
  },
  "papermill": {
   "default_parameters": {},
   "duration": 187.372527,
   "end_time": "2022-01-08T03:28:16.659769",
   "environment_variables": {},
   "exception": true,
   "input_path": "__notebook__.ipynb",
   "output_path": "__notebook__.ipynb",
   "parameters": {},
   "start_time": "2022-01-08T03:25:09.287242",
   "version": "2.3.3"
  },
  "widgets": {
   "application/vnd.jupyter.widget-state+json": {
    "state": {
     "00f76aa022d543308c5e59546964f8b7": {
      "model_module": "@jupyter-widgets/base",
      "model_module_version": "1.2.0",
      "model_name": "LayoutModel",
      "state": {
       "_model_module": "@jupyter-widgets/base",
       "_model_module_version": "1.2.0",
       "_model_name": "LayoutModel",
       "_view_count": null,
       "_view_module": "@jupyter-widgets/base",
       "_view_module_version": "1.2.0",
       "_view_name": "LayoutView",
       "align_content": null,
       "align_items": null,
       "align_self": null,
       "border": null,
       "bottom": null,
       "display": null,
       "flex": null,
       "flex_flow": null,
       "grid_area": null,
       "grid_auto_columns": null,
       "grid_auto_flow": null,
       "grid_auto_rows": null,
       "grid_column": null,
       "grid_gap": null,
       "grid_row": null,
       "grid_template_areas": null,
       "grid_template_columns": null,
       "grid_template_rows": null,
       "height": null,
       "justify_content": null,
       "justify_items": null,
       "left": null,
       "margin": null,
       "max_height": null,
       "max_width": null,
       "min_height": null,
       "min_width": null,
       "object_fit": null,
       "object_position": null,
       "order": null,
       "overflow": null,
       "overflow_x": null,
       "overflow_y": null,
       "padding": null,
       "right": null,
       "top": null,
       "visibility": null,
       "width": null
      }
     },
     "012b9bc7b12f460e908cc646c493638d": {
      "model_module": "@jupyter-widgets/controls",
      "model_module_version": "1.5.0",
      "model_name": "DescriptionStyleModel",
      "state": {
       "_model_module": "@jupyter-widgets/controls",
       "_model_module_version": "1.5.0",
       "_model_name": "DescriptionStyleModel",
       "_view_count": null,
       "_view_module": "@jupyter-widgets/base",
       "_view_module_version": "1.2.0",
       "_view_name": "StyleView",
       "description_width": ""
      }
     },
     "0155a04373f04361bf2047400a919f51": {
      "model_module": "@jupyter-widgets/base",
      "model_module_version": "1.2.0",
      "model_name": "LayoutModel",
      "state": {
       "_model_module": "@jupyter-widgets/base",
       "_model_module_version": "1.2.0",
       "_model_name": "LayoutModel",
       "_view_count": null,
       "_view_module": "@jupyter-widgets/base",
       "_view_module_version": "1.2.0",
       "_view_name": "LayoutView",
       "align_content": null,
       "align_items": null,
       "align_self": null,
       "border": null,
       "bottom": null,
       "display": null,
       "flex": null,
       "flex_flow": null,
       "grid_area": null,
       "grid_auto_columns": null,
       "grid_auto_flow": null,
       "grid_auto_rows": null,
       "grid_column": null,
       "grid_gap": null,
       "grid_row": null,
       "grid_template_areas": null,
       "grid_template_columns": null,
       "grid_template_rows": null,
       "height": null,
       "justify_content": null,
       "justify_items": null,
       "left": null,
       "margin": null,
       "max_height": null,
       "max_width": null,
       "min_height": null,
       "min_width": null,
       "object_fit": null,
       "object_position": null,
       "order": null,
       "overflow": null,
       "overflow_x": null,
       "overflow_y": null,
       "padding": null,
       "right": null,
       "top": null,
       "visibility": null,
       "width": null
      }
     },
     "07e907a5252440878587bf0814eabbbf": {
      "model_module": "@jupyter-widgets/controls",
      "model_module_version": "1.5.0",
      "model_name": "HTMLModel",
      "state": {
       "_dom_classes": [],
       "_model_module": "@jupyter-widgets/controls",
       "_model_module_version": "1.5.0",
       "_model_name": "HTMLModel",
       "_view_count": null,
       "_view_module": "@jupyter-widgets/controls",
       "_view_module_version": "1.5.0",
       "_view_name": "HTMLView",
       "description": "",
       "description_tooltip": null,
       "layout": "IPY_MODEL_8dceeda22aae4f8f90994e86fd1a03b9",
       "placeholder": "​",
       "style": "IPY_MODEL_ef96c70ac51e471ba925a2d1fd0147e6",
       "value": "100%"
      }
     },
     "08de7ce0d99e4cf5932dd05a6475cf03": {
      "model_module": "@jupyter-widgets/controls",
      "model_module_version": "1.5.0",
      "model_name": "HBoxModel",
      "state": {
       "_dom_classes": [],
       "_model_module": "@jupyter-widgets/controls",
       "_model_module_version": "1.5.0",
       "_model_name": "HBoxModel",
       "_view_count": null,
       "_view_module": "@jupyter-widgets/controls",
       "_view_module_version": "1.5.0",
       "_view_name": "HBoxView",
       "box_style": "",
       "children": [
        "IPY_MODEL_0faa90991c56466cbbe0d91addfee9ab",
        "IPY_MODEL_8b593d7f3ced4971be7afd9fb221840e",
        "IPY_MODEL_73299e7946ce4635aac8c6f041be44ab"
       ],
       "layout": "IPY_MODEL_738ca37fa29e4d0ba078dbff9a87b4f7"
      }
     },
     "0a3460f6502c4e77a348ec012a9ee693": {
      "model_module": "@jupyter-widgets/controls",
      "model_module_version": "1.5.0",
      "model_name": "FloatProgressModel",
      "state": {
       "_dom_classes": [],
       "_model_module": "@jupyter-widgets/controls",
       "_model_module_version": "1.5.0",
       "_model_name": "FloatProgressModel",
       "_view_count": null,
       "_view_module": "@jupyter-widgets/controls",
       "_view_module_version": "1.5.0",
       "_view_name": "ProgressView",
       "bar_style": "success",
       "description": "",
       "description_tooltip": null,
       "layout": "IPY_MODEL_1fe570ec274e44a09b628c8be3d49ad0",
       "max": 2482.0,
       "min": 0.0,
       "orientation": "horizontal",
       "style": "IPY_MODEL_48d0898baf05418cb2f5e2c3cf595b77",
       "value": 2482.0
      }
     },
     "0b527452e28242ea9e2fc530ad3fb3e1": {
      "model_module": "@jupyter-widgets/controls",
      "model_module_version": "1.5.0",
      "model_name": "DescriptionStyleModel",
      "state": {
       "_model_module": "@jupyter-widgets/controls",
       "_model_module_version": "1.5.0",
       "_model_name": "DescriptionStyleModel",
       "_view_count": null,
       "_view_module": "@jupyter-widgets/base",
       "_view_module_version": "1.2.0",
       "_view_name": "StyleView",
       "description_width": ""
      }
     },
     "0d3e3b481f254c8180b7140b348a5deb": {
      "model_module": "@jupyter-widgets/base",
      "model_module_version": "1.2.0",
      "model_name": "LayoutModel",
      "state": {
       "_model_module": "@jupyter-widgets/base",
       "_model_module_version": "1.2.0",
       "_model_name": "LayoutModel",
       "_view_count": null,
       "_view_module": "@jupyter-widgets/base",
       "_view_module_version": "1.2.0",
       "_view_name": "LayoutView",
       "align_content": null,
       "align_items": null,
       "align_self": null,
       "border": null,
       "bottom": null,
       "display": null,
       "flex": null,
       "flex_flow": null,
       "grid_area": null,
       "grid_auto_columns": null,
       "grid_auto_flow": null,
       "grid_auto_rows": null,
       "grid_column": null,
       "grid_gap": null,
       "grid_row": null,
       "grid_template_areas": null,
       "grid_template_columns": null,
       "grid_template_rows": null,
       "height": null,
       "justify_content": null,
       "justify_items": null,
       "left": null,
       "margin": null,
       "max_height": null,
       "max_width": null,
       "min_height": null,
       "min_width": null,
       "object_fit": null,
       "object_position": null,
       "order": null,
       "overflow": null,
       "overflow_x": null,
       "overflow_y": null,
       "padding": null,
       "right": null,
       "top": null,
       "visibility": null,
       "width": null
      }
     },
     "0eef4e92f6a34d7ea8e535f9235c7b2a": {
      "model_module": "@jupyter-widgets/base",
      "model_module_version": "1.2.0",
      "model_name": "LayoutModel",
      "state": {
       "_model_module": "@jupyter-widgets/base",
       "_model_module_version": "1.2.0",
       "_model_name": "LayoutModel",
       "_view_count": null,
       "_view_module": "@jupyter-widgets/base",
       "_view_module_version": "1.2.0",
       "_view_name": "LayoutView",
       "align_content": null,
       "align_items": null,
       "align_self": null,
       "border": null,
       "bottom": null,
       "display": null,
       "flex": null,
       "flex_flow": null,
       "grid_area": null,
       "grid_auto_columns": null,
       "grid_auto_flow": null,
       "grid_auto_rows": null,
       "grid_column": null,
       "grid_gap": null,
       "grid_row": null,
       "grid_template_areas": null,
       "grid_template_columns": null,
       "grid_template_rows": null,
       "height": null,
       "justify_content": null,
       "justify_items": null,
       "left": null,
       "margin": null,
       "max_height": null,
       "max_width": null,
       "min_height": null,
       "min_width": null,
       "object_fit": null,
       "object_position": null,
       "order": null,
       "overflow": null,
       "overflow_x": null,
       "overflow_y": null,
       "padding": null,
       "right": null,
       "top": null,
       "visibility": null,
       "width": null
      }
     },
     "0fa85c51fbcd4fa781bea80e2e369b35": {
      "model_module": "@jupyter-widgets/controls",
      "model_module_version": "1.5.0",
      "model_name": "DescriptionStyleModel",
      "state": {
       "_model_module": "@jupyter-widgets/controls",
       "_model_module_version": "1.5.0",
       "_model_name": "DescriptionStyleModel",
       "_view_count": null,
       "_view_module": "@jupyter-widgets/base",
       "_view_module_version": "1.2.0",
       "_view_name": "StyleView",
       "description_width": ""
      }
     },
     "0faa90991c56466cbbe0d91addfee9ab": {
      "model_module": "@jupyter-widgets/controls",
      "model_module_version": "1.5.0",
      "model_name": "HTMLModel",
      "state": {
       "_dom_classes": [],
       "_model_module": "@jupyter-widgets/controls",
       "_model_module_version": "1.5.0",
       "_model_name": "HTMLModel",
       "_view_count": null,
       "_view_module": "@jupyter-widgets/controls",
       "_view_module_version": "1.5.0",
       "_view_name": "HTMLView",
       "description": "",
       "description_tooltip": null,
       "layout": "IPY_MODEL_e7bbcb4ac22c4467968a6c5860bd8fae",
       "placeholder": "​",
       "style": "IPY_MODEL_8173cfb187b3472892706359b6e0cdd0",
       "value": "Downloading: 100%"
      }
     },
     "0fd897c42ba5473db7344bfe15004829": {
      "model_module": "@jupyter-widgets/controls",
      "model_module_version": "1.5.0",
      "model_name": "HTMLModel",
      "state": {
       "_dom_classes": [],
       "_model_module": "@jupyter-widgets/controls",
       "_model_module_version": "1.5.0",
       "_model_name": "HTMLModel",
       "_view_count": null,
       "_view_module": "@jupyter-widgets/controls",
       "_view_module_version": "1.5.0",
       "_view_name": "HTMLView",
       "description": "",
       "description_tooltip": null,
       "layout": "IPY_MODEL_7db13ba3122c4720a7686cdc792d021f",
       "placeholder": "​",
       "style": "IPY_MODEL_9341b815b7d84e2084df8f3df8c61b64",
       "value": "Downloading: 100%"
      }
     },
     "11273703c81b4289955f3315eaef1519": {
      "model_module": "@jupyter-widgets/controls",
      "model_module_version": "1.5.0",
      "model_name": "FloatProgressModel",
      "state": {
       "_dom_classes": [],
       "_model_module": "@jupyter-widgets/controls",
       "_model_module_version": "1.5.0",
       "_model_name": "FloatProgressModel",
       "_view_count": null,
       "_view_module": "@jupyter-widgets/controls",
       "_view_module_version": "1.5.0",
       "_view_name": "ProgressView",
       "bar_style": "success",
       "description": "",
       "description_tooltip": null,
       "layout": "IPY_MODEL_8e47ca7695bf4ab8962c6e744f7b7e6e",
       "max": 112.0,
       "min": 0.0,
       "orientation": "horizontal",
       "style": "IPY_MODEL_629c2c110bf543d1bc96ad2df80faf60",
       "value": 112.0
      }
     },
     "11977c9542d3433985f2ff236ffeec8d": {
      "model_module": "@jupyter-widgets/base",
      "model_module_version": "1.2.0",
      "model_name": "LayoutModel",
      "state": {
       "_model_module": "@jupyter-widgets/base",
       "_model_module_version": "1.2.0",
       "_model_name": "LayoutModel",
       "_view_count": null,
       "_view_module": "@jupyter-widgets/base",
       "_view_module_version": "1.2.0",
       "_view_name": "LayoutView",
       "align_content": null,
       "align_items": null,
       "align_self": null,
       "border": null,
       "bottom": null,
       "display": null,
       "flex": null,
       "flex_flow": null,
       "grid_area": null,
       "grid_auto_columns": null,
       "grid_auto_flow": null,
       "grid_auto_rows": null,
       "grid_column": null,
       "grid_gap": null,
       "grid_row": null,
       "grid_template_areas": null,
       "grid_template_columns": null,
       "grid_template_rows": null,
       "height": null,
       "justify_content": null,
       "justify_items": null,
       "left": null,
       "margin": null,
       "max_height": null,
       "max_width": null,
       "min_height": null,
       "min_width": null,
       "object_fit": null,
       "object_position": null,
       "order": null,
       "overflow": null,
       "overflow_x": null,
       "overflow_y": null,
       "padding": null,
       "right": null,
       "top": null,
       "visibility": null,
       "width": null
      }
     },
     "1638b36ab07346459d2dadf390c619a9": {
      "model_module": "@jupyter-widgets/controls",
      "model_module_version": "1.5.0",
      "model_name": "HTMLModel",
      "state": {
       "_dom_classes": [],
       "_model_module": "@jupyter-widgets/controls",
       "_model_module_version": "1.5.0",
       "_model_name": "HTMLModel",
       "_view_count": null,
       "_view_module": "@jupyter-widgets/controls",
       "_view_module_version": "1.5.0",
       "_view_name": "HTMLView",
       "description": "",
       "description_tooltip": null,
       "layout": "IPY_MODEL_b48bc0630cb04209b65a911ba4a3f724",
       "placeholder": "​",
       "style": "IPY_MODEL_53b0af16144749b996de7e7b0e9c0a8b",
       "value": " 226k/226k [00:00&lt;00:00, 889kB/s]"
      }
     },
     "198531fc000d42b68ffabd1a15c7fbc3": {
      "model_module": "@jupyter-widgets/controls",
      "model_module_version": "1.5.0",
      "model_name": "ProgressStyleModel",
      "state": {
       "_model_module": "@jupyter-widgets/controls",
       "_model_module_version": "1.5.0",
       "_model_name": "ProgressStyleModel",
       "_view_count": null,
       "_view_module": "@jupyter-widgets/base",
       "_view_module_version": "1.2.0",
       "_view_name": "StyleView",
       "bar_color": null,
       "description_width": ""
      }
     },
     "1ab9c7dad62a44679c1f162e265b4f46": {
      "model_module": "@jupyter-widgets/controls",
      "model_module_version": "1.5.0",
      "model_name": "DescriptionStyleModel",
      "state": {
       "_model_module": "@jupyter-widgets/controls",
       "_model_module_version": "1.5.0",
       "_model_name": "DescriptionStyleModel",
       "_view_count": null,
       "_view_module": "@jupyter-widgets/base",
       "_view_module_version": "1.2.0",
       "_view_name": "StyleView",
       "description_width": ""
      }
     },
     "1dd1c6f10f7d4852a8a89f3c38ec4ff0": {
      "model_module": "@jupyter-widgets/base",
      "model_module_version": "1.2.0",
      "model_name": "LayoutModel",
      "state": {
       "_model_module": "@jupyter-widgets/base",
       "_model_module_version": "1.2.0",
       "_model_name": "LayoutModel",
       "_view_count": null,
       "_view_module": "@jupyter-widgets/base",
       "_view_module_version": "1.2.0",
       "_view_name": "LayoutView",
       "align_content": null,
       "align_items": null,
       "align_self": null,
       "border": null,
       "bottom": null,
       "display": null,
       "flex": null,
       "flex_flow": null,
       "grid_area": null,
       "grid_auto_columns": null,
       "grid_auto_flow": null,
       "grid_auto_rows": null,
       "grid_column": null,
       "grid_gap": null,
       "grid_row": null,
       "grid_template_areas": null,
       "grid_template_columns": null,
       "grid_template_rows": null,
       "height": null,
       "justify_content": null,
       "justify_items": null,
       "left": null,
       "margin": null,
       "max_height": null,
       "max_width": null,
       "min_height": null,
       "min_width": null,
       "object_fit": null,
       "object_position": null,
       "order": null,
       "overflow": null,
       "overflow_x": null,
       "overflow_y": null,
       "padding": null,
       "right": null,
       "top": null,
       "visibility": null,
       "width": null
      }
     },
     "1edbaea743e34d699860bc36d4edb186": {
      "model_module": "@jupyter-widgets/controls",
      "model_module_version": "1.5.0",
      "model_name": "DescriptionStyleModel",
      "state": {
       "_model_module": "@jupyter-widgets/controls",
       "_model_module_version": "1.5.0",
       "_model_name": "DescriptionStyleModel",
       "_view_count": null,
       "_view_module": "@jupyter-widgets/base",
       "_view_module_version": "1.2.0",
       "_view_name": "StyleView",
       "description_width": ""
      }
     },
     "1fc95d3294a54799979d3c729ab4a83d": {
      "model_module": "@jupyter-widgets/controls",
      "model_module_version": "1.5.0",
      "model_name": "HTMLModel",
      "state": {
       "_dom_classes": [],
       "_model_module": "@jupyter-widgets/controls",
       "_model_module_version": "1.5.0",
       "_model_name": "HTMLModel",
       "_view_count": null,
       "_view_module": "@jupyter-widgets/controls",
       "_view_module_version": "1.5.0",
       "_view_name": "HTMLView",
       "description": "",
       "description_tooltip": null,
       "layout": "IPY_MODEL_b183875868624f86a402b5e6f4716c17",
       "placeholder": "​",
       "style": "IPY_MODEL_91611005881143f2b6a9dc0d9280ad4a",
       "value": "Downloading: 100%"
      }
     },
     "1fe570ec274e44a09b628c8be3d49ad0": {
      "model_module": "@jupyter-widgets/base",
      "model_module_version": "1.2.0",
      "model_name": "LayoutModel",
      "state": {
       "_model_module": "@jupyter-widgets/base",
       "_model_module_version": "1.2.0",
       "_model_name": "LayoutModel",
       "_view_count": null,
       "_view_module": "@jupyter-widgets/base",
       "_view_module_version": "1.2.0",
       "_view_name": "LayoutView",
       "align_content": null,
       "align_items": null,
       "align_self": null,
       "border": null,
       "bottom": null,
       "display": null,
       "flex": null,
       "flex_flow": null,
       "grid_area": null,
       "grid_auto_columns": null,
       "grid_auto_flow": null,
       "grid_auto_rows": null,
       "grid_column": null,
       "grid_gap": null,
       "grid_row": null,
       "grid_template_areas": null,
       "grid_template_columns": null,
       "grid_template_rows": null,
       "height": null,
       "justify_content": null,
       "justify_items": null,
       "left": null,
       "margin": null,
       "max_height": null,
       "max_width": null,
       "min_height": null,
       "min_width": null,
       "object_fit": null,
       "object_position": null,
       "order": null,
       "overflow": null,
       "overflow_x": null,
       "overflow_y": null,
       "padding": null,
       "right": null,
       "top": null,
       "visibility": null,
       "width": null
      }
     },
     "21e06785a41e47d9be185f276262e21c": {
      "model_module": "@jupyter-widgets/controls",
      "model_module_version": "1.5.0",
      "model_name": "HTMLModel",
      "state": {
       "_dom_classes": [],
       "_model_module": "@jupyter-widgets/controls",
       "_model_module_version": "1.5.0",
       "_model_name": "HTMLModel",
       "_view_count": null,
       "_view_module": "@jupyter-widgets/controls",
       "_view_module_version": "1.5.0",
       "_view_name": "HTMLView",
       "description": "",
       "description_tooltip": null,
       "layout": "IPY_MODEL_3a7364b76ad84bbc90a334d8486aae2e",
       "placeholder": "​",
       "style": "IPY_MODEL_e2a6cc2499544fe7b0dfbe20000de230",
       "value": " 483/483 [00:00&lt;00:00, 18.9kB/s]"
      }
     },
     "22189f4b0dee4c669b10777d187cd763": {
      "model_module": "@jupyter-widgets/controls",
      "model_module_version": "1.5.0",
      "model_name": "DescriptionStyleModel",
      "state": {
       "_model_module": "@jupyter-widgets/controls",
       "_model_module_version": "1.5.0",
       "_model_name": "DescriptionStyleModel",
       "_view_count": null,
       "_view_module": "@jupyter-widgets/base",
       "_view_module_version": "1.2.0",
       "_view_name": "StyleView",
       "description_width": ""
      }
     },
     "224e01a99ffd422c8024259906d1de74": {
      "model_module": "@jupyter-widgets/controls",
      "model_module_version": "1.5.0",
      "model_name": "ProgressStyleModel",
      "state": {
       "_model_module": "@jupyter-widgets/controls",
       "_model_module_version": "1.5.0",
       "_model_name": "ProgressStyleModel",
       "_view_count": null,
       "_view_module": "@jupyter-widgets/base",
       "_view_module_version": "1.2.0",
       "_view_name": "StyleView",
       "bar_color": null,
       "description_width": ""
      }
     },
     "2268d3565c7f454fb79b54f705bcb555": {
      "model_module": "@jupyter-widgets/controls",
      "model_module_version": "1.5.0",
      "model_name": "HTMLModel",
      "state": {
       "_dom_classes": [],
       "_model_module": "@jupyter-widgets/controls",
       "_model_module_version": "1.5.0",
       "_model_name": "HTMLModel",
       "_view_count": null,
       "_view_module": "@jupyter-widgets/controls",
       "_view_module_version": "1.5.0",
       "_view_name": "HTMLView",
       "description": "",
       "description_tooltip": null,
       "layout": "IPY_MODEL_f4bc24ef0b9f44b480771e6d8f6fdf1f",
       "placeholder": "​",
       "style": "IPY_MODEL_0fa85c51fbcd4fa781bea80e2e369b35",
       "value": " 253M/253M [00:12&lt;00:00, 23.7MB/s]"
      }
     },
     "23820fcad75d4a609797afe5f730b16a": {
      "model_module": "@jupyter-widgets/controls",
      "model_module_version": "1.5.0",
      "model_name": "DescriptionStyleModel",
      "state": {
       "_model_module": "@jupyter-widgets/controls",
       "_model_module_version": "1.5.0",
       "_model_name": "DescriptionStyleModel",
       "_view_count": null,
       "_view_module": "@jupyter-widgets/base",
       "_view_module_version": "1.2.0",
       "_view_name": "StyleView",
       "description_width": ""
      }
     },
     "24cfe65b65eb4d679197c37033b5bb3b": {
      "model_module": "@jupyter-widgets/controls",
      "model_module_version": "1.5.0",
      "model_name": "HTMLModel",
      "state": {
       "_dom_classes": [],
       "_model_module": "@jupyter-widgets/controls",
       "_model_module_version": "1.5.0",
       "_model_name": "HTMLModel",
       "_view_count": null,
       "_view_module": "@jupyter-widgets/controls",
       "_view_module_version": "1.5.0",
       "_view_name": "HTMLView",
       "description": "",
       "description_tooltip": null,
       "layout": "IPY_MODEL_44d75cce0e8842019ff03734fb118f02",
       "placeholder": "​",
       "style": "IPY_MODEL_23820fcad75d4a609797afe5f730b16a",
       "value": " 6.34k/? [00:00&lt;00:00, 245kB/s]"
      }
     },
     "25936951f13a4267b574bcd4c3b04ee1": {
      "model_module": "@jupyter-widgets/controls",
      "model_module_version": "1.5.0",
      "model_name": "ProgressStyleModel",
      "state": {
       "_model_module": "@jupyter-widgets/controls",
       "_model_module_version": "1.5.0",
       "_model_name": "ProgressStyleModel",
       "_view_count": null,
       "_view_module": "@jupyter-widgets/base",
       "_view_module_version": "1.2.0",
       "_view_name": "StyleView",
       "bar_color": null,
       "description_width": ""
      }
     },
     "263c7a4863e44932b6ed3ba6c7b16df9": {
      "model_module": "@jupyter-widgets/controls",
      "model_module_version": "1.5.0",
      "model_name": "HTMLModel",
      "state": {
       "_dom_classes": [],
       "_model_module": "@jupyter-widgets/controls",
       "_model_module_version": "1.5.0",
       "_model_name": "HTMLModel",
       "_view_count": null,
       "_view_module": "@jupyter-widgets/controls",
       "_view_module_version": "1.5.0",
       "_view_name": "HTMLView",
       "description": "",
       "description_tooltip": null,
       "layout": "IPY_MODEL_11977c9542d3433985f2ff236ffeec8d",
       "placeholder": "​",
       "style": "IPY_MODEL_3d4b89547a8a4c2e9ffa63d72a978772",
       "value": "Downloading: 100%"
      }
     },
     "265d5959dfe248928f8d48e7a9c3e8c8": {
      "model_module": "@jupyter-widgets/controls",
      "model_module_version": "1.5.0",
      "model_name": "PasswordModel",
      "state": {
       "_dom_classes": [],
       "_model_module": "@jupyter-widgets/controls",
       "_model_module_version": "1.5.0",
       "_model_name": "PasswordModel",
       "_view_count": null,
       "_view_module": "@jupyter-widgets/controls",
       "_view_module_version": "1.5.0",
       "_view_name": "PasswordView",
       "continuous_update": true,
       "description": "Password:",
       "description_tooltip": null,
       "disabled": false,
       "layout": "IPY_MODEL_7403e5cf7ebe448a8b23d31f2122f6e3",
       "placeholder": "​",
       "style": "IPY_MODEL_4ad7d468feb34c66b508d79d1672edca",
       "value": ""
      }
     },
     "2d192549378841a79fb6b306edce3149": {
      "model_module": "@jupyter-widgets/base",
      "model_module_version": "1.2.0",
      "model_name": "LayoutModel",
      "state": {
       "_model_module": "@jupyter-widgets/base",
       "_model_module_version": "1.2.0",
       "_model_name": "LayoutModel",
       "_view_count": null,
       "_view_module": "@jupyter-widgets/base",
       "_view_module_version": "1.2.0",
       "_view_name": "LayoutView",
       "align_content": null,
       "align_items": null,
       "align_self": null,
       "border": null,
       "bottom": null,
       "display": null,
       "flex": null,
       "flex_flow": null,
       "grid_area": null,
       "grid_auto_columns": null,
       "grid_auto_flow": null,
       "grid_auto_rows": null,
       "grid_column": null,
       "grid_gap": null,
       "grid_row": null,
       "grid_template_areas": null,
       "grid_template_columns": null,
       "grid_template_rows": null,
       "height": null,
       "justify_content": null,
       "justify_items": null,
       "left": null,
       "margin": null,
       "max_height": null,
       "max_width": null,
       "min_height": null,
       "min_width": null,
       "object_fit": null,
       "object_position": null,
       "order": null,
       "overflow": null,
       "overflow_x": null,
       "overflow_y": null,
       "padding": null,
       "right": null,
       "top": null,
       "visibility": null,
       "width": null
      }
     },
     "2d448fdaf9c34232bfd7ddfaec25e7f0": {
      "model_module": "@jupyter-widgets/base",
      "model_module_version": "1.2.0",
      "model_name": "LayoutModel",
      "state": {
       "_model_module": "@jupyter-widgets/base",
       "_model_module_version": "1.2.0",
       "_model_name": "LayoutModel",
       "_view_count": null,
       "_view_module": "@jupyter-widgets/base",
       "_view_module_version": "1.2.0",
       "_view_name": "LayoutView",
       "align_content": null,
       "align_items": "center",
       "align_self": null,
       "border": null,
       "bottom": null,
       "display": "flex",
       "flex": null,
       "flex_flow": "column",
       "grid_area": null,
       "grid_auto_columns": null,
       "grid_auto_flow": null,
       "grid_auto_rows": null,
       "grid_column": null,
       "grid_gap": null,
       "grid_row": null,
       "grid_template_areas": null,
       "grid_template_columns": null,
       "grid_template_rows": null,
       "height": null,
       "justify_content": null,
       "justify_items": null,
       "left": null,
       "margin": null,
       "max_height": null,
       "max_width": null,
       "min_height": null,
       "min_width": null,
       "object_fit": null,
       "object_position": null,
       "order": null,
       "overflow": null,
       "overflow_x": null,
       "overflow_y": null,
       "padding": null,
       "right": null,
       "top": null,
       "visibility": null,
       "width": "50%"
      }
     },
     "2da271b1bce940ddb3f520a0a0461c42": {
      "model_module": "@jupyter-widgets/base",
      "model_module_version": "1.2.0",
      "model_name": "LayoutModel",
      "state": {
       "_model_module": "@jupyter-widgets/base",
       "_model_module_version": "1.2.0",
       "_model_name": "LayoutModel",
       "_view_count": null,
       "_view_module": "@jupyter-widgets/base",
       "_view_module_version": "1.2.0",
       "_view_name": "LayoutView",
       "align_content": null,
       "align_items": null,
       "align_self": null,
       "border": null,
       "bottom": null,
       "display": null,
       "flex": null,
       "flex_flow": null,
       "grid_area": null,
       "grid_auto_columns": null,
       "grid_auto_flow": null,
       "grid_auto_rows": null,
       "grid_column": null,
       "grid_gap": null,
       "grid_row": null,
       "grid_template_areas": null,
       "grid_template_columns": null,
       "grid_template_rows": null,
       "height": null,
       "justify_content": null,
       "justify_items": null,
       "left": null,
       "margin": null,
       "max_height": null,
       "max_width": null,
       "min_height": null,
       "min_width": null,
       "object_fit": null,
       "object_position": null,
       "order": null,
       "overflow": null,
       "overflow_x": null,
       "overflow_y": null,
       "padding": null,
       "right": null,
       "top": null,
       "visibility": null,
       "width": null
      }
     },
     "32a95c0902874082960bca0206c8e0a7": {
      "model_module": "@jupyter-widgets/controls",
      "model_module_version": "1.5.0",
      "model_name": "HBoxModel",
      "state": {
       "_dom_classes": [],
       "_model_module": "@jupyter-widgets/controls",
       "_model_module_version": "1.5.0",
       "_model_name": "HBoxModel",
       "_view_count": null,
       "_view_module": "@jupyter-widgets/controls",
       "_view_module_version": "1.5.0",
       "_view_name": "HBoxView",
       "box_style": "",
       "children": [
        "IPY_MODEL_07e907a5252440878587bf0814eabbbf",
        "IPY_MODEL_b8779bd4bfa34221a42525bc25cde2c1",
        "IPY_MODEL_d8ce609543b0499bbb0aeb320ed5ca9e"
       ],
       "layout": "IPY_MODEL_c1a488669bc64e8a9255b679efda5077"
      }
     },
     "32d02a66eeb34f89b4233b094e5b96ab": {
      "model_module": "@jupyter-widgets/controls",
      "model_module_version": "1.5.0",
      "model_name": "HTMLModel",
      "state": {
       "_dom_classes": [],
       "_model_module": "@jupyter-widgets/controls",
       "_model_module_version": "1.5.0",
       "_model_name": "HTMLModel",
       "_view_count": null,
       "_view_module": "@jupyter-widgets/controls",
       "_view_module_version": "1.5.0",
       "_view_name": "HTMLView",
       "description": "",
       "description_tooltip": null,
       "layout": "IPY_MODEL_f254b9c8d1bc46b08d916ee4ddbabe45",
       "placeholder": "​",
       "style": "IPY_MODEL_0b527452e28242ea9e2fc530ad3fb3e1",
       "value": "Downloading: 100%"
      }
     },
     "35da4f5241534d71b796a57095bee9ec": {
      "model_module": "@jupyter-widgets/controls",
      "model_module_version": "1.5.0",
      "model_name": "FloatProgressModel",
      "state": {
       "_dom_classes": [],
       "_model_module": "@jupyter-widgets/controls",
       "_model_module_version": "1.5.0",
       "_model_name": "FloatProgressModel",
       "_view_count": null,
       "_view_module": "@jupyter-widgets/controls",
       "_view_module_version": "1.5.0",
       "_view_name": "ProgressView",
       "bar_style": "success",
       "description": "",
       "description_tooltip": null,
       "layout": "IPY_MODEL_1dd1c6f10f7d4852a8a89f3c38ec4ff0",
       "max": 466247.0,
       "min": 0.0,
       "orientation": "horizontal",
       "style": "IPY_MODEL_224e01a99ffd422c8024259906d1de74",
       "value": 466247.0
      }
     },
     "3690fb7dc80f438cba5ac50c813a9a1d": {
      "model_module": "@jupyter-widgets/controls",
      "model_module_version": "1.5.0",
      "model_name": "DescriptionStyleModel",
      "state": {
       "_model_module": "@jupyter-widgets/controls",
       "_model_module_version": "1.5.0",
       "_model_name": "DescriptionStyleModel",
       "_view_count": null,
       "_view_module": "@jupyter-widgets/base",
       "_view_module_version": "1.2.0",
       "_view_name": "StyleView",
       "description_width": ""
      }
     },
     "369908b901254657a78033935e1b41b9": {
      "model_module": "@jupyter-widgets/controls",
      "model_module_version": "1.5.0",
      "model_name": "HTMLModel",
      "state": {
       "_dom_classes": [],
       "_model_module": "@jupyter-widgets/controls",
       "_model_module_version": "1.5.0",
       "_model_name": "HTMLModel",
       "_view_count": null,
       "_view_module": "@jupyter-widgets/controls",
       "_view_module_version": "1.5.0",
       "_view_name": "HTMLView",
       "description": "",
       "description_tooltip": null,
       "layout": "IPY_MODEL_b1c91cf140e347d4b0fbf4d25fea2b44",
       "placeholder": "​",
       "style": "IPY_MODEL_8a104869809b47a89e99c7f046ee40d9",
       "value": "100%"
      }
     },
     "3800ea10484e4b28ad383f277e6e448b": {
      "model_module": "@jupyter-widgets/controls",
      "model_module_version": "1.5.0",
      "model_name": "HTMLModel",
      "state": {
       "_dom_classes": [],
       "_model_module": "@jupyter-widgets/controls",
       "_model_module_version": "1.5.0",
       "_model_name": "HTMLModel",
       "_view_count": null,
       "_view_module": "@jupyter-widgets/controls",
       "_view_module_version": "1.5.0",
       "_view_name": "HTMLView",
       "description": "",
       "description_tooltip": null,
       "layout": "IPY_MODEL_c3a47e0abf294c598c5255824a12a8b3",
       "placeholder": "​",
       "style": "IPY_MODEL_22189f4b0dee4c669b10777d187cd763",
       "value": "<center>\n<img src=https://huggingface.co/front/assets/huggingface_logo-noborder.svg alt='Hugging Face'>\n<br>\n<b>The AI community building the future</b>\n<br>\nImmediately click login after typing your password or it might be stored in plain text in this notebook file.\n</center>"
      }
     },
     "3a7364b76ad84bbc90a334d8486aae2e": {
      "model_module": "@jupyter-widgets/base",
      "model_module_version": "1.2.0",
      "model_name": "LayoutModel",
      "state": {
       "_model_module": "@jupyter-widgets/base",
       "_model_module_version": "1.2.0",
       "_model_name": "LayoutModel",
       "_view_count": null,
       "_view_module": "@jupyter-widgets/base",
       "_view_module_version": "1.2.0",
       "_view_name": "LayoutView",
       "align_content": null,
       "align_items": null,
       "align_self": null,
       "border": null,
       "bottom": null,
       "display": null,
       "flex": null,
       "flex_flow": null,
       "grid_area": null,
       "grid_auto_columns": null,
       "grid_auto_flow": null,
       "grid_auto_rows": null,
       "grid_column": null,
       "grid_gap": null,
       "grid_row": null,
       "grid_template_areas": null,
       "grid_template_columns": null,
       "grid_template_rows": null,
       "height": null,
       "justify_content": null,
       "justify_items": null,
       "left": null,
       "margin": null,
       "max_height": null,
       "max_width": null,
       "min_height": null,
       "min_width": null,
       "object_fit": null,
       "object_position": null,
       "order": null,
       "overflow": null,
       "overflow_x": null,
       "overflow_y": null,
       "padding": null,
       "right": null,
       "top": null,
       "visibility": null,
       "width": null
      }
     },
     "3a859070caee408aabf2878675b46e7d": {
      "model_module": "@jupyter-widgets/controls",
      "model_module_version": "1.5.0",
      "model_name": "HBoxModel",
      "state": {
       "_dom_classes": [],
       "_model_module": "@jupyter-widgets/controls",
       "_model_module_version": "1.5.0",
       "_model_name": "HBoxModel",
       "_view_count": null,
       "_view_module": "@jupyter-widgets/controls",
       "_view_module_version": "1.5.0",
       "_view_name": "HBoxView",
       "box_style": "",
       "children": [
        "IPY_MODEL_e97bc5b10fca40d5b2f16acc72ecc2eb",
        "IPY_MODEL_0a3460f6502c4e77a348ec012a9ee693",
        "IPY_MODEL_24cfe65b65eb4d679197c37033b5bb3b"
       ],
       "layout": "IPY_MODEL_ded533329b71496da9ad141dec2f6027"
      }
     },
     "3c5cd5f3a1ee4cb6b42cc10f94f579ba": {
      "model_module": "@jupyter-widgets/base",
      "model_module_version": "1.2.0",
      "model_name": "LayoutModel",
      "state": {
       "_model_module": "@jupyter-widgets/base",
       "_model_module_version": "1.2.0",
       "_model_name": "LayoutModel",
       "_view_count": null,
       "_view_module": "@jupyter-widgets/base",
       "_view_module_version": "1.2.0",
       "_view_name": "LayoutView",
       "align_content": null,
       "align_items": null,
       "align_self": null,
       "border": null,
       "bottom": null,
       "display": null,
       "flex": null,
       "flex_flow": null,
       "grid_area": null,
       "grid_auto_columns": null,
       "grid_auto_flow": null,
       "grid_auto_rows": null,
       "grid_column": null,
       "grid_gap": null,
       "grid_row": null,
       "grid_template_areas": null,
       "grid_template_columns": null,
       "grid_template_rows": null,
       "height": null,
       "justify_content": null,
       "justify_items": null,
       "left": null,
       "margin": null,
       "max_height": null,
       "max_width": null,
       "min_height": null,
       "min_width": null,
       "object_fit": null,
       "object_position": null,
       "order": null,
       "overflow": null,
       "overflow_x": null,
       "overflow_y": null,
       "padding": null,
       "right": null,
       "top": null,
       "visibility": null,
       "width": null
      }
     },
     "3cfb745fae4b4c51960b8f3e5b762e82": {
      "model_module": "@jupyter-widgets/controls",
      "model_module_version": "1.5.0",
      "model_name": "HBoxModel",
      "state": {
       "_dom_classes": [],
       "_model_module": "@jupyter-widgets/controls",
       "_model_module_version": "1.5.0",
       "_model_name": "HBoxModel",
       "_view_count": null,
       "_view_module": "@jupyter-widgets/controls",
       "_view_module_version": "1.5.0",
       "_view_name": "HBoxView",
       "box_style": "",
       "children": [
        "IPY_MODEL_0fd897c42ba5473db7344bfe15004829",
        "IPY_MODEL_5c17280c1e96407b9876f3014cb41bdd",
        "IPY_MODEL_c4e95075535144d2bf5ef24f5163f37d"
       ],
       "layout": "IPY_MODEL_8f22d39c5fa14d8793380026c9fc3821"
      }
     },
     "3d4b89547a8a4c2e9ffa63d72a978772": {
      "model_module": "@jupyter-widgets/controls",
      "model_module_version": "1.5.0",
      "model_name": "DescriptionStyleModel",
      "state": {
       "_model_module": "@jupyter-widgets/controls",
       "_model_module_version": "1.5.0",
       "_model_name": "DescriptionStyleModel",
       "_view_count": null,
       "_view_module": "@jupyter-widgets/base",
       "_view_module_version": "1.2.0",
       "_view_name": "StyleView",
       "description_width": ""
      }
     },
     "3db2322056b7495b80bd06cbfbbd30a6": {
      "model_module": "@jupyter-widgets/controls",
      "model_module_version": "1.5.0",
      "model_name": "HTMLModel",
      "state": {
       "_dom_classes": [],
       "_model_module": "@jupyter-widgets/controls",
       "_model_module_version": "1.5.0",
       "_model_name": "HTMLModel",
       "_view_count": null,
       "_view_module": "@jupyter-widgets/controls",
       "_view_module_version": "1.5.0",
       "_view_name": "HTMLView",
       "description": "",
       "description_tooltip": null,
       "layout": "IPY_MODEL_0eef4e92f6a34d7ea8e535f9235c7b2a",
       "placeholder": "​",
       "style": "IPY_MODEL_c61bb1e805d04fafb7498e0e1ddd236e",
       "value": "Downloading: 100%"
      }
     },
     "3f523bb5f1bc4c488204185313febd2e": {
      "model_module": "@jupyter-widgets/controls",
      "model_module_version": "1.5.0",
      "model_name": "ProgressStyleModel",
      "state": {
       "_model_module": "@jupyter-widgets/controls",
       "_model_module_version": "1.5.0",
       "_model_name": "ProgressStyleModel",
       "_view_count": null,
       "_view_module": "@jupyter-widgets/base",
       "_view_module_version": "1.2.0",
       "_view_name": "StyleView",
       "bar_color": null,
       "description_width": ""
      }
     },
     "414cfb1eeb1943f1890ad7655b24b266": {
      "model_module": "@jupyter-widgets/base",
      "model_module_version": "1.2.0",
      "model_name": "LayoutModel",
      "state": {
       "_model_module": "@jupyter-widgets/base",
       "_model_module_version": "1.2.0",
       "_model_name": "LayoutModel",
       "_view_count": null,
       "_view_module": "@jupyter-widgets/base",
       "_view_module_version": "1.2.0",
       "_view_name": "LayoutView",
       "align_content": null,
       "align_items": null,
       "align_self": null,
       "border": null,
       "bottom": null,
       "display": null,
       "flex": null,
       "flex_flow": null,
       "grid_area": null,
       "grid_auto_columns": null,
       "grid_auto_flow": null,
       "grid_auto_rows": null,
       "grid_column": null,
       "grid_gap": null,
       "grid_row": null,
       "grid_template_areas": null,
       "grid_template_columns": null,
       "grid_template_rows": null,
       "height": null,
       "justify_content": null,
       "justify_items": null,
       "left": null,
       "margin": null,
       "max_height": null,
       "max_width": null,
       "min_height": null,
       "min_width": null,
       "object_fit": null,
       "object_position": null,
       "order": null,
       "overflow": null,
       "overflow_x": null,
       "overflow_y": null,
       "padding": null,
       "right": null,
       "top": null,
       "visibility": null,
       "width": null
      }
     },
     "43651d770624429c9ee1abca0e739dfa": {
      "model_module": "@jupyter-widgets/base",
      "model_module_version": "1.2.0",
      "model_name": "LayoutModel",
      "state": {
       "_model_module": "@jupyter-widgets/base",
       "_model_module_version": "1.2.0",
       "_model_name": "LayoutModel",
       "_view_count": null,
       "_view_module": "@jupyter-widgets/base",
       "_view_module_version": "1.2.0",
       "_view_name": "LayoutView",
       "align_content": null,
       "align_items": null,
       "align_self": null,
       "border": null,
       "bottom": null,
       "display": null,
       "flex": null,
       "flex_flow": null,
       "grid_area": null,
       "grid_auto_columns": null,
       "grid_auto_flow": null,
       "grid_auto_rows": null,
       "grid_column": null,
       "grid_gap": null,
       "grid_row": null,
       "grid_template_areas": null,
       "grid_template_columns": null,
       "grid_template_rows": null,
       "height": null,
       "justify_content": null,
       "justify_items": null,
       "left": null,
       "margin": null,
       "max_height": null,
       "max_width": null,
       "min_height": null,
       "min_width": null,
       "object_fit": null,
       "object_position": null,
       "order": null,
       "overflow": null,
       "overflow_x": null,
       "overflow_y": null,
       "padding": null,
       "right": null,
       "top": null,
       "visibility": null,
       "width": null
      }
     },
     "44d75cce0e8842019ff03734fb118f02": {
      "model_module": "@jupyter-widgets/base",
      "model_module_version": "1.2.0",
      "model_name": "LayoutModel",
      "state": {
       "_model_module": "@jupyter-widgets/base",
       "_model_module_version": "1.2.0",
       "_model_name": "LayoutModel",
       "_view_count": null,
       "_view_module": "@jupyter-widgets/base",
       "_view_module_version": "1.2.0",
       "_view_name": "LayoutView",
       "align_content": null,
       "align_items": null,
       "align_self": null,
       "border": null,
       "bottom": null,
       "display": null,
       "flex": null,
       "flex_flow": null,
       "grid_area": null,
       "grid_auto_columns": null,
       "grid_auto_flow": null,
       "grid_auto_rows": null,
       "grid_column": null,
       "grid_gap": null,
       "grid_row": null,
       "grid_template_areas": null,
       "grid_template_columns": null,
       "grid_template_rows": null,
       "height": null,
       "justify_content": null,
       "justify_items": null,
       "left": null,
       "margin": null,
       "max_height": null,
       "max_width": null,
       "min_height": null,
       "min_width": null,
       "object_fit": null,
       "object_position": null,
       "order": null,
       "overflow": null,
       "overflow_x": null,
       "overflow_y": null,
       "padding": null,
       "right": null,
       "top": null,
       "visibility": null,
       "width": null
      }
     },
     "44d82f966566443db659dbf234fc0374": {
      "model_module": "@jupyter-widgets/controls",
      "model_module_version": "1.5.0",
      "model_name": "HTMLModel",
      "state": {
       "_dom_classes": [],
       "_model_module": "@jupyter-widgets/controls",
       "_model_module_version": "1.5.0",
       "_model_name": "HTMLModel",
       "_view_count": null,
       "_view_module": "@jupyter-widgets/controls",
       "_view_module_version": "1.5.0",
       "_view_name": "HTMLView",
       "description": "",
       "description_tooltip": null,
       "layout": "IPY_MODEL_414cfb1eeb1943f1890ad7655b24b266",
       "placeholder": "​",
       "style": "IPY_MODEL_4d36974df4c943da9379f5cbcc48b12b",
       "value": " 15594/15594 [00:42&lt;00:00, 357.81it/s]"
      }
     },
     "48d0898baf05418cb2f5e2c3cf595b77": {
      "model_module": "@jupyter-widgets/controls",
      "model_module_version": "1.5.0",
      "model_name": "ProgressStyleModel",
      "state": {
       "_model_module": "@jupyter-widgets/controls",
       "_model_module_version": "1.5.0",
       "_model_name": "ProgressStyleModel",
       "_view_count": null,
       "_view_module": "@jupyter-widgets/base",
       "_view_module_version": "1.2.0",
       "_view_name": "StyleView",
       "bar_color": null,
       "description_width": ""
      }
     },
     "4ad7d468feb34c66b508d79d1672edca": {
      "model_module": "@jupyter-widgets/controls",
      "model_module_version": "1.5.0",
      "model_name": "DescriptionStyleModel",
      "state": {
       "_model_module": "@jupyter-widgets/controls",
       "_model_module_version": "1.5.0",
       "_model_name": "DescriptionStyleModel",
       "_view_count": null,
       "_view_module": "@jupyter-widgets/base",
       "_view_module_version": "1.2.0",
       "_view_name": "StyleView",
       "description_width": ""
      }
     },
     "4d36974df4c943da9379f5cbcc48b12b": {
      "model_module": "@jupyter-widgets/controls",
      "model_module_version": "1.5.0",
      "model_name": "DescriptionStyleModel",
      "state": {
       "_model_module": "@jupyter-widgets/controls",
       "_model_module_version": "1.5.0",
       "_model_name": "DescriptionStyleModel",
       "_view_count": null,
       "_view_module": "@jupyter-widgets/base",
       "_view_module_version": "1.2.0",
       "_view_name": "StyleView",
       "description_width": ""
      }
     },
     "4d99da33bc6249c88ee0c25f273eb4e6": {
      "model_module": "@jupyter-widgets/controls",
      "model_module_version": "1.5.0",
      "model_name": "DescriptionStyleModel",
      "state": {
       "_model_module": "@jupyter-widgets/controls",
       "_model_module_version": "1.5.0",
       "_model_name": "DescriptionStyleModel",
       "_view_count": null,
       "_view_module": "@jupyter-widgets/base",
       "_view_module_version": "1.2.0",
       "_view_name": "StyleView",
       "description_width": ""
      }
     },
     "4e09abc00ac74d80a2918b6065c230f9": {
      "model_module": "@jupyter-widgets/controls",
      "model_module_version": "1.5.0",
      "model_name": "FloatProgressModel",
      "state": {
       "_dom_classes": [],
       "_model_module": "@jupyter-widgets/controls",
       "_model_module_version": "1.5.0",
       "_model_name": "FloatProgressModel",
       "_view_count": null,
       "_view_module": "@jupyter-widgets/controls",
       "_view_module_version": "1.5.0",
       "_view_name": "ProgressView",
       "bar_style": "success",
       "description": "",
       "description_tooltip": null,
       "layout": "IPY_MODEL_9f44db2e00314058b17085ac2ce52c78",
       "max": 265580085.0,
       "min": 0.0,
       "orientation": "horizontal",
       "style": "IPY_MODEL_e5e621972e4640a289a6ccb446b65896",
       "value": 265580085.0
      }
     },
     "503a55d97ed54105a8e63c69677819e6": {
      "model_module": "@jupyter-widgets/controls",
      "model_module_version": "1.5.0",
      "model_name": "FloatProgressModel",
      "state": {
       "_dom_classes": [],
       "_model_module": "@jupyter-widgets/controls",
       "_model_module_version": "1.5.0",
       "_model_name": "FloatProgressModel",
       "_view_count": null,
       "_view_module": "@jupyter-widgets/controls",
       "_view_module_version": "1.5.0",
       "_view_name": "ProgressView",
       "bar_style": "success",
       "description": "",
       "description_tooltip": null,
       "layout": "IPY_MODEL_bf415ebe53c1410285fc59ed86d70ef1",
       "max": 483.0,
       "min": 0.0,
       "orientation": "horizontal",
       "style": "IPY_MODEL_a996f4a67ac34370ad3a87095aec65e7",
       "value": 483.0
      }
     },
     "511a864ef0a74c28a79defe5b0c01a2c": {
      "model_module": "@jupyter-widgets/controls",
      "model_module_version": "1.5.0",
      "model_name": "HBoxModel",
      "state": {
       "_dom_classes": [],
       "_model_module": "@jupyter-widgets/controls",
       "_model_module_version": "1.5.0",
       "_model_name": "HBoxModel",
       "_view_count": null,
       "_view_module": "@jupyter-widgets/controls",
       "_view_module_version": "1.5.0",
       "_view_name": "HBoxView",
       "box_style": "",
       "children": [
        "IPY_MODEL_60d89790638a4fda86f9cd25cd5fa36e",
        "IPY_MODEL_11273703c81b4289955f3315eaef1519",
        "IPY_MODEL_dcf7f04407d04caf9445dc5fe1b902fd"
       ],
       "layout": "IPY_MODEL_7dacf7fa50ce48119680a5ea09fc100d"
      }
     },
     "53b0af16144749b996de7e7b0e9c0a8b": {
      "model_module": "@jupyter-widgets/controls",
      "model_module_version": "1.5.0",
      "model_name": "DescriptionStyleModel",
      "state": {
       "_model_module": "@jupyter-widgets/controls",
       "_model_module_version": "1.5.0",
       "_model_name": "DescriptionStyleModel",
       "_view_count": null,
       "_view_module": "@jupyter-widgets/base",
       "_view_module_version": "1.2.0",
       "_view_name": "StyleView",
       "description_width": ""
      }
     },
     "542161da750046da8b3f7f37b86d4377": {
      "model_module": "@jupyter-widgets/controls",
      "model_module_version": "1.5.0",
      "model_name": "HBoxModel",
      "state": {
       "_dom_classes": [],
       "_model_module": "@jupyter-widgets/controls",
       "_model_module_version": "1.5.0",
       "_model_name": "HBoxModel",
       "_view_count": null,
       "_view_module": "@jupyter-widgets/controls",
       "_view_module_version": "1.5.0",
       "_view_name": "HBoxView",
       "box_style": "",
       "children": [
        "IPY_MODEL_1fc95d3294a54799979d3c729ab4a83d",
        "IPY_MODEL_4e09abc00ac74d80a2918b6065c230f9",
        "IPY_MODEL_2268d3565c7f454fb79b54f705bcb555"
       ],
       "layout": "IPY_MODEL_d68433053fd24371bd0421857a8d0f6e"
      }
     },
     "59d02f457cdd449f838b17eddc4c443d": {
      "model_module": "@jupyter-widgets/base",
      "model_module_version": "1.2.0",
      "model_name": "LayoutModel",
      "state": {
       "_model_module": "@jupyter-widgets/base",
       "_model_module_version": "1.2.0",
       "_model_name": "LayoutModel",
       "_view_count": null,
       "_view_module": "@jupyter-widgets/base",
       "_view_module_version": "1.2.0",
       "_view_name": "LayoutView",
       "align_content": null,
       "align_items": null,
       "align_self": null,
       "border": null,
       "bottom": null,
       "display": null,
       "flex": null,
       "flex_flow": null,
       "grid_area": null,
       "grid_auto_columns": null,
       "grid_auto_flow": null,
       "grid_auto_rows": null,
       "grid_column": null,
       "grid_gap": null,
       "grid_row": null,
       "grid_template_areas": null,
       "grid_template_columns": null,
       "grid_template_rows": null,
       "height": null,
       "justify_content": null,
       "justify_items": null,
       "left": null,
       "margin": null,
       "max_height": null,
       "max_width": null,
       "min_height": null,
       "min_width": null,
       "object_fit": null,
       "object_position": null,
       "order": null,
       "overflow": null,
       "overflow_x": null,
       "overflow_y": null,
       "padding": null,
       "right": null,
       "top": null,
       "visibility": null,
       "width": null
      }
     },
     "5c17280c1e96407b9876f3014cb41bdd": {
      "model_module": "@jupyter-widgets/controls",
      "model_module_version": "1.5.0",
      "model_name": "FloatProgressModel",
      "state": {
       "_dom_classes": [],
       "_model_module": "@jupyter-widgets/controls",
       "_model_module_version": "1.5.0",
       "_model_name": "FloatProgressModel",
       "_view_count": null,
       "_view_module": "@jupyter-widgets/controls",
       "_view_module_version": "1.5.0",
       "_view_name": "ProgressView",
       "bar_style": "success",
       "description": "",
       "description_tooltip": null,
       "layout": "IPY_MODEL_f14aee8ef9ea4872a483247f32165eb6",
       "max": 1971.0,
       "min": 0.0,
       "orientation": "horizontal",
       "style": "IPY_MODEL_ad32d51cd183446ba617992275b08373",
       "value": 1971.0
      }
     },
     "5c3c421997bc431c98cd2e201d26b54a": {
      "model_module": "@jupyter-widgets/base",
      "model_module_version": "1.2.0",
      "model_name": "LayoutModel",
      "state": {
       "_model_module": "@jupyter-widgets/base",
       "_model_module_version": "1.2.0",
       "_model_name": "LayoutModel",
       "_view_count": null,
       "_view_module": "@jupyter-widgets/base",
       "_view_module_version": "1.2.0",
       "_view_name": "LayoutView",
       "align_content": null,
       "align_items": null,
       "align_self": null,
       "border": null,
       "bottom": null,
       "display": null,
       "flex": null,
       "flex_flow": null,
       "grid_area": null,
       "grid_auto_columns": null,
       "grid_auto_flow": null,
       "grid_auto_rows": null,
       "grid_column": null,
       "grid_gap": null,
       "grid_row": null,
       "grid_template_areas": null,
       "grid_template_columns": null,
       "grid_template_rows": null,
       "height": null,
       "justify_content": null,
       "justify_items": null,
       "left": null,
       "margin": null,
       "max_height": null,
       "max_width": null,
       "min_height": null,
       "min_width": null,
       "object_fit": null,
       "object_position": null,
       "order": null,
       "overflow": null,
       "overflow_x": null,
       "overflow_y": null,
       "padding": null,
       "right": null,
       "top": null,
       "visibility": null,
       "width": null
      }
     },
     "5c8d865c16a541479cdce30200ea109a": {
      "model_module": "@jupyter-widgets/controls",
      "model_module_version": "1.5.0",
      "model_name": "ProgressStyleModel",
      "state": {
       "_model_module": "@jupyter-widgets/controls",
       "_model_module_version": "1.5.0",
       "_model_name": "ProgressStyleModel",
       "_view_count": null,
       "_view_module": "@jupyter-widgets/base",
       "_view_module_version": "1.2.0",
       "_view_name": "StyleView",
       "bar_color": null,
       "description_width": ""
      }
     },
     "5f820b4937f1485ab415891d68ed61dc": {
      "model_module": "@jupyter-widgets/controls",
      "model_module_version": "1.5.0",
      "model_name": "ProgressStyleModel",
      "state": {
       "_model_module": "@jupyter-widgets/controls",
       "_model_module_version": "1.5.0",
       "_model_name": "ProgressStyleModel",
       "_view_count": null,
       "_view_module": "@jupyter-widgets/base",
       "_view_module_version": "1.2.0",
       "_view_name": "StyleView",
       "bar_color": null,
       "description_width": ""
      }
     },
     "5ffe0c7e33ec42ef8edb0dd1b3ffc6f7": {
      "model_module": "@jupyter-widgets/base",
      "model_module_version": "1.2.0",
      "model_name": "LayoutModel",
      "state": {
       "_model_module": "@jupyter-widgets/base",
       "_model_module_version": "1.2.0",
       "_model_name": "LayoutModel",
       "_view_count": null,
       "_view_module": "@jupyter-widgets/base",
       "_view_module_version": "1.2.0",
       "_view_name": "LayoutView",
       "align_content": null,
       "align_items": null,
       "align_self": null,
       "border": null,
       "bottom": null,
       "display": null,
       "flex": null,
       "flex_flow": null,
       "grid_area": null,
       "grid_auto_columns": null,
       "grid_auto_flow": null,
       "grid_auto_rows": null,
       "grid_column": null,
       "grid_gap": null,
       "grid_row": null,
       "grid_template_areas": null,
       "grid_template_columns": null,
       "grid_template_rows": null,
       "height": null,
       "justify_content": null,
       "justify_items": null,
       "left": null,
       "margin": null,
       "max_height": null,
       "max_width": null,
       "min_height": null,
       "min_width": null,
       "object_fit": null,
       "object_position": null,
       "order": null,
       "overflow": null,
       "overflow_x": null,
       "overflow_y": null,
       "padding": null,
       "right": null,
       "top": null,
       "visibility": null,
       "width": null
      }
     },
     "6005df9eccab48dd8adbf67b37f237cf": {
      "model_module": "@jupyter-widgets/controls",
      "model_module_version": "1.5.0",
      "model_name": "HTMLModel",
      "state": {
       "_dom_classes": [],
       "_model_module": "@jupyter-widgets/controls",
       "_model_module_version": "1.5.0",
       "_model_name": "HTMLModel",
       "_view_count": null,
       "_view_module": "@jupyter-widgets/controls",
       "_view_module_version": "1.5.0",
       "_view_name": "HTMLView",
       "description": "",
       "description_tooltip": null,
       "layout": "IPY_MODEL_aa2e6bf56c2048fc86eefceac0204d97",
       "placeholder": "​",
       "style": "IPY_MODEL_94869ac11902487899271cdcdc89a4a9",
       "value": " 455k/455k [00:00&lt;00:00, 838kB/s]"
      }
     },
     "60d89790638a4fda86f9cd25cd5fa36e": {
      "model_module": "@jupyter-widgets/controls",
      "model_module_version": "1.5.0",
      "model_name": "HTMLModel",
      "state": {
       "_dom_classes": [],
       "_model_module": "@jupyter-widgets/controls",
       "_model_module_version": "1.5.0",
       "_model_name": "HTMLModel",
       "_view_count": null,
       "_view_module": "@jupyter-widgets/controls",
       "_view_module_version": "1.5.0",
       "_view_name": "HTMLView",
       "description": "",
       "description_tooltip": null,
       "layout": "IPY_MODEL_2d192549378841a79fb6b306edce3149",
       "placeholder": "​",
       "style": "IPY_MODEL_897fe65f368548d7b9a1e1d076bda101",
       "value": "Downloading: 100%"
      }
     },
     "629c2c110bf543d1bc96ad2df80faf60": {
      "model_module": "@jupyter-widgets/controls",
      "model_module_version": "1.5.0",
      "model_name": "ProgressStyleModel",
      "state": {
       "_model_module": "@jupyter-widgets/controls",
       "_model_module_version": "1.5.0",
       "_model_name": "ProgressStyleModel",
       "_view_count": null,
       "_view_module": "@jupyter-widgets/base",
       "_view_module_version": "1.2.0",
       "_view_name": "StyleView",
       "bar_color": null,
       "description_width": ""
      }
     },
     "649d0f1afd6b47fba50b67a7900c2598": {
      "model_module": "@jupyter-widgets/controls",
      "model_module_version": "1.5.0",
      "model_name": "ProgressStyleModel",
      "state": {
       "_model_module": "@jupyter-widgets/controls",
       "_model_module_version": "1.5.0",
       "_model_name": "ProgressStyleModel",
       "_view_count": null,
       "_view_module": "@jupyter-widgets/base",
       "_view_module_version": "1.2.0",
       "_view_name": "StyleView",
       "bar_color": null,
       "description_width": ""
      }
     },
     "66103f78a93048c38428df24a21bc452": {
      "model_module": "@jupyter-widgets/base",
      "model_module_version": "1.2.0",
      "model_name": "LayoutModel",
      "state": {
       "_model_module": "@jupyter-widgets/base",
       "_model_module_version": "1.2.0",
       "_model_name": "LayoutModel",
       "_view_count": null,
       "_view_module": "@jupyter-widgets/base",
       "_view_module_version": "1.2.0",
       "_view_name": "LayoutView",
       "align_content": null,
       "align_items": null,
       "align_self": null,
       "border": null,
       "bottom": null,
       "display": null,
       "flex": null,
       "flex_flow": null,
       "grid_area": null,
       "grid_auto_columns": null,
       "grid_auto_flow": null,
       "grid_auto_rows": null,
       "grid_column": null,
       "grid_gap": null,
       "grid_row": null,
       "grid_template_areas": null,
       "grid_template_columns": null,
       "grid_template_rows": null,
       "height": null,
       "justify_content": null,
       "justify_items": null,
       "left": null,
       "margin": null,
       "max_height": null,
       "max_width": null,
       "min_height": null,
       "min_width": null,
       "object_fit": null,
       "object_position": null,
       "order": null,
       "overflow": null,
       "overflow_x": null,
       "overflow_y": null,
       "padding": null,
       "right": null,
       "top": null,
       "visibility": null,
       "width": null
      }
     },
     "6b195de8724f484a816a89bbff9ca62e": {
      "model_module": "@jupyter-widgets/controls",
      "model_module_version": "1.5.0",
      "model_name": "HTMLModel",
      "state": {
       "_dom_classes": [],
       "_model_module": "@jupyter-widgets/controls",
       "_model_module_version": "1.5.0",
       "_model_name": "HTMLModel",
       "_view_count": null,
       "_view_module": "@jupyter-widgets/controls",
       "_view_module_version": "1.5.0",
       "_view_name": "HTMLView",
       "description": "",
       "description_tooltip": null,
       "layout": "IPY_MODEL_e1172036026b4edf95f7a596e0eb3685",
       "placeholder": "​",
       "style": "IPY_MODEL_1ab9c7dad62a44679c1f162e265b4f46",
       "value": " 462/462 [00:00&lt;00:00, 18.2kB/s]"
      }
     },
     "6f73e96ec9984f4e9961b37470d8562a": {
      "model_module": "@jupyter-widgets/controls",
      "model_module_version": "1.5.0",
      "model_name": "DescriptionStyleModel",
      "state": {
       "_model_module": "@jupyter-widgets/controls",
       "_model_module_version": "1.5.0",
       "_model_name": "DescriptionStyleModel",
       "_view_count": null,
       "_view_module": "@jupyter-widgets/base",
       "_view_module_version": "1.2.0",
       "_view_name": "StyleView",
       "description_width": ""
      }
     },
     "73299e7946ce4635aac8c6f041be44ab": {
      "model_module": "@jupyter-widgets/controls",
      "model_module_version": "1.5.0",
      "model_name": "HTMLModel",
      "state": {
       "_dom_classes": [],
       "_model_module": "@jupyter-widgets/controls",
       "_model_module_version": "1.5.0",
       "_model_name": "HTMLModel",
       "_view_count": null,
       "_view_module": "@jupyter-widgets/controls",
       "_view_module_version": "1.5.0",
       "_view_name": "HTMLView",
       "description": "",
       "description_tooltip": null,
       "layout": "IPY_MODEL_97a34841f3c949f2a9c271e251c7971e",
       "placeholder": "​",
       "style": "IPY_MODEL_b6900c5a952641c59807d4b82b10c27f",
       "value": " 28.0/28.0 [00:00&lt;00:00, 1.12kB/s]"
      }
     },
     "738ca37fa29e4d0ba078dbff9a87b4f7": {
      "model_module": "@jupyter-widgets/base",
      "model_module_version": "1.2.0",
      "model_name": "LayoutModel",
      "state": {
       "_model_module": "@jupyter-widgets/base",
       "_model_module_version": "1.2.0",
       "_model_name": "LayoutModel",
       "_view_count": null,
       "_view_module": "@jupyter-widgets/base",
       "_view_module_version": "1.2.0",
       "_view_name": "LayoutView",
       "align_content": null,
       "align_items": null,
       "align_self": null,
       "border": null,
       "bottom": null,
       "display": null,
       "flex": null,
       "flex_flow": null,
       "grid_area": null,
       "grid_auto_columns": null,
       "grid_auto_flow": null,
       "grid_auto_rows": null,
       "grid_column": null,
       "grid_gap": null,
       "grid_row": null,
       "grid_template_areas": null,
       "grid_template_columns": null,
       "grid_template_rows": null,
       "height": null,
       "justify_content": null,
       "justify_items": null,
       "left": null,
       "margin": null,
       "max_height": null,
       "max_width": null,
       "min_height": null,
       "min_width": null,
       "object_fit": null,
       "object_position": null,
       "order": null,
       "overflow": null,
       "overflow_x": null,
       "overflow_y": null,
       "padding": null,
       "right": null,
       "top": null,
       "visibility": null,
       "width": null
      }
     },
     "7403e5cf7ebe448a8b23d31f2122f6e3": {
      "model_module": "@jupyter-widgets/base",
      "model_module_version": "1.2.0",
      "model_name": "LayoutModel",
      "state": {
       "_model_module": "@jupyter-widgets/base",
       "_model_module_version": "1.2.0",
       "_model_name": "LayoutModel",
       "_view_count": null,
       "_view_module": "@jupyter-widgets/base",
       "_view_module_version": "1.2.0",
       "_view_name": "LayoutView",
       "align_content": null,
       "align_items": null,
       "align_self": null,
       "border": null,
       "bottom": null,
       "display": null,
       "flex": null,
       "flex_flow": null,
       "grid_area": null,
       "grid_auto_columns": null,
       "grid_auto_flow": null,
       "grid_auto_rows": null,
       "grid_column": null,
       "grid_gap": null,
       "grid_row": null,
       "grid_template_areas": null,
       "grid_template_columns": null,
       "grid_template_rows": null,
       "height": null,
       "justify_content": null,
       "justify_items": null,
       "left": null,
       "margin": null,
       "max_height": null,
       "max_width": null,
       "min_height": null,
       "min_width": null,
       "object_fit": null,
       "object_position": null,
       "order": null,
       "overflow": null,
       "overflow_x": null,
       "overflow_y": null,
       "padding": null,
       "right": null,
       "top": null,
       "visibility": null,
       "width": null
      }
     },
     "76d1dfae3c894e2388860af76388481f": {
      "model_module": "@jupyter-widgets/controls",
      "model_module_version": "1.5.0",
      "model_name": "FloatProgressModel",
      "state": {
       "_dom_classes": [],
       "_model_module": "@jupyter-widgets/controls",
       "_model_module_version": "1.5.0",
       "_model_name": "FloatProgressModel",
       "_view_count": null,
       "_view_module": "@jupyter-widgets/controls",
       "_view_module_version": "1.5.0",
       "_view_name": "ProgressView",
       "bar_style": "success",
       "description": "",
       "description_tooltip": null,
       "layout": "IPY_MODEL_2da271b1bce940ddb3f520a0a0461c42",
       "max": 15594.0,
       "min": 0.0,
       "orientation": "horizontal",
       "style": "IPY_MODEL_3f523bb5f1bc4c488204185313febd2e",
       "value": 15594.0
      }
     },
     "79f722d1c53645e1a0c70a507aa9e508": {
      "model_module": "@jupyter-widgets/controls",
      "model_module_version": "1.5.0",
      "model_name": "HBoxModel",
      "state": {
       "_dom_classes": [],
       "_model_module": "@jupyter-widgets/controls",
       "_model_module_version": "1.5.0",
       "_model_name": "HBoxModel",
       "_view_count": null,
       "_view_module": "@jupyter-widgets/controls",
       "_view_module_version": "1.5.0",
       "_view_name": "HBoxView",
       "box_style": "",
       "children": [
        "IPY_MODEL_fd2e7f9a95314c0988bc56dc377f5662",
        "IPY_MODEL_503a55d97ed54105a8e63c69677819e6",
        "IPY_MODEL_21e06785a41e47d9be185f276262e21c"
       ],
       "layout": "IPY_MODEL_f135fc15eb8b4668b146179772301f1b"
      }
     },
     "7a0361b582b84827a2fe60af0f820818": {
      "model_module": "@jupyter-widgets/controls",
      "model_module_version": "1.5.0",
      "model_name": "HTMLModel",
      "state": {
       "_dom_classes": [],
       "_model_module": "@jupyter-widgets/controls",
       "_model_module_version": "1.5.0",
       "_model_name": "HTMLModel",
       "_view_count": null,
       "_view_module": "@jupyter-widgets/controls",
       "_view_module_version": "1.5.0",
       "_view_name": "HTMLView",
       "description": "",
       "description_tooltip": null,
       "layout": "IPY_MODEL_0d3e3b481f254c8180b7140b348a5deb",
       "placeholder": "​",
       "style": "IPY_MODEL_4d99da33bc6249c88ee0c25f273eb4e6",
       "value": " 455k/455k [00:00&lt;00:00, 989kB/s]"
      }
     },
     "7b241b4ba5024526ad3d903213705650": {
      "model_module": "@jupyter-widgets/controls",
      "model_module_version": "1.5.0",
      "model_name": "ButtonStyleModel",
      "state": {
       "_model_module": "@jupyter-widgets/controls",
       "_model_module_version": "1.5.0",
       "_model_name": "ButtonStyleModel",
       "_view_count": null,
       "_view_module": "@jupyter-widgets/base",
       "_view_module_version": "1.2.0",
       "_view_name": "StyleView",
       "button_color": null,
       "font_weight": ""
      }
     },
     "7dacf7fa50ce48119680a5ea09fc100d": {
      "model_module": "@jupyter-widgets/base",
      "model_module_version": "1.2.0",
      "model_name": "LayoutModel",
      "state": {
       "_model_module": "@jupyter-widgets/base",
       "_model_module_version": "1.2.0",
       "_model_name": "LayoutModel",
       "_view_count": null,
       "_view_module": "@jupyter-widgets/base",
       "_view_module_version": "1.2.0",
       "_view_name": "LayoutView",
       "align_content": null,
       "align_items": null,
       "align_self": null,
       "border": null,
       "bottom": null,
       "display": null,
       "flex": null,
       "flex_flow": null,
       "grid_area": null,
       "grid_auto_columns": null,
       "grid_auto_flow": null,
       "grid_auto_rows": null,
       "grid_column": null,
       "grid_gap": null,
       "grid_row": null,
       "grid_template_areas": null,
       "grid_template_columns": null,
       "grid_template_rows": null,
       "height": null,
       "justify_content": null,
       "justify_items": null,
       "left": null,
       "margin": null,
       "max_height": null,
       "max_width": null,
       "min_height": null,
       "min_width": null,
       "object_fit": null,
       "object_position": null,
       "order": null,
       "overflow": null,
       "overflow_x": null,
       "overflow_y": null,
       "padding": null,
       "right": null,
       "top": null,
       "visibility": null,
       "width": null
      }
     },
     "7db13ba3122c4720a7686cdc792d021f": {
      "model_module": "@jupyter-widgets/base",
      "model_module_version": "1.2.0",
      "model_name": "LayoutModel",
      "state": {
       "_model_module": "@jupyter-widgets/base",
       "_model_module_version": "1.2.0",
       "_model_name": "LayoutModel",
       "_view_count": null,
       "_view_module": "@jupyter-widgets/base",
       "_view_module_version": "1.2.0",
       "_view_name": "LayoutView",
       "align_content": null,
       "align_items": null,
       "align_self": null,
       "border": null,
       "bottom": null,
       "display": null,
       "flex": null,
       "flex_flow": null,
       "grid_area": null,
       "grid_auto_columns": null,
       "grid_auto_flow": null,
       "grid_auto_rows": null,
       "grid_column": null,
       "grid_gap": null,
       "grid_row": null,
       "grid_template_areas": null,
       "grid_template_columns": null,
       "grid_template_rows": null,
       "height": null,
       "justify_content": null,
       "justify_items": null,
       "left": null,
       "margin": null,
       "max_height": null,
       "max_width": null,
       "min_height": null,
       "min_width": null,
       "object_fit": null,
       "object_position": null,
       "order": null,
       "overflow": null,
       "overflow_x": null,
       "overflow_y": null,
       "padding": null,
       "right": null,
       "top": null,
       "visibility": null,
       "width": null
      }
     },
     "7f090af8b4ed4815b53214d8740e2480": {
      "model_module": "@jupyter-widgets/base",
      "model_module_version": "1.2.0",
      "model_name": "LayoutModel",
      "state": {
       "_model_module": "@jupyter-widgets/base",
       "_model_module_version": "1.2.0",
       "_model_name": "LayoutModel",
       "_view_count": null,
       "_view_module": "@jupyter-widgets/base",
       "_view_module_version": "1.2.0",
       "_view_name": "LayoutView",
       "align_content": null,
       "align_items": null,
       "align_self": null,
       "border": null,
       "bottom": null,
       "display": null,
       "flex": null,
       "flex_flow": null,
       "grid_area": null,
       "grid_auto_columns": null,
       "grid_auto_flow": null,
       "grid_auto_rows": null,
       "grid_column": null,
       "grid_gap": null,
       "grid_row": null,
       "grid_template_areas": null,
       "grid_template_columns": null,
       "grid_template_rows": null,
       "height": null,
       "justify_content": null,
       "justify_items": null,
       "left": null,
       "margin": null,
       "max_height": null,
       "max_width": null,
       "min_height": null,
       "min_width": null,
       "object_fit": null,
       "object_position": null,
       "order": null,
       "overflow": null,
       "overflow_x": null,
       "overflow_y": null,
       "padding": null,
       "right": null,
       "top": null,
       "visibility": null,
       "width": null
      }
     },
     "8036f3f19d6a4a35a098837485ac2253": {
      "model_module": "@jupyter-widgets/base",
      "model_module_version": "1.2.0",
      "model_name": "LayoutModel",
      "state": {
       "_model_module": "@jupyter-widgets/base",
       "_model_module_version": "1.2.0",
       "_model_name": "LayoutModel",
       "_view_count": null,
       "_view_module": "@jupyter-widgets/base",
       "_view_module_version": "1.2.0",
       "_view_name": "LayoutView",
       "align_content": null,
       "align_items": null,
       "align_self": null,
       "border": null,
       "bottom": null,
       "display": null,
       "flex": null,
       "flex_flow": null,
       "grid_area": null,
       "grid_auto_columns": null,
       "grid_auto_flow": null,
       "grid_auto_rows": null,
       "grid_column": null,
       "grid_gap": null,
       "grid_row": null,
       "grid_template_areas": null,
       "grid_template_columns": null,
       "grid_template_rows": null,
       "height": null,
       "justify_content": null,
       "justify_items": null,
       "left": null,
       "margin": null,
       "max_height": null,
       "max_width": null,
       "min_height": null,
       "min_width": null,
       "object_fit": null,
       "object_position": null,
       "order": null,
       "overflow": null,
       "overflow_x": null,
       "overflow_y": null,
       "padding": null,
       "right": null,
       "top": null,
       "visibility": null,
       "width": null
      }
     },
     "8173cfb187b3472892706359b6e0cdd0": {
      "model_module": "@jupyter-widgets/controls",
      "model_module_version": "1.5.0",
      "model_name": "DescriptionStyleModel",
      "state": {
       "_model_module": "@jupyter-widgets/controls",
       "_model_module_version": "1.5.0",
       "_model_name": "DescriptionStyleModel",
       "_view_count": null,
       "_view_module": "@jupyter-widgets/base",
       "_view_module_version": "1.2.0",
       "_view_name": "StyleView",
       "description_width": ""
      }
     },
     "82285cfaaf9d4e62a039a416df5f497c": {
      "model_module": "@jupyter-widgets/controls",
      "model_module_version": "1.5.0",
      "model_name": "HBoxModel",
      "state": {
       "_dom_classes": [],
       "_model_module": "@jupyter-widgets/controls",
       "_model_module_version": "1.5.0",
       "_model_name": "HBoxModel",
       "_view_count": null,
       "_view_module": "@jupyter-widgets/controls",
       "_view_module_version": "1.5.0",
       "_view_name": "HBoxView",
       "box_style": "",
       "children": [
        "IPY_MODEL_369908b901254657a78033935e1b41b9",
        "IPY_MODEL_76d1dfae3c894e2388860af76388481f",
        "IPY_MODEL_44d82f966566443db659dbf234fc0374"
       ],
       "layout": "IPY_MODEL_ec2fb132490044faac969ad075ea446c"
      }
     },
     "82ac86a2115b456894a1c04484fec295": {
      "model_module": "@jupyter-widgets/controls",
      "model_module_version": "1.5.0",
      "model_name": "HBoxModel",
      "state": {
       "_dom_classes": [],
       "_model_module": "@jupyter-widgets/controls",
       "_model_module_version": "1.5.0",
       "_model_name": "HBoxModel",
       "_view_count": null,
       "_view_module": "@jupyter-widgets/controls",
       "_view_module_version": "1.5.0",
       "_view_name": "HBoxView",
       "box_style": "",
       "children": [
        "IPY_MODEL_3db2322056b7495b80bd06cbfbbd30a6",
        "IPY_MODEL_35da4f5241534d71b796a57095bee9ec",
        "IPY_MODEL_7a0361b582b84827a2fe60af0f820818"
       ],
       "layout": "IPY_MODEL_8036f3f19d6a4a35a098837485ac2253"
      }
     },
     "88cca47a4f34484babf72f980a637f1a": {
      "model_module": "@jupyter-widgets/base",
      "model_module_version": "1.2.0",
      "model_name": "LayoutModel",
      "state": {
       "_model_module": "@jupyter-widgets/base",
       "_model_module_version": "1.2.0",
       "_model_name": "LayoutModel",
       "_view_count": null,
       "_view_module": "@jupyter-widgets/base",
       "_view_module_version": "1.2.0",
       "_view_name": "LayoutView",
       "align_content": null,
       "align_items": null,
       "align_self": null,
       "border": null,
       "bottom": null,
       "display": null,
       "flex": null,
       "flex_flow": null,
       "grid_area": null,
       "grid_auto_columns": null,
       "grid_auto_flow": null,
       "grid_auto_rows": null,
       "grid_column": null,
       "grid_gap": null,
       "grid_row": null,
       "grid_template_areas": null,
       "grid_template_columns": null,
       "grid_template_rows": null,
       "height": null,
       "justify_content": null,
       "justify_items": null,
       "left": null,
       "margin": null,
       "max_height": null,
       "max_width": null,
       "min_height": null,
       "min_width": null,
       "object_fit": null,
       "object_position": null,
       "order": null,
       "overflow": null,
       "overflow_x": null,
       "overflow_y": null,
       "padding": null,
       "right": null,
       "top": null,
       "visibility": null,
       "width": null
      }
     },
     "897fe65f368548d7b9a1e1d076bda101": {
      "model_module": "@jupyter-widgets/controls",
      "model_module_version": "1.5.0",
      "model_name": "DescriptionStyleModel",
      "state": {
       "_model_module": "@jupyter-widgets/controls",
       "_model_module_version": "1.5.0",
       "_model_name": "DescriptionStyleModel",
       "_view_count": null,
       "_view_module": "@jupyter-widgets/base",
       "_view_module_version": "1.2.0",
       "_view_name": "StyleView",
       "description_width": ""
      }
     },
     "8a104869809b47a89e99c7f046ee40d9": {
      "model_module": "@jupyter-widgets/controls",
      "model_module_version": "1.5.0",
      "model_name": "DescriptionStyleModel",
      "state": {
       "_model_module": "@jupyter-widgets/controls",
       "_model_module_version": "1.5.0",
       "_model_name": "DescriptionStyleModel",
       "_view_count": null,
       "_view_module": "@jupyter-widgets/base",
       "_view_module_version": "1.2.0",
       "_view_name": "StyleView",
       "description_width": ""
      }
     },
     "8b593d7f3ced4971be7afd9fb221840e": {
      "model_module": "@jupyter-widgets/controls",
      "model_module_version": "1.5.0",
      "model_name": "FloatProgressModel",
      "state": {
       "_dom_classes": [],
       "_model_module": "@jupyter-widgets/controls",
       "_model_module_version": "1.5.0",
       "_model_name": "FloatProgressModel",
       "_view_count": null,
       "_view_module": "@jupyter-widgets/controls",
       "_view_module_version": "1.5.0",
       "_view_name": "ProgressView",
       "bar_style": "success",
       "description": "",
       "description_tooltip": null,
       "layout": "IPY_MODEL_88cca47a4f34484babf72f980a637f1a",
       "max": 28.0,
       "min": 0.0,
       "orientation": "horizontal",
       "style": "IPY_MODEL_198531fc000d42b68ffabd1a15c7fbc3",
       "value": 28.0
      }
     },
     "8dceeda22aae4f8f90994e86fd1a03b9": {
      "model_module": "@jupyter-widgets/base",
      "model_module_version": "1.2.0",
      "model_name": "LayoutModel",
      "state": {
       "_model_module": "@jupyter-widgets/base",
       "_model_module_version": "1.2.0",
       "_model_name": "LayoutModel",
       "_view_count": null,
       "_view_module": "@jupyter-widgets/base",
       "_view_module_version": "1.2.0",
       "_view_name": "LayoutView",
       "align_content": null,
       "align_items": null,
       "align_self": null,
       "border": null,
       "bottom": null,
       "display": null,
       "flex": null,
       "flex_flow": null,
       "grid_area": null,
       "grid_auto_columns": null,
       "grid_auto_flow": null,
       "grid_auto_rows": null,
       "grid_column": null,
       "grid_gap": null,
       "grid_row": null,
       "grid_template_areas": null,
       "grid_template_columns": null,
       "grid_template_rows": null,
       "height": null,
       "justify_content": null,
       "justify_items": null,
       "left": null,
       "margin": null,
       "max_height": null,
       "max_width": null,
       "min_height": null,
       "min_width": null,
       "object_fit": null,
       "object_position": null,
       "order": null,
       "overflow": null,
       "overflow_x": null,
       "overflow_y": null,
       "padding": null,
       "right": null,
       "top": null,
       "visibility": null,
       "width": null
      }
     },
     "8e47ca7695bf4ab8962c6e744f7b7e6e": {
      "model_module": "@jupyter-widgets/base",
      "model_module_version": "1.2.0",
      "model_name": "LayoutModel",
      "state": {
       "_model_module": "@jupyter-widgets/base",
       "_model_module_version": "1.2.0",
       "_model_name": "LayoutModel",
       "_view_count": null,
       "_view_module": "@jupyter-widgets/base",
       "_view_module_version": "1.2.0",
       "_view_name": "LayoutView",
       "align_content": null,
       "align_items": null,
       "align_self": null,
       "border": null,
       "bottom": null,
       "display": null,
       "flex": null,
       "flex_flow": null,
       "grid_area": null,
       "grid_auto_columns": null,
       "grid_auto_flow": null,
       "grid_auto_rows": null,
       "grid_column": null,
       "grid_gap": null,
       "grid_row": null,
       "grid_template_areas": null,
       "grid_template_columns": null,
       "grid_template_rows": null,
       "height": null,
       "justify_content": null,
       "justify_items": null,
       "left": null,
       "margin": null,
       "max_height": null,
       "max_width": null,
       "min_height": null,
       "min_width": null,
       "object_fit": null,
       "object_position": null,
       "order": null,
       "overflow": null,
       "overflow_x": null,
       "overflow_y": null,
       "padding": null,
       "right": null,
       "top": null,
       "visibility": null,
       "width": null
      }
     },
     "8f22d39c5fa14d8793380026c9fc3821": {
      "model_module": "@jupyter-widgets/base",
      "model_module_version": "1.2.0",
      "model_name": "LayoutModel",
      "state": {
       "_model_module": "@jupyter-widgets/base",
       "_model_module_version": "1.2.0",
       "_model_name": "LayoutModel",
       "_view_count": null,
       "_view_module": "@jupyter-widgets/base",
       "_view_module_version": "1.2.0",
       "_view_name": "LayoutView",
       "align_content": null,
       "align_items": null,
       "align_self": null,
       "border": null,
       "bottom": null,
       "display": null,
       "flex": null,
       "flex_flow": null,
       "grid_area": null,
       "grid_auto_columns": null,
       "grid_auto_flow": null,
       "grid_auto_rows": null,
       "grid_column": null,
       "grid_gap": null,
       "grid_row": null,
       "grid_template_areas": null,
       "grid_template_columns": null,
       "grid_template_rows": null,
       "height": null,
       "justify_content": null,
       "justify_items": null,
       "left": null,
       "margin": null,
       "max_height": null,
       "max_width": null,
       "min_height": null,
       "min_width": null,
       "object_fit": null,
       "object_position": null,
       "order": null,
       "overflow": null,
       "overflow_x": null,
       "overflow_y": null,
       "padding": null,
       "right": null,
       "top": null,
       "visibility": null,
       "width": null
      }
     },
     "91611005881143f2b6a9dc0d9280ad4a": {
      "model_module": "@jupyter-widgets/controls",
      "model_module_version": "1.5.0",
      "model_name": "DescriptionStyleModel",
      "state": {
       "_model_module": "@jupyter-widgets/controls",
       "_model_module_version": "1.5.0",
       "_model_name": "DescriptionStyleModel",
       "_view_count": null,
       "_view_module": "@jupyter-widgets/base",
       "_view_module_version": "1.2.0",
       "_view_name": "StyleView",
       "description_width": ""
      }
     },
     "92787201623b4572ab36eb03f22d9d66": {
      "model_module": "@jupyter-widgets/controls",
      "model_module_version": "1.5.0",
      "model_name": "HBoxModel",
      "state": {
       "_dom_classes": [],
       "_model_module": "@jupyter-widgets/controls",
       "_model_module_version": "1.5.0",
       "_model_name": "HBoxModel",
       "_view_count": null,
       "_view_module": "@jupyter-widgets/controls",
       "_view_module_version": "1.5.0",
       "_view_name": "HBoxView",
       "box_style": "",
       "children": [
        "IPY_MODEL_a809ba1efc784d37b4ba17892c235ebf",
        "IPY_MODEL_265d5959dfe248928f8d48e7a9c3e8c8"
       ],
       "layout": "IPY_MODEL_997b6656901e4e8f8fc53fa1cb5bf583"
      }
     },
     "9341b815b7d84e2084df8f3df8c61b64": {
      "model_module": "@jupyter-widgets/controls",
      "model_module_version": "1.5.0",
      "model_name": "DescriptionStyleModel",
      "state": {
       "_model_module": "@jupyter-widgets/controls",
       "_model_module_version": "1.5.0",
       "_model_name": "DescriptionStyleModel",
       "_view_count": null,
       "_view_module": "@jupyter-widgets/base",
       "_view_module_version": "1.2.0",
       "_view_name": "StyleView",
       "description_width": ""
      }
     },
     "94869ac11902487899271cdcdc89a4a9": {
      "model_module": "@jupyter-widgets/controls",
      "model_module_version": "1.5.0",
      "model_name": "DescriptionStyleModel",
      "state": {
       "_model_module": "@jupyter-widgets/controls",
       "_model_module_version": "1.5.0",
       "_model_name": "DescriptionStyleModel",
       "_view_count": null,
       "_view_module": "@jupyter-widgets/base",
       "_view_module_version": "1.2.0",
       "_view_name": "StyleView",
       "description_width": ""
      }
     },
     "958067aebe704378b4edeb0980c5457f": {
      "model_module": "@jupyter-widgets/controls",
      "model_module_version": "1.5.0",
      "model_name": "HBoxModel",
      "state": {
       "_dom_classes": [],
       "_model_module": "@jupyter-widgets/controls",
       "_model_module_version": "1.5.0",
       "_model_name": "HBoxModel",
       "_view_count": null,
       "_view_module": "@jupyter-widgets/controls",
       "_view_module_version": "1.5.0",
       "_view_name": "HBoxView",
       "box_style": "",
       "children": [
        "IPY_MODEL_32d02a66eeb34f89b4233b094e5b96ab",
        "IPY_MODEL_dec067cab26d439f9d464043bd6a46c7",
        "IPY_MODEL_e9f51fcd1ae642a5af3e709bc93fc004"
       ],
       "layout": "IPY_MODEL_0155a04373f04361bf2047400a919f51"
      }
     },
     "958e8cc579d647bda963bcf43c0fff26": {
      "model_module": "@jupyter-widgets/controls",
      "model_module_version": "1.5.0",
      "model_name": "FloatProgressModel",
      "state": {
       "_dom_classes": [],
       "_model_module": "@jupyter-widgets/controls",
       "_model_module_version": "1.5.0",
       "_model_name": "FloatProgressModel",
       "_view_count": null,
       "_view_module": "@jupyter-widgets/controls",
       "_view_module_version": "1.5.0",
       "_view_name": "ProgressView",
       "bar_style": "success",
       "description": "",
       "description_tooltip": null,
       "layout": "IPY_MODEL_e5bb17ce63c64446aa53b80aa69dd507",
       "max": 231508.0,
       "min": 0.0,
       "orientation": "horizontal",
       "style": "IPY_MODEL_25936951f13a4267b574bcd4c3b04ee1",
       "value": 231508.0
      }
     },
     "97a34841f3c949f2a9c271e251c7971e": {
      "model_module": "@jupyter-widgets/base",
      "model_module_version": "1.2.0",
      "model_name": "LayoutModel",
      "state": {
       "_model_module": "@jupyter-widgets/base",
       "_model_module_version": "1.2.0",
       "_model_name": "LayoutModel",
       "_view_count": null,
       "_view_module": "@jupyter-widgets/base",
       "_view_module_version": "1.2.0",
       "_view_name": "LayoutView",
       "align_content": null,
       "align_items": null,
       "align_self": null,
       "border": null,
       "bottom": null,
       "display": null,
       "flex": null,
       "flex_flow": null,
       "grid_area": null,
       "grid_auto_columns": null,
       "grid_auto_flow": null,
       "grid_auto_rows": null,
       "grid_column": null,
       "grid_gap": null,
       "grid_row": null,
       "grid_template_areas": null,
       "grid_template_columns": null,
       "grid_template_rows": null,
       "height": null,
       "justify_content": null,
       "justify_items": null,
       "left": null,
       "margin": null,
       "max_height": null,
       "max_width": null,
       "min_height": null,
       "min_width": null,
       "object_fit": null,
       "object_position": null,
       "order": null,
       "overflow": null,
       "overflow_x": null,
       "overflow_y": null,
       "padding": null,
       "right": null,
       "top": null,
       "visibility": null,
       "width": null
      }
     },
     "9825501a1f3b43fcaf13b407ab03f9a9": {
      "model_module": "@jupyter-widgets/controls",
      "model_module_version": "1.5.0",
      "model_name": "FloatProgressModel",
      "state": {
       "_dom_classes": [],
       "_model_module": "@jupyter-widgets/controls",
       "_model_module_version": "1.5.0",
       "_model_name": "FloatProgressModel",
       "_view_count": null,
       "_view_module": "@jupyter-widgets/controls",
       "_view_module_version": "1.5.0",
       "_view_name": "ProgressView",
       "bar_style": "success",
       "description": "",
       "description_tooltip": null,
       "layout": "IPY_MODEL_ab542b998c4848ceb2a20e2febcb8ef2",
       "max": 466062.0,
       "min": 0.0,
       "orientation": "horizontal",
       "style": "IPY_MODEL_5f820b4937f1485ab415891d68ed61dc",
       "value": 466062.0
      }
     },
     "997b6656901e4e8f8fc53fa1cb5bf583": {
      "model_module": "@jupyter-widgets/base",
      "model_module_version": "1.2.0",
      "model_name": "LayoutModel",
      "state": {
       "_model_module": "@jupyter-widgets/base",
       "_model_module_version": "1.2.0",
       "_model_name": "LayoutModel",
       "_view_count": null,
       "_view_module": "@jupyter-widgets/base",
       "_view_module_version": "1.2.0",
       "_view_name": "LayoutView",
       "align_content": null,
       "align_items": null,
       "align_self": null,
       "border": null,
       "bottom": null,
       "display": null,
       "flex": null,
       "flex_flow": null,
       "grid_area": null,
       "grid_auto_columns": null,
       "grid_auto_flow": null,
       "grid_auto_rows": null,
       "grid_column": null,
       "grid_gap": null,
       "grid_row": null,
       "grid_template_areas": null,
       "grid_template_columns": null,
       "grid_template_rows": null,
       "height": null,
       "justify_content": null,
       "justify_items": null,
       "left": null,
       "margin": null,
       "max_height": null,
       "max_width": null,
       "min_height": null,
       "min_width": null,
       "object_fit": null,
       "object_position": null,
       "order": null,
       "overflow": null,
       "overflow_x": null,
       "overflow_y": null,
       "padding": null,
       "right": null,
       "top": null,
       "visibility": null,
       "width": null
      }
     },
     "9f44db2e00314058b17085ac2ce52c78": {
      "model_module": "@jupyter-widgets/base",
      "model_module_version": "1.2.0",
      "model_name": "LayoutModel",
      "state": {
       "_model_module": "@jupyter-widgets/base",
       "_model_module_version": "1.2.0",
       "_model_name": "LayoutModel",
       "_view_count": null,
       "_view_module": "@jupyter-widgets/base",
       "_view_module_version": "1.2.0",
       "_view_name": "LayoutView",
       "align_content": null,
       "align_items": null,
       "align_self": null,
       "border": null,
       "bottom": null,
       "display": null,
       "flex": null,
       "flex_flow": null,
       "grid_area": null,
       "grid_auto_columns": null,
       "grid_auto_flow": null,
       "grid_auto_rows": null,
       "grid_column": null,
       "grid_gap": null,
       "grid_row": null,
       "grid_template_areas": null,
       "grid_template_columns": null,
       "grid_template_rows": null,
       "height": null,
       "justify_content": null,
       "justify_items": null,
       "left": null,
       "margin": null,
       "max_height": null,
       "max_width": null,
       "min_height": null,
       "min_width": null,
       "object_fit": null,
       "object_position": null,
       "order": null,
       "overflow": null,
       "overflow_x": null,
       "overflow_y": null,
       "padding": null,
       "right": null,
       "top": null,
       "visibility": null,
       "width": null
      }
     },
     "a5463a3fdccb4544aa7b27fabcee10b5": {
      "model_module": "@jupyter-widgets/controls",
      "model_module_version": "1.5.0",
      "model_name": "DescriptionStyleModel",
      "state": {
       "_model_module": "@jupyter-widgets/controls",
       "_model_module_version": "1.5.0",
       "_model_name": "DescriptionStyleModel",
       "_view_count": null,
       "_view_module": "@jupyter-widgets/base",
       "_view_module_version": "1.2.0",
       "_view_name": "StyleView",
       "description_width": ""
      }
     },
     "a6b3b5dc34cc4697886cfdb76301e507": {
      "model_module": "@jupyter-widgets/controls",
      "model_module_version": "1.5.0",
      "model_name": "HBoxModel",
      "state": {
       "_dom_classes": [],
       "_model_module": "@jupyter-widgets/controls",
       "_model_module_version": "1.5.0",
       "_model_name": "HBoxModel",
       "_view_count": null,
       "_view_module": "@jupyter-widgets/controls",
       "_view_module_version": "1.5.0",
       "_view_name": "HBoxView",
       "box_style": "",
       "children": [
        "IPY_MODEL_263c7a4863e44932b6ed3ba6c7b16df9",
        "IPY_MODEL_dda6f3b37a0d43deade1b7e4fe809ea5",
        "IPY_MODEL_6b195de8724f484a816a89bbff9ca62e"
       ],
       "layout": "IPY_MODEL_43651d770624429c9ee1abca0e739dfa"
      }
     },
     "a809ba1efc784d37b4ba17892c235ebf": {
      "model_module": "@jupyter-widgets/controls",
      "model_module_version": "1.5.0",
      "model_name": "TextModel",
      "state": {
       "_dom_classes": [],
       "_model_module": "@jupyter-widgets/controls",
       "_model_module_version": "1.5.0",
       "_model_name": "TextModel",
       "_view_count": null,
       "_view_module": "@jupyter-widgets/controls",
       "_view_module_version": "1.5.0",
       "_view_name": "TextView",
       "continuous_update": true,
       "description": "Username:",
       "description_tooltip": null,
       "disabled": false,
       "layout": "IPY_MODEL_00f76aa022d543308c5e59546964f8b7",
       "placeholder": "​",
       "style": "IPY_MODEL_1edbaea743e34d699860bc36d4edb186",
       "value": ""
      }
     },
     "a996f4a67ac34370ad3a87095aec65e7": {
      "model_module": "@jupyter-widgets/controls",
      "model_module_version": "1.5.0",
      "model_name": "ProgressStyleModel",
      "state": {
       "_model_module": "@jupyter-widgets/controls",
       "_model_module_version": "1.5.0",
       "_model_name": "ProgressStyleModel",
       "_view_count": null,
       "_view_module": "@jupyter-widgets/base",
       "_view_module_version": "1.2.0",
       "_view_name": "StyleView",
       "bar_color": null,
       "description_width": ""
      }
     },
     "aa2e6bf56c2048fc86eefceac0204d97": {
      "model_module": "@jupyter-widgets/base",
      "model_module_version": "1.2.0",
      "model_name": "LayoutModel",
      "state": {
       "_model_module": "@jupyter-widgets/base",
       "_model_module_version": "1.2.0",
       "_model_name": "LayoutModel",
       "_view_count": null,
       "_view_module": "@jupyter-widgets/base",
       "_view_module_version": "1.2.0",
       "_view_name": "LayoutView",
       "align_content": null,
       "align_items": null,
       "align_self": null,
       "border": null,
       "bottom": null,
       "display": null,
       "flex": null,
       "flex_flow": null,
       "grid_area": null,
       "grid_auto_columns": null,
       "grid_auto_flow": null,
       "grid_auto_rows": null,
       "grid_column": null,
       "grid_gap": null,
       "grid_row": null,
       "grid_template_areas": null,
       "grid_template_columns": null,
       "grid_template_rows": null,
       "height": null,
       "justify_content": null,
       "justify_items": null,
       "left": null,
       "margin": null,
       "max_height": null,
       "max_width": null,
       "min_height": null,
       "min_width": null,
       "object_fit": null,
       "object_position": null,
       "order": null,
       "overflow": null,
       "overflow_x": null,
       "overflow_y": null,
       "padding": null,
       "right": null,
       "top": null,
       "visibility": null,
       "width": null
      }
     },
     "ab312278ff9942e0acdb2170cf435c57": {
      "model_module": "@jupyter-widgets/base",
      "model_module_version": "1.2.0",
      "model_name": "LayoutModel",
      "state": {
       "_model_module": "@jupyter-widgets/base",
       "_model_module_version": "1.2.0",
       "_model_name": "LayoutModel",
       "_view_count": null,
       "_view_module": "@jupyter-widgets/base",
       "_view_module_version": "1.2.0",
       "_view_name": "LayoutView",
       "align_content": null,
       "align_items": null,
       "align_self": null,
       "border": null,
       "bottom": null,
       "display": null,
       "flex": null,
       "flex_flow": null,
       "grid_area": null,
       "grid_auto_columns": null,
       "grid_auto_flow": null,
       "grid_auto_rows": null,
       "grid_column": null,
       "grid_gap": null,
       "grid_row": null,
       "grid_template_areas": null,
       "grid_template_columns": null,
       "grid_template_rows": null,
       "height": null,
       "justify_content": null,
       "justify_items": null,
       "left": null,
       "margin": null,
       "max_height": null,
       "max_width": null,
       "min_height": null,
       "min_width": null,
       "object_fit": null,
       "object_position": null,
       "order": null,
       "overflow": null,
       "overflow_x": null,
       "overflow_y": null,
       "padding": null,
       "right": null,
       "top": null,
       "visibility": null,
       "width": null
      }
     },
     "ab542b998c4848ceb2a20e2febcb8ef2": {
      "model_module": "@jupyter-widgets/base",
      "model_module_version": "1.2.0",
      "model_name": "LayoutModel",
      "state": {
       "_model_module": "@jupyter-widgets/base",
       "_model_module_version": "1.2.0",
       "_model_name": "LayoutModel",
       "_view_count": null,
       "_view_module": "@jupyter-widgets/base",
       "_view_module_version": "1.2.0",
       "_view_name": "LayoutView",
       "align_content": null,
       "align_items": null,
       "align_self": null,
       "border": null,
       "bottom": null,
       "display": null,
       "flex": null,
       "flex_flow": null,
       "grid_area": null,
       "grid_auto_columns": null,
       "grid_auto_flow": null,
       "grid_auto_rows": null,
       "grid_column": null,
       "grid_gap": null,
       "grid_row": null,
       "grid_template_areas": null,
       "grid_template_columns": null,
       "grid_template_rows": null,
       "height": null,
       "justify_content": null,
       "justify_items": null,
       "left": null,
       "margin": null,
       "max_height": null,
       "max_width": null,
       "min_height": null,
       "min_width": null,
       "object_fit": null,
       "object_position": null,
       "order": null,
       "overflow": null,
       "overflow_x": null,
       "overflow_y": null,
       "padding": null,
       "right": null,
       "top": null,
       "visibility": null,
       "width": null
      }
     },
     "ad32d51cd183446ba617992275b08373": {
      "model_module": "@jupyter-widgets/controls",
      "model_module_version": "1.5.0",
      "model_name": "ProgressStyleModel",
      "state": {
       "_model_module": "@jupyter-widgets/controls",
       "_model_module_version": "1.5.0",
       "_model_name": "ProgressStyleModel",
       "_view_count": null,
       "_view_module": "@jupyter-widgets/base",
       "_view_module_version": "1.2.0",
       "_view_name": "StyleView",
       "bar_color": null,
       "description_width": ""
      }
     },
     "aebba8e40a3d451eb07a61792ca491d9": {
      "model_module": "@jupyter-widgets/controls",
      "model_module_version": "1.5.0",
      "model_name": "DescriptionStyleModel",
      "state": {
       "_model_module": "@jupyter-widgets/controls",
       "_model_module_version": "1.5.0",
       "_model_name": "DescriptionStyleModel",
       "_view_count": null,
       "_view_module": "@jupyter-widgets/base",
       "_view_module_version": "1.2.0",
       "_view_name": "StyleView",
       "description_width": ""
      }
     },
     "b183875868624f86a402b5e6f4716c17": {
      "model_module": "@jupyter-widgets/base",
      "model_module_version": "1.2.0",
      "model_name": "LayoutModel",
      "state": {
       "_model_module": "@jupyter-widgets/base",
       "_model_module_version": "1.2.0",
       "_model_name": "LayoutModel",
       "_view_count": null,
       "_view_module": "@jupyter-widgets/base",
       "_view_module_version": "1.2.0",
       "_view_name": "LayoutView",
       "align_content": null,
       "align_items": null,
       "align_self": null,
       "border": null,
       "bottom": null,
       "display": null,
       "flex": null,
       "flex_flow": null,
       "grid_area": null,
       "grid_auto_columns": null,
       "grid_auto_flow": null,
       "grid_auto_rows": null,
       "grid_column": null,
       "grid_gap": null,
       "grid_row": null,
       "grid_template_areas": null,
       "grid_template_columns": null,
       "grid_template_rows": null,
       "height": null,
       "justify_content": null,
       "justify_items": null,
       "left": null,
       "margin": null,
       "max_height": null,
       "max_width": null,
       "min_height": null,
       "min_width": null,
       "object_fit": null,
       "object_position": null,
       "order": null,
       "overflow": null,
       "overflow_x": null,
       "overflow_y": null,
       "padding": null,
       "right": null,
       "top": null,
       "visibility": null,
       "width": null
      }
     },
     "b1a069f2f6ce40bd95f027d09fdd47a8": {
      "model_module": "@jupyter-widgets/controls",
      "model_module_version": "1.5.0",
      "model_name": "HTMLModel",
      "state": {
       "_dom_classes": [],
       "_model_module": "@jupyter-widgets/controls",
       "_model_module_version": "1.5.0",
       "_model_name": "HTMLModel",
       "_view_count": null,
       "_view_module": "@jupyter-widgets/controls",
       "_view_module_version": "1.5.0",
       "_view_name": "HTMLView",
       "description": "",
       "description_tooltip": null,
       "layout": "IPY_MODEL_66103f78a93048c38428df24a21bc452",
       "placeholder": "​",
       "style": "IPY_MODEL_a5463a3fdccb4544aa7b27fabcee10b5",
       "value": "Downloading: 100%"
      }
     },
     "b1c91cf140e347d4b0fbf4d25fea2b44": {
      "model_module": "@jupyter-widgets/base",
      "model_module_version": "1.2.0",
      "model_name": "LayoutModel",
      "state": {
       "_model_module": "@jupyter-widgets/base",
       "_model_module_version": "1.2.0",
       "_model_name": "LayoutModel",
       "_view_count": null,
       "_view_module": "@jupyter-widgets/base",
       "_view_module_version": "1.2.0",
       "_view_name": "LayoutView",
       "align_content": null,
       "align_items": null,
       "align_self": null,
       "border": null,
       "bottom": null,
       "display": null,
       "flex": null,
       "flex_flow": null,
       "grid_area": null,
       "grid_auto_columns": null,
       "grid_auto_flow": null,
       "grid_auto_rows": null,
       "grid_column": null,
       "grid_gap": null,
       "grid_row": null,
       "grid_template_areas": null,
       "grid_template_columns": null,
       "grid_template_rows": null,
       "height": null,
       "justify_content": null,
       "justify_items": null,
       "left": null,
       "margin": null,
       "max_height": null,
       "max_width": null,
       "min_height": null,
       "min_width": null,
       "object_fit": null,
       "object_position": null,
       "order": null,
       "overflow": null,
       "overflow_x": null,
       "overflow_y": null,
       "padding": null,
       "right": null,
       "top": null,
       "visibility": null,
       "width": null
      }
     },
     "b48bc0630cb04209b65a911ba4a3f724": {
      "model_module": "@jupyter-widgets/base",
      "model_module_version": "1.2.0",
      "model_name": "LayoutModel",
      "state": {
       "_model_module": "@jupyter-widgets/base",
       "_model_module_version": "1.2.0",
       "_model_name": "LayoutModel",
       "_view_count": null,
       "_view_module": "@jupyter-widgets/base",
       "_view_module_version": "1.2.0",
       "_view_name": "LayoutView",
       "align_content": null,
       "align_items": null,
       "align_self": null,
       "border": null,
       "bottom": null,
       "display": null,
       "flex": null,
       "flex_flow": null,
       "grid_area": null,
       "grid_auto_columns": null,
       "grid_auto_flow": null,
       "grid_auto_rows": null,
       "grid_column": null,
       "grid_gap": null,
       "grid_row": null,
       "grid_template_areas": null,
       "grid_template_columns": null,
       "grid_template_rows": null,
       "height": null,
       "justify_content": null,
       "justify_items": null,
       "left": null,
       "margin": null,
       "max_height": null,
       "max_width": null,
       "min_height": null,
       "min_width": null,
       "object_fit": null,
       "object_position": null,
       "order": null,
       "overflow": null,
       "overflow_x": null,
       "overflow_y": null,
       "padding": null,
       "right": null,
       "top": null,
       "visibility": null,
       "width": null
      }
     },
     "b641c76a00b441f9b080dce5404d8550": {
      "model_module": "@jupyter-widgets/controls",
      "model_module_version": "1.5.0",
      "model_name": "DescriptionStyleModel",
      "state": {
       "_model_module": "@jupyter-widgets/controls",
       "_model_module_version": "1.5.0",
       "_model_name": "DescriptionStyleModel",
       "_view_count": null,
       "_view_module": "@jupyter-widgets/base",
       "_view_module_version": "1.2.0",
       "_view_name": "StyleView",
       "description_width": ""
      }
     },
     "b6900c5a952641c59807d4b82b10c27f": {
      "model_module": "@jupyter-widgets/controls",
      "model_module_version": "1.5.0",
      "model_name": "DescriptionStyleModel",
      "state": {
       "_model_module": "@jupyter-widgets/controls",
       "_model_module_version": "1.5.0",
       "_model_name": "DescriptionStyleModel",
       "_view_count": null,
       "_view_module": "@jupyter-widgets/base",
       "_view_module_version": "1.2.0",
       "_view_name": "StyleView",
       "description_width": ""
      }
     },
     "b8779bd4bfa34221a42525bc25cde2c1": {
      "model_module": "@jupyter-widgets/controls",
      "model_module_version": "1.5.0",
      "model_name": "FloatProgressModel",
      "state": {
       "_dom_classes": [],
       "_model_module": "@jupyter-widgets/controls",
       "_model_module_version": "1.5.0",
       "_model_name": "FloatProgressModel",
       "_view_count": null,
       "_view_module": "@jupyter-widgets/controls",
       "_view_module_version": "1.5.0",
       "_view_name": "ProgressView",
       "bar_style": "success",
       "description": "",
       "description_tooltip": null,
       "layout": "IPY_MODEL_f6f7a1b803744460adeed04e3c73276d",
       "max": 15594.0,
       "min": 0.0,
       "orientation": "horizontal",
       "style": "IPY_MODEL_649d0f1afd6b47fba50b67a7900c2598",
       "value": 15594.0
      }
     },
     "bada72e1718b49b7a4691b6fbbc20fbb": {
      "model_module": "@jupyter-widgets/base",
      "model_module_version": "1.2.0",
      "model_name": "LayoutModel",
      "state": {
       "_model_module": "@jupyter-widgets/base",
       "_model_module_version": "1.2.0",
       "_model_name": "LayoutModel",
       "_view_count": null,
       "_view_module": "@jupyter-widgets/base",
       "_view_module_version": "1.2.0",
       "_view_name": "LayoutView",
       "align_content": null,
       "align_items": null,
       "align_self": null,
       "border": null,
       "bottom": null,
       "display": null,
       "flex": null,
       "flex_flow": null,
       "grid_area": null,
       "grid_auto_columns": null,
       "grid_auto_flow": null,
       "grid_auto_rows": null,
       "grid_column": null,
       "grid_gap": null,
       "grid_row": null,
       "grid_template_areas": null,
       "grid_template_columns": null,
       "grid_template_rows": null,
       "height": null,
       "justify_content": null,
       "justify_items": null,
       "left": null,
       "margin": null,
       "max_height": null,
       "max_width": null,
       "min_height": null,
       "min_width": null,
       "object_fit": null,
       "object_position": null,
       "order": null,
       "overflow": null,
       "overflow_x": null,
       "overflow_y": null,
       "padding": null,
       "right": null,
       "top": null,
       "visibility": null,
       "width": null
      }
     },
     "bf415ebe53c1410285fc59ed86d70ef1": {
      "model_module": "@jupyter-widgets/base",
      "model_module_version": "1.2.0",
      "model_name": "LayoutModel",
      "state": {
       "_model_module": "@jupyter-widgets/base",
       "_model_module_version": "1.2.0",
       "_model_name": "LayoutModel",
       "_view_count": null,
       "_view_module": "@jupyter-widgets/base",
       "_view_module_version": "1.2.0",
       "_view_name": "LayoutView",
       "align_content": null,
       "align_items": null,
       "align_self": null,
       "border": null,
       "bottom": null,
       "display": null,
       "flex": null,
       "flex_flow": null,
       "grid_area": null,
       "grid_auto_columns": null,
       "grid_auto_flow": null,
       "grid_auto_rows": null,
       "grid_column": null,
       "grid_gap": null,
       "grid_row": null,
       "grid_template_areas": null,
       "grid_template_columns": null,
       "grid_template_rows": null,
       "height": null,
       "justify_content": null,
       "justify_items": null,
       "left": null,
       "margin": null,
       "max_height": null,
       "max_width": null,
       "min_height": null,
       "min_width": null,
       "object_fit": null,
       "object_position": null,
       "order": null,
       "overflow": null,
       "overflow_x": null,
       "overflow_y": null,
       "padding": null,
       "right": null,
       "top": null,
       "visibility": null,
       "width": null
      }
     },
     "c1a488669bc64e8a9255b679efda5077": {
      "model_module": "@jupyter-widgets/base",
      "model_module_version": "1.2.0",
      "model_name": "LayoutModel",
      "state": {
       "_model_module": "@jupyter-widgets/base",
       "_model_module_version": "1.2.0",
       "_model_name": "LayoutModel",
       "_view_count": null,
       "_view_module": "@jupyter-widgets/base",
       "_view_module_version": "1.2.0",
       "_view_name": "LayoutView",
       "align_content": null,
       "align_items": null,
       "align_self": null,
       "border": null,
       "bottom": null,
       "display": null,
       "flex": null,
       "flex_flow": null,
       "grid_area": null,
       "grid_auto_columns": null,
       "grid_auto_flow": null,
       "grid_auto_rows": null,
       "grid_column": null,
       "grid_gap": null,
       "grid_row": null,
       "grid_template_areas": null,
       "grid_template_columns": null,
       "grid_template_rows": null,
       "height": null,
       "justify_content": null,
       "justify_items": null,
       "left": null,
       "margin": null,
       "max_height": null,
       "max_width": null,
       "min_height": null,
       "min_width": null,
       "object_fit": null,
       "object_position": null,
       "order": null,
       "overflow": null,
       "overflow_x": null,
       "overflow_y": null,
       "padding": null,
       "right": null,
       "top": null,
       "visibility": null,
       "width": null
      }
     },
     "c335da80b84f42d2aa33eaef6e9fd1de": {
      "model_module": "@jupyter-widgets/controls",
      "model_module_version": "1.5.0",
      "model_name": "ProgressStyleModel",
      "state": {
       "_model_module": "@jupyter-widgets/controls",
       "_model_module_version": "1.5.0",
       "_model_name": "ProgressStyleModel",
       "_view_count": null,
       "_view_module": "@jupyter-widgets/base",
       "_view_module_version": "1.2.0",
       "_view_name": "StyleView",
       "bar_color": null,
       "description_width": ""
      }
     },
     "c3a47e0abf294c598c5255824a12a8b3": {
      "model_module": "@jupyter-widgets/base",
      "model_module_version": "1.2.0",
      "model_name": "LayoutModel",
      "state": {
       "_model_module": "@jupyter-widgets/base",
       "_model_module_version": "1.2.0",
       "_model_name": "LayoutModel",
       "_view_count": null,
       "_view_module": "@jupyter-widgets/base",
       "_view_module_version": "1.2.0",
       "_view_name": "LayoutView",
       "align_content": null,
       "align_items": null,
       "align_self": null,
       "border": null,
       "bottom": null,
       "display": null,
       "flex": null,
       "flex_flow": null,
       "grid_area": null,
       "grid_auto_columns": null,
       "grid_auto_flow": null,
       "grid_auto_rows": null,
       "grid_column": null,
       "grid_gap": null,
       "grid_row": null,
       "grid_template_areas": null,
       "grid_template_columns": null,
       "grid_template_rows": null,
       "height": null,
       "justify_content": null,
       "justify_items": null,
       "left": null,
       "margin": null,
       "max_height": null,
       "max_width": null,
       "min_height": null,
       "min_width": null,
       "object_fit": null,
       "object_position": null,
       "order": null,
       "overflow": null,
       "overflow_x": null,
       "overflow_y": null,
       "padding": null,
       "right": null,
       "top": null,
       "visibility": null,
       "width": null
      }
     },
     "c4e95075535144d2bf5ef24f5163f37d": {
      "model_module": "@jupyter-widgets/controls",
      "model_module_version": "1.5.0",
      "model_name": "HTMLModel",
      "state": {
       "_dom_classes": [],
       "_model_module": "@jupyter-widgets/controls",
       "_model_module_version": "1.5.0",
       "_model_name": "HTMLModel",
       "_view_count": null,
       "_view_module": "@jupyter-widgets/controls",
       "_view_module_version": "1.5.0",
       "_view_name": "HTMLView",
       "description": "",
       "description_tooltip": null,
       "layout": "IPY_MODEL_ff7266dc327b4a1c81eb9f09a9fd8b96",
       "placeholder": "​",
       "style": "IPY_MODEL_6f73e96ec9984f4e9961b37470d8562a",
       "value": " 1.92k/1.92k [00:00&lt;00:00, 77.6kB/s]"
      }
     },
     "c61bb1e805d04fafb7498e0e1ddd236e": {
      "model_module": "@jupyter-widgets/controls",
      "model_module_version": "1.5.0",
      "model_name": "DescriptionStyleModel",
      "state": {
       "_model_module": "@jupyter-widgets/controls",
       "_model_module_version": "1.5.0",
       "_model_name": "DescriptionStyleModel",
       "_view_count": null,
       "_view_module": "@jupyter-widgets/base",
       "_view_module_version": "1.2.0",
       "_view_name": "StyleView",
       "description_width": ""
      }
     },
     "c7122d387749459eb9090572466960d1": {
      "model_module": "@jupyter-widgets/controls",
      "model_module_version": "1.5.0",
      "model_name": "DescriptionStyleModel",
      "state": {
       "_model_module": "@jupyter-widgets/controls",
       "_model_module_version": "1.5.0",
       "_model_name": "DescriptionStyleModel",
       "_view_count": null,
       "_view_module": "@jupyter-widgets/base",
       "_view_module_version": "1.2.0",
       "_view_name": "StyleView",
       "description_width": ""
      }
     },
     "d566719a20b841faa68cfe678a519946": {
      "model_module": "@jupyter-widgets/base",
      "model_module_version": "1.2.0",
      "model_name": "LayoutModel",
      "state": {
       "_model_module": "@jupyter-widgets/base",
       "_model_module_version": "1.2.0",
       "_model_name": "LayoutModel",
       "_view_count": null,
       "_view_module": "@jupyter-widgets/base",
       "_view_module_version": "1.2.0",
       "_view_name": "LayoutView",
       "align_content": null,
       "align_items": null,
       "align_self": null,
       "border": null,
       "bottom": null,
       "display": null,
       "flex": null,
       "flex_flow": null,
       "grid_area": null,
       "grid_auto_columns": null,
       "grid_auto_flow": null,
       "grid_auto_rows": null,
       "grid_column": null,
       "grid_gap": null,
       "grid_row": null,
       "grid_template_areas": null,
       "grid_template_columns": null,
       "grid_template_rows": null,
       "height": null,
       "justify_content": null,
       "justify_items": null,
       "left": null,
       "margin": null,
       "max_height": null,
       "max_width": null,
       "min_height": null,
       "min_width": null,
       "object_fit": null,
       "object_position": null,
       "order": null,
       "overflow": null,
       "overflow_x": null,
       "overflow_y": null,
       "padding": null,
       "right": null,
       "top": null,
       "visibility": null,
       "width": null
      }
     },
     "d68433053fd24371bd0421857a8d0f6e": {
      "model_module": "@jupyter-widgets/base",
      "model_module_version": "1.2.0",
      "model_name": "LayoutModel",
      "state": {
       "_model_module": "@jupyter-widgets/base",
       "_model_module_version": "1.2.0",
       "_model_name": "LayoutModel",
       "_view_count": null,
       "_view_module": "@jupyter-widgets/base",
       "_view_module_version": "1.2.0",
       "_view_name": "LayoutView",
       "align_content": null,
       "align_items": null,
       "align_self": null,
       "border": null,
       "bottom": null,
       "display": null,
       "flex": null,
       "flex_flow": null,
       "grid_area": null,
       "grid_auto_columns": null,
       "grid_auto_flow": null,
       "grid_auto_rows": null,
       "grid_column": null,
       "grid_gap": null,
       "grid_row": null,
       "grid_template_areas": null,
       "grid_template_columns": null,
       "grid_template_rows": null,
       "height": null,
       "justify_content": null,
       "justify_items": null,
       "left": null,
       "margin": null,
       "max_height": null,
       "max_width": null,
       "min_height": null,
       "min_width": null,
       "object_fit": null,
       "object_position": null,
       "order": null,
       "overflow": null,
       "overflow_x": null,
       "overflow_y": null,
       "padding": null,
       "right": null,
       "top": null,
       "visibility": null,
       "width": null
      }
     },
     "d8ce609543b0499bbb0aeb320ed5ca9e": {
      "model_module": "@jupyter-widgets/controls",
      "model_module_version": "1.5.0",
      "model_name": "HTMLModel",
      "state": {
       "_dom_classes": [],
       "_model_module": "@jupyter-widgets/controls",
       "_model_module_version": "1.5.0",
       "_model_name": "HTMLModel",
       "_view_count": null,
       "_view_module": "@jupyter-widgets/controls",
       "_view_module_version": "1.5.0",
       "_view_name": "HTMLView",
       "description": "",
       "description_tooltip": null,
       "layout": "IPY_MODEL_3c5cd5f3a1ee4cb6b42cc10f94f579ba",
       "placeholder": "​",
       "style": "IPY_MODEL_012b9bc7b12f460e908cc646c493638d",
       "value": " 15594/15594 [00:15&lt;00:00, 1073.39it/s]"
      }
     },
     "d9277bf0b0e8468d80bd28fa4a97a7f9": {
      "model_module": "@jupyter-widgets/controls",
      "model_module_version": "1.5.0",
      "model_name": "HTMLModel",
      "state": {
       "_dom_classes": [],
       "_model_module": "@jupyter-widgets/controls",
       "_model_module_version": "1.5.0",
       "_model_name": "HTMLModel",
       "_view_count": null,
       "_view_module": "@jupyter-widgets/controls",
       "_view_module_version": "1.5.0",
       "_view_name": "HTMLView",
       "description": "",
       "description_tooltip": null,
       "layout": "IPY_MODEL_5ffe0c7e33ec42ef8edb0dd1b3ffc6f7",
       "placeholder": "​",
       "style": "IPY_MODEL_e446e9875be34aacb9a27f4f980b3a90",
       "value": "Downloading: 100%"
      }
     },
     "dc04eefb35c748159c9b32ac6f81309c": {
      "model_module": "@jupyter-widgets/base",
      "model_module_version": "1.2.0",
      "model_name": "LayoutModel",
      "state": {
       "_model_module": "@jupyter-widgets/base",
       "_model_module_version": "1.2.0",
       "_model_name": "LayoutModel",
       "_view_count": null,
       "_view_module": "@jupyter-widgets/base",
       "_view_module_version": "1.2.0",
       "_view_name": "LayoutView",
       "align_content": null,
       "align_items": null,
       "align_self": null,
       "border": null,
       "bottom": null,
       "display": null,
       "flex": null,
       "flex_flow": null,
       "grid_area": null,
       "grid_auto_columns": null,
       "grid_auto_flow": null,
       "grid_auto_rows": null,
       "grid_column": null,
       "grid_gap": null,
       "grid_row": null,
       "grid_template_areas": null,
       "grid_template_columns": null,
       "grid_template_rows": null,
       "height": null,
       "justify_content": null,
       "justify_items": null,
       "left": null,
       "margin": null,
       "max_height": null,
       "max_width": null,
       "min_height": null,
       "min_width": null,
       "object_fit": null,
       "object_position": null,
       "order": null,
       "overflow": null,
       "overflow_x": null,
       "overflow_y": null,
       "padding": null,
       "right": null,
       "top": null,
       "visibility": null,
       "width": null
      }
     },
     "dcf7f04407d04caf9445dc5fe1b902fd": {
      "model_module": "@jupyter-widgets/controls",
      "model_module_version": "1.5.0",
      "model_name": "HTMLModel",
      "state": {
       "_dom_classes": [],
       "_model_module": "@jupyter-widgets/controls",
       "_model_module_version": "1.5.0",
       "_model_name": "HTMLModel",
       "_view_count": null,
       "_view_module": "@jupyter-widgets/controls",
       "_view_module_version": "1.5.0",
       "_view_name": "HTMLView",
       "description": "",
       "description_tooltip": null,
       "layout": "IPY_MODEL_bada72e1718b49b7a4691b6fbbc20fbb",
       "placeholder": "​",
       "style": "IPY_MODEL_3690fb7dc80f438cba5ac50c813a9a1d",
       "value": " 112/112 [00:00&lt;00:00, 4.38kB/s]"
      }
     },
     "dda6f3b37a0d43deade1b7e4fe809ea5": {
      "model_module": "@jupyter-widgets/controls",
      "model_module_version": "1.5.0",
      "model_name": "FloatProgressModel",
      "state": {
       "_dom_classes": [],
       "_model_module": "@jupyter-widgets/controls",
       "_model_module_version": "1.5.0",
       "_model_name": "FloatProgressModel",
       "_view_count": null,
       "_view_module": "@jupyter-widgets/controls",
       "_view_module_version": "1.5.0",
       "_view_name": "ProgressView",
       "bar_style": "success",
       "description": "",
       "description_tooltip": null,
       "layout": "IPY_MODEL_5c3c421997bc431c98cd2e201d26b54a",
       "max": 462.0,
       "min": 0.0,
       "orientation": "horizontal",
       "style": "IPY_MODEL_5c8d865c16a541479cdce30200ea109a",
       "value": 462.0
      }
     },
     "dec067cab26d439f9d464043bd6a46c7": {
      "model_module": "@jupyter-widgets/controls",
      "model_module_version": "1.5.0",
      "model_name": "FloatProgressModel",
      "state": {
       "_dom_classes": [],
       "_model_module": "@jupyter-widgets/controls",
       "_model_module_version": "1.5.0",
       "_model_name": "FloatProgressModel",
       "_view_count": null,
       "_view_module": "@jupyter-widgets/controls",
       "_view_module_version": "1.5.0",
       "_view_name": "ProgressView",
       "bar_style": "success",
       "description": "",
       "description_tooltip": null,
       "layout": "IPY_MODEL_dc04eefb35c748159c9b32ac6f81309c",
       "max": 231508.0,
       "min": 0.0,
       "orientation": "horizontal",
       "style": "IPY_MODEL_c335da80b84f42d2aa33eaef6e9fd1de",
       "value": 231508.0
      }
     },
     "ded533329b71496da9ad141dec2f6027": {
      "model_module": "@jupyter-widgets/base",
      "model_module_version": "1.2.0",
      "model_name": "LayoutModel",
      "state": {
       "_model_module": "@jupyter-widgets/base",
       "_model_module_version": "1.2.0",
       "_model_name": "LayoutModel",
       "_view_count": null,
       "_view_module": "@jupyter-widgets/base",
       "_view_module_version": "1.2.0",
       "_view_name": "LayoutView",
       "align_content": null,
       "align_items": null,
       "align_self": null,
       "border": null,
       "bottom": null,
       "display": null,
       "flex": null,
       "flex_flow": null,
       "grid_area": null,
       "grid_auto_columns": null,
       "grid_auto_flow": null,
       "grid_auto_rows": null,
       "grid_column": null,
       "grid_gap": null,
       "grid_row": null,
       "grid_template_areas": null,
       "grid_template_columns": null,
       "grid_template_rows": null,
       "height": null,
       "justify_content": null,
       "justify_items": null,
       "left": null,
       "margin": null,
       "max_height": null,
       "max_width": null,
       "min_height": null,
       "min_width": null,
       "object_fit": null,
       "object_position": null,
       "order": null,
       "overflow": null,
       "overflow_x": null,
       "overflow_y": null,
       "padding": null,
       "right": null,
       "top": null,
       "visibility": null,
       "width": null
      }
     },
     "e1172036026b4edf95f7a596e0eb3685": {
      "model_module": "@jupyter-widgets/base",
      "model_module_version": "1.2.0",
      "model_name": "LayoutModel",
      "state": {
       "_model_module": "@jupyter-widgets/base",
       "_model_module_version": "1.2.0",
       "_model_name": "LayoutModel",
       "_view_count": null,
       "_view_module": "@jupyter-widgets/base",
       "_view_module_version": "1.2.0",
       "_view_name": "LayoutView",
       "align_content": null,
       "align_items": null,
       "align_self": null,
       "border": null,
       "bottom": null,
       "display": null,
       "flex": null,
       "flex_flow": null,
       "grid_area": null,
       "grid_auto_columns": null,
       "grid_auto_flow": null,
       "grid_auto_rows": null,
       "grid_column": null,
       "grid_gap": null,
       "grid_row": null,
       "grid_template_areas": null,
       "grid_template_columns": null,
       "grid_template_rows": null,
       "height": null,
       "justify_content": null,
       "justify_items": null,
       "left": null,
       "margin": null,
       "max_height": null,
       "max_width": null,
       "min_height": null,
       "min_width": null,
       "object_fit": null,
       "object_position": null,
       "order": null,
       "overflow": null,
       "overflow_x": null,
       "overflow_y": null,
       "padding": null,
       "right": null,
       "top": null,
       "visibility": null,
       "width": null
      }
     },
     "e1209d07f9b14021bc4f3b16026752e5": {
      "model_module": "@jupyter-widgets/controls",
      "model_module_version": "1.5.0",
      "model_name": "HBoxModel",
      "state": {
       "_dom_classes": [],
       "_model_module": "@jupyter-widgets/controls",
       "_model_module_version": "1.5.0",
       "_model_name": "HBoxModel",
       "_view_count": null,
       "_view_module": "@jupyter-widgets/controls",
       "_view_module_version": "1.5.0",
       "_view_name": "HBoxView",
       "box_style": "",
       "children": [
        "IPY_MODEL_b1a069f2f6ce40bd95f027d09fdd47a8",
        "IPY_MODEL_9825501a1f3b43fcaf13b407ab03f9a9",
        "IPY_MODEL_6005df9eccab48dd8adbf67b37f237cf"
       ],
       "layout": "IPY_MODEL_f26adeec1e084811871a54d18e68195c"
      }
     },
     "e2a6cc2499544fe7b0dfbe20000de230": {
      "model_module": "@jupyter-widgets/controls",
      "model_module_version": "1.5.0",
      "model_name": "DescriptionStyleModel",
      "state": {
       "_model_module": "@jupyter-widgets/controls",
       "_model_module_version": "1.5.0",
       "_model_name": "DescriptionStyleModel",
       "_view_count": null,
       "_view_module": "@jupyter-widgets/base",
       "_view_module_version": "1.2.0",
       "_view_name": "StyleView",
       "description_width": ""
      }
     },
     "e446e9875be34aacb9a27f4f980b3a90": {
      "model_module": "@jupyter-widgets/controls",
      "model_module_version": "1.5.0",
      "model_name": "DescriptionStyleModel",
      "state": {
       "_model_module": "@jupyter-widgets/controls",
       "_model_module_version": "1.5.0",
       "_model_name": "DescriptionStyleModel",
       "_view_count": null,
       "_view_module": "@jupyter-widgets/base",
       "_view_module_version": "1.2.0",
       "_view_name": "StyleView",
       "description_width": ""
      }
     },
     "e5bb17ce63c64446aa53b80aa69dd507": {
      "model_module": "@jupyter-widgets/base",
      "model_module_version": "1.2.0",
      "model_name": "LayoutModel",
      "state": {
       "_model_module": "@jupyter-widgets/base",
       "_model_module_version": "1.2.0",
       "_model_name": "LayoutModel",
       "_view_count": null,
       "_view_module": "@jupyter-widgets/base",
       "_view_module_version": "1.2.0",
       "_view_name": "LayoutView",
       "align_content": null,
       "align_items": null,
       "align_self": null,
       "border": null,
       "bottom": null,
       "display": null,
       "flex": null,
       "flex_flow": null,
       "grid_area": null,
       "grid_auto_columns": null,
       "grid_auto_flow": null,
       "grid_auto_rows": null,
       "grid_column": null,
       "grid_gap": null,
       "grid_row": null,
       "grid_template_areas": null,
       "grid_template_columns": null,
       "grid_template_rows": null,
       "height": null,
       "justify_content": null,
       "justify_items": null,
       "left": null,
       "margin": null,
       "max_height": null,
       "max_width": null,
       "min_height": null,
       "min_width": null,
       "object_fit": null,
       "object_position": null,
       "order": null,
       "overflow": null,
       "overflow_x": null,
       "overflow_y": null,
       "padding": null,
       "right": null,
       "top": null,
       "visibility": null,
       "width": null
      }
     },
     "e5e621972e4640a289a6ccb446b65896": {
      "model_module": "@jupyter-widgets/controls",
      "model_module_version": "1.5.0",
      "model_name": "ProgressStyleModel",
      "state": {
       "_model_module": "@jupyter-widgets/controls",
       "_model_module_version": "1.5.0",
       "_model_name": "ProgressStyleModel",
       "_view_count": null,
       "_view_module": "@jupyter-widgets/base",
       "_view_module_version": "1.2.0",
       "_view_name": "StyleView",
       "bar_color": null,
       "description_width": ""
      }
     },
     "e7bbcb4ac22c4467968a6c5860bd8fae": {
      "model_module": "@jupyter-widgets/base",
      "model_module_version": "1.2.0",
      "model_name": "LayoutModel",
      "state": {
       "_model_module": "@jupyter-widgets/base",
       "_model_module_version": "1.2.0",
       "_model_name": "LayoutModel",
       "_view_count": null,
       "_view_module": "@jupyter-widgets/base",
       "_view_module_version": "1.2.0",
       "_view_name": "LayoutView",
       "align_content": null,
       "align_items": null,
       "align_self": null,
       "border": null,
       "bottom": null,
       "display": null,
       "flex": null,
       "flex_flow": null,
       "grid_area": null,
       "grid_auto_columns": null,
       "grid_auto_flow": null,
       "grid_auto_rows": null,
       "grid_column": null,
       "grid_gap": null,
       "grid_row": null,
       "grid_template_areas": null,
       "grid_template_columns": null,
       "grid_template_rows": null,
       "height": null,
       "justify_content": null,
       "justify_items": null,
       "left": null,
       "margin": null,
       "max_height": null,
       "max_width": null,
       "min_height": null,
       "min_width": null,
       "object_fit": null,
       "object_position": null,
       "order": null,
       "overflow": null,
       "overflow_x": null,
       "overflow_y": null,
       "padding": null,
       "right": null,
       "top": null,
       "visibility": null,
       "width": null
      }
     },
     "e97bc5b10fca40d5b2f16acc72ecc2eb": {
      "model_module": "@jupyter-widgets/controls",
      "model_module_version": "1.5.0",
      "model_name": "HTMLModel",
      "state": {
       "_dom_classes": [],
       "_model_module": "@jupyter-widgets/controls",
       "_model_module_version": "1.5.0",
       "_model_name": "HTMLModel",
       "_view_count": null,
       "_view_module": "@jupyter-widgets/controls",
       "_view_module_version": "1.5.0",
       "_view_name": "HTMLView",
       "description": "",
       "description_tooltip": null,
       "layout": "IPY_MODEL_d566719a20b841faa68cfe678a519946",
       "placeholder": "​",
       "style": "IPY_MODEL_c7122d387749459eb9090572466960d1",
       "value": "Downloading: "
      }
     },
     "e9f51fcd1ae642a5af3e709bc93fc004": {
      "model_module": "@jupyter-widgets/controls",
      "model_module_version": "1.5.0",
      "model_name": "HTMLModel",
      "state": {
       "_dom_classes": [],
       "_model_module": "@jupyter-widgets/controls",
       "_model_module_version": "1.5.0",
       "_model_name": "HTMLModel",
       "_view_count": null,
       "_view_module": "@jupyter-widgets/controls",
       "_view_module_version": "1.5.0",
       "_view_name": "HTMLView",
       "description": "",
       "description_tooltip": null,
       "layout": "IPY_MODEL_ab312278ff9942e0acdb2170cf435c57",
       "placeholder": "​",
       "style": "IPY_MODEL_b641c76a00b441f9b080dce5404d8550",
       "value": " 226k/226k [00:00&lt;00:00, 797kB/s]"
      }
     },
     "ec2fb132490044faac969ad075ea446c": {
      "model_module": "@jupyter-widgets/base",
      "model_module_version": "1.2.0",
      "model_name": "LayoutModel",
      "state": {
       "_model_module": "@jupyter-widgets/base",
       "_model_module_version": "1.2.0",
       "_model_name": "LayoutModel",
       "_view_count": null,
       "_view_module": "@jupyter-widgets/base",
       "_view_module_version": "1.2.0",
       "_view_name": "LayoutView",
       "align_content": null,
       "align_items": null,
       "align_self": null,
       "border": null,
       "bottom": null,
       "display": null,
       "flex": null,
       "flex_flow": null,
       "grid_area": null,
       "grid_auto_columns": null,
       "grid_auto_flow": null,
       "grid_auto_rows": null,
       "grid_column": null,
       "grid_gap": null,
       "grid_row": null,
       "grid_template_areas": null,
       "grid_template_columns": null,
       "grid_template_rows": null,
       "height": null,
       "justify_content": null,
       "justify_items": null,
       "left": null,
       "margin": null,
       "max_height": null,
       "max_width": null,
       "min_height": null,
       "min_width": null,
       "object_fit": null,
       "object_position": null,
       "order": null,
       "overflow": null,
       "overflow_x": null,
       "overflow_y": null,
       "padding": null,
       "right": null,
       "top": null,
       "visibility": null,
       "width": null
      }
     },
     "ee265c57a11145ef857440f893784217": {
      "model_module": "@jupyter-widgets/base",
      "model_module_version": "1.2.0",
      "model_name": "LayoutModel",
      "state": {
       "_model_module": "@jupyter-widgets/base",
       "_model_module_version": "1.2.0",
       "_model_name": "LayoutModel",
       "_view_count": null,
       "_view_module": "@jupyter-widgets/base",
       "_view_module_version": "1.2.0",
       "_view_name": "LayoutView",
       "align_content": null,
       "align_items": null,
       "align_self": null,
       "border": null,
       "bottom": null,
       "display": null,
       "flex": null,
       "flex_flow": null,
       "grid_area": null,
       "grid_auto_columns": null,
       "grid_auto_flow": null,
       "grid_auto_rows": null,
       "grid_column": null,
       "grid_gap": null,
       "grid_row": null,
       "grid_template_areas": null,
       "grid_template_columns": null,
       "grid_template_rows": null,
       "height": null,
       "justify_content": null,
       "justify_items": null,
       "left": null,
       "margin": null,
       "max_height": null,
       "max_width": null,
       "min_height": null,
       "min_width": null,
       "object_fit": null,
       "object_position": null,
       "order": null,
       "overflow": null,
       "overflow_x": null,
       "overflow_y": null,
       "padding": null,
       "right": null,
       "top": null,
       "visibility": null,
       "width": null
      }
     },
     "ef96c70ac51e471ba925a2d1fd0147e6": {
      "model_module": "@jupyter-widgets/controls",
      "model_module_version": "1.5.0",
      "model_name": "DescriptionStyleModel",
      "state": {
       "_model_module": "@jupyter-widgets/controls",
       "_model_module_version": "1.5.0",
       "_model_name": "DescriptionStyleModel",
       "_view_count": null,
       "_view_module": "@jupyter-widgets/base",
       "_view_module_version": "1.2.0",
       "_view_name": "StyleView",
       "description_width": ""
      }
     },
     "f135fc15eb8b4668b146179772301f1b": {
      "model_module": "@jupyter-widgets/base",
      "model_module_version": "1.2.0",
      "model_name": "LayoutModel",
      "state": {
       "_model_module": "@jupyter-widgets/base",
       "_model_module_version": "1.2.0",
       "_model_name": "LayoutModel",
       "_view_count": null,
       "_view_module": "@jupyter-widgets/base",
       "_view_module_version": "1.2.0",
       "_view_name": "LayoutView",
       "align_content": null,
       "align_items": null,
       "align_self": null,
       "border": null,
       "bottom": null,
       "display": null,
       "flex": null,
       "flex_flow": null,
       "grid_area": null,
       "grid_auto_columns": null,
       "grid_auto_flow": null,
       "grid_auto_rows": null,
       "grid_column": null,
       "grid_gap": null,
       "grid_row": null,
       "grid_template_areas": null,
       "grid_template_columns": null,
       "grid_template_rows": null,
       "height": null,
       "justify_content": null,
       "justify_items": null,
       "left": null,
       "margin": null,
       "max_height": null,
       "max_width": null,
       "min_height": null,
       "min_width": null,
       "object_fit": null,
       "object_position": null,
       "order": null,
       "overflow": null,
       "overflow_x": null,
       "overflow_y": null,
       "padding": null,
       "right": null,
       "top": null,
       "visibility": null,
       "width": null
      }
     },
     "f14aee8ef9ea4872a483247f32165eb6": {
      "model_module": "@jupyter-widgets/base",
      "model_module_version": "1.2.0",
      "model_name": "LayoutModel",
      "state": {
       "_model_module": "@jupyter-widgets/base",
       "_model_module_version": "1.2.0",
       "_model_name": "LayoutModel",
       "_view_count": null,
       "_view_module": "@jupyter-widgets/base",
       "_view_module_version": "1.2.0",
       "_view_name": "LayoutView",
       "align_content": null,
       "align_items": null,
       "align_self": null,
       "border": null,
       "bottom": null,
       "display": null,
       "flex": null,
       "flex_flow": null,
       "grid_area": null,
       "grid_auto_columns": null,
       "grid_auto_flow": null,
       "grid_auto_rows": null,
       "grid_column": null,
       "grid_gap": null,
       "grid_row": null,
       "grid_template_areas": null,
       "grid_template_columns": null,
       "grid_template_rows": null,
       "height": null,
       "justify_content": null,
       "justify_items": null,
       "left": null,
       "margin": null,
       "max_height": null,
       "max_width": null,
       "min_height": null,
       "min_width": null,
       "object_fit": null,
       "object_position": null,
       "order": null,
       "overflow": null,
       "overflow_x": null,
       "overflow_y": null,
       "padding": null,
       "right": null,
       "top": null,
       "visibility": null,
       "width": null
      }
     },
     "f168de90738248f38a6f1ac7a330dc88": {
      "model_module": "@jupyter-widgets/controls",
      "model_module_version": "1.5.0",
      "model_name": "ButtonModel",
      "state": {
       "_dom_classes": [],
       "_model_module": "@jupyter-widgets/controls",
       "_model_module_version": "1.5.0",
       "_model_name": "ButtonModel",
       "_view_count": null,
       "_view_module": "@jupyter-widgets/controls",
       "_view_module_version": "1.5.0",
       "_view_name": "ButtonView",
       "button_style": "",
       "description": "Login",
       "disabled": false,
       "icon": "",
       "layout": "IPY_MODEL_59d02f457cdd449f838b17eddc4c443d",
       "style": "IPY_MODEL_7b241b4ba5024526ad3d903213705650",
       "tooltip": ""
      }
     },
     "f254b9c8d1bc46b08d916ee4ddbabe45": {
      "model_module": "@jupyter-widgets/base",
      "model_module_version": "1.2.0",
      "model_name": "LayoutModel",
      "state": {
       "_model_module": "@jupyter-widgets/base",
       "_model_module_version": "1.2.0",
       "_model_name": "LayoutModel",
       "_view_count": null,
       "_view_module": "@jupyter-widgets/base",
       "_view_module_version": "1.2.0",
       "_view_name": "LayoutView",
       "align_content": null,
       "align_items": null,
       "align_self": null,
       "border": null,
       "bottom": null,
       "display": null,
       "flex": null,
       "flex_flow": null,
       "grid_area": null,
       "grid_auto_columns": null,
       "grid_auto_flow": null,
       "grid_auto_rows": null,
       "grid_column": null,
       "grid_gap": null,
       "grid_row": null,
       "grid_template_areas": null,
       "grid_template_columns": null,
       "grid_template_rows": null,
       "height": null,
       "justify_content": null,
       "justify_items": null,
       "left": null,
       "margin": null,
       "max_height": null,
       "max_width": null,
       "min_height": null,
       "min_width": null,
       "object_fit": null,
       "object_position": null,
       "order": null,
       "overflow": null,
       "overflow_x": null,
       "overflow_y": null,
       "padding": null,
       "right": null,
       "top": null,
       "visibility": null,
       "width": null
      }
     },
     "f26adeec1e084811871a54d18e68195c": {
      "model_module": "@jupyter-widgets/base",
      "model_module_version": "1.2.0",
      "model_name": "LayoutModel",
      "state": {
       "_model_module": "@jupyter-widgets/base",
       "_model_module_version": "1.2.0",
       "_model_name": "LayoutModel",
       "_view_count": null,
       "_view_module": "@jupyter-widgets/base",
       "_view_module_version": "1.2.0",
       "_view_name": "LayoutView",
       "align_content": null,
       "align_items": null,
       "align_self": null,
       "border": null,
       "bottom": null,
       "display": null,
       "flex": null,
       "flex_flow": null,
       "grid_area": null,
       "grid_auto_columns": null,
       "grid_auto_flow": null,
       "grid_auto_rows": null,
       "grid_column": null,
       "grid_gap": null,
       "grid_row": null,
       "grid_template_areas": null,
       "grid_template_columns": null,
       "grid_template_rows": null,
       "height": null,
       "justify_content": null,
       "justify_items": null,
       "left": null,
       "margin": null,
       "max_height": null,
       "max_width": null,
       "min_height": null,
       "min_width": null,
       "object_fit": null,
       "object_position": null,
       "order": null,
       "overflow": null,
       "overflow_x": null,
       "overflow_y": null,
       "padding": null,
       "right": null,
       "top": null,
       "visibility": null,
       "width": null
      }
     },
     "f4bc24ef0b9f44b480771e6d8f6fdf1f": {
      "model_module": "@jupyter-widgets/base",
      "model_module_version": "1.2.0",
      "model_name": "LayoutModel",
      "state": {
       "_model_module": "@jupyter-widgets/base",
       "_model_module_version": "1.2.0",
       "_model_name": "LayoutModel",
       "_view_count": null,
       "_view_module": "@jupyter-widgets/base",
       "_view_module_version": "1.2.0",
       "_view_name": "LayoutView",
       "align_content": null,
       "align_items": null,
       "align_self": null,
       "border": null,
       "bottom": null,
       "display": null,
       "flex": null,
       "flex_flow": null,
       "grid_area": null,
       "grid_auto_columns": null,
       "grid_auto_flow": null,
       "grid_auto_rows": null,
       "grid_column": null,
       "grid_gap": null,
       "grid_row": null,
       "grid_template_areas": null,
       "grid_template_columns": null,
       "grid_template_rows": null,
       "height": null,
       "justify_content": null,
       "justify_items": null,
       "left": null,
       "margin": null,
       "max_height": null,
       "max_width": null,
       "min_height": null,
       "min_width": null,
       "object_fit": null,
       "object_position": null,
       "order": null,
       "overflow": null,
       "overflow_x": null,
       "overflow_y": null,
       "padding": null,
       "right": null,
       "top": null,
       "visibility": null,
       "width": null
      }
     },
     "f6f7a1b803744460adeed04e3c73276d": {
      "model_module": "@jupyter-widgets/base",
      "model_module_version": "1.2.0",
      "model_name": "LayoutModel",
      "state": {
       "_model_module": "@jupyter-widgets/base",
       "_model_module_version": "1.2.0",
       "_model_name": "LayoutModel",
       "_view_count": null,
       "_view_module": "@jupyter-widgets/base",
       "_view_module_version": "1.2.0",
       "_view_name": "LayoutView",
       "align_content": null,
       "align_items": null,
       "align_self": null,
       "border": null,
       "bottom": null,
       "display": null,
       "flex": null,
       "flex_flow": null,
       "grid_area": null,
       "grid_auto_columns": null,
       "grid_auto_flow": null,
       "grid_auto_rows": null,
       "grid_column": null,
       "grid_gap": null,
       "grid_row": null,
       "grid_template_areas": null,
       "grid_template_columns": null,
       "grid_template_rows": null,
       "height": null,
       "justify_content": null,
       "justify_items": null,
       "left": null,
       "margin": null,
       "max_height": null,
       "max_width": null,
       "min_height": null,
       "min_width": null,
       "object_fit": null,
       "object_position": null,
       "order": null,
       "overflow": null,
       "overflow_x": null,
       "overflow_y": null,
       "padding": null,
       "right": null,
       "top": null,
       "visibility": null,
       "width": null
      }
     },
     "f903b6eeb7214e2790619d84216c9f1f": {
      "model_module": "@jupyter-widgets/controls",
      "model_module_version": "1.5.0",
      "model_name": "VBoxModel",
      "state": {
       "_dom_classes": [],
       "_model_module": "@jupyter-widgets/controls",
       "_model_module_version": "1.5.0",
       "_model_name": "VBoxModel",
       "_view_count": null,
       "_view_module": "@jupyter-widgets/controls",
       "_view_module_version": "1.5.0",
       "_view_name": "VBoxView",
       "box_style": "",
       "children": [
        "IPY_MODEL_3800ea10484e4b28ad383f277e6e448b",
        "IPY_MODEL_92787201623b4572ab36eb03f22d9d66",
        "IPY_MODEL_f168de90738248f38a6f1ac7a330dc88"
       ],
       "layout": "IPY_MODEL_2d448fdaf9c34232bfd7ddfaec25e7f0"
      }
     },
     "fa45df29561c49539ae6d43354359e41": {
      "model_module": "@jupyter-widgets/controls",
      "model_module_version": "1.5.0",
      "model_name": "HBoxModel",
      "state": {
       "_dom_classes": [],
       "_model_module": "@jupyter-widgets/controls",
       "_model_module_version": "1.5.0",
       "_model_name": "HBoxModel",
       "_view_count": null,
       "_view_module": "@jupyter-widgets/controls",
       "_view_module_version": "1.5.0",
       "_view_name": "HBoxView",
       "box_style": "",
       "children": [
        "IPY_MODEL_d9277bf0b0e8468d80bd28fa4a97a7f9",
        "IPY_MODEL_958e8cc579d647bda963bcf43c0fff26",
        "IPY_MODEL_1638b36ab07346459d2dadf390c619a9"
       ],
       "layout": "IPY_MODEL_7f090af8b4ed4815b53214d8740e2480"
      }
     },
     "fd2e7f9a95314c0988bc56dc377f5662": {
      "model_module": "@jupyter-widgets/controls",
      "model_module_version": "1.5.0",
      "model_name": "HTMLModel",
      "state": {
       "_dom_classes": [],
       "_model_module": "@jupyter-widgets/controls",
       "_model_module_version": "1.5.0",
       "_model_name": "HTMLModel",
       "_view_count": null,
       "_view_module": "@jupyter-widgets/controls",
       "_view_module_version": "1.5.0",
       "_view_name": "HTMLView",
       "description": "",
       "description_tooltip": null,
       "layout": "IPY_MODEL_ee265c57a11145ef857440f893784217",
       "placeholder": "​",
       "style": "IPY_MODEL_aebba8e40a3d451eb07a61792ca491d9",
       "value": "Downloading: 100%"
      }
     },
     "ff7266dc327b4a1c81eb9f09a9fd8b96": {
      "model_module": "@jupyter-widgets/base",
      "model_module_version": "1.2.0",
      "model_name": "LayoutModel",
      "state": {
       "_model_module": "@jupyter-widgets/base",
       "_model_module_version": "1.2.0",
       "_model_name": "LayoutModel",
       "_view_count": null,
       "_view_module": "@jupyter-widgets/base",
       "_view_module_version": "1.2.0",
       "_view_name": "LayoutView",
       "align_content": null,
       "align_items": null,
       "align_self": null,
       "border": null,
       "bottom": null,
       "display": null,
       "flex": null,
       "flex_flow": null,
       "grid_area": null,
       "grid_auto_columns": null,
       "grid_auto_flow": null,
       "grid_auto_rows": null,
       "grid_column": null,
       "grid_gap": null,
       "grid_row": null,
       "grid_template_areas": null,
       "grid_template_columns": null,
       "grid_template_rows": null,
       "height": null,
       "justify_content": null,
       "justify_items": null,
       "left": null,
       "margin": null,
       "max_height": null,
       "max_width": null,
       "min_height": null,
       "min_width": null,
       "object_fit": null,
       "object_position": null,
       "order": null,
       "overflow": null,
       "overflow_x": null,
       "overflow_y": null,
       "padding": null,
       "right": null,
       "top": null,
       "visibility": null,
       "width": null
      }
     }
    },
    "version_major": 2,
    "version_minor": 0
   }
  }
 },
 "nbformat": 4,
 "nbformat_minor": 5
}
