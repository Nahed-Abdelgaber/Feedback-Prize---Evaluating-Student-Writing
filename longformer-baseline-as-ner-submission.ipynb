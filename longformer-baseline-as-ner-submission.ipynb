{
 "cells": [
  {
   "cell_type": "code",
   "execution_count": 1,
   "id": "0576cf9a",
   "metadata": {
    "_cell_guid": "b1076dfc-b9ad-4769-8c92-a6c4dae69d19",
    "_uuid": "8f2839f25d086af736a60e9eeb907d3b93b6e0e5",
    "execution": {
     "iopub.execute_input": "2022-01-11T04:28:02.503374Z",
     "iopub.status.busy": "2022-01-11T04:28:02.502741Z",
     "iopub.status.idle": "2022-01-11T04:28:04.015712Z",
     "shell.execute_reply": "2022-01-11T04:28:04.014670Z",
     "shell.execute_reply.started": "2022-01-11T04:15:25.254001Z"
    },
    "papermill": {
     "duration": 1.530777,
     "end_time": "2022-01-11T04:28:04.015889",
     "exception": false,
     "start_time": "2022-01-11T04:28:02.485112",
     "status": "completed"
    },
    "tags": []
   },
   "outputs": [],
   "source": [
    "import os\n",
    "\n",
    "import pandas as pd\n",
    "import transformers as trm\n",
    "from tqdm.auto import tqdm\n",
    "\n",
    "# Uses this utility script: https://www.kaggle.com/xhlulu/ner-tagging\n",
    "import ner_tagging as tag"
   ]
  },
  {
   "cell_type": "code",
   "execution_count": 2,
   "id": "76de2215",
   "metadata": {
    "execution": {
     "iopub.execute_input": "2022-01-11T04:28:04.043124Z",
     "iopub.status.busy": "2022-01-11T04:28:04.041493Z",
     "iopub.status.idle": "2022-01-11T04:28:04.044072Z",
     "shell.execute_reply": "2022-01-11T04:28:04.042296Z",
     "shell.execute_reply.started": "2022-01-11T04:15:15.402414Z"
    },
    "papermill": {
     "duration": 0.020263,
     "end_time": "2022-01-11T04:28:04.044298",
     "exception": false,
     "start_time": "2022-01-11T04:28:04.024035",
     "status": "completed"
    },
    "tags": []
   },
   "outputs": [],
   "source": [
    "# !pip download  seqeval"
   ]
  },
  {
   "cell_type": "code",
   "execution_count": 3,
   "id": "2d92f78b",
   "metadata": {
    "execution": {
     "iopub.execute_input": "2022-01-11T04:28:04.069921Z",
     "iopub.status.busy": "2022-01-11T04:28:04.068131Z",
     "iopub.status.idle": "2022-01-11T04:28:04.070824Z",
     "shell.execute_reply": "2022-01-11T04:28:04.071576Z",
     "shell.execute_reply.started": "2022-01-11T04:27:15.368138Z"
    },
    "papermill": {
     "duration": 0.017825,
     "end_time": "2022-01-11T04:28:04.071768",
     "exception": false,
     "start_time": "2022-01-11T04:28:04.053943",
     "status": "completed"
    },
    "tags": []
   },
   "outputs": [],
   "source": [
    "# !pip install seqeval --no-index --find-links=file:///input/seqeval"
   ]
  },
  {
   "cell_type": "code",
   "execution_count": 4,
   "id": "b88d0e4b",
   "metadata": {
    "execution": {
     "iopub.execute_input": "2022-01-11T04:28:04.107725Z",
     "iopub.status.busy": "2022-01-11T04:28:04.106690Z",
     "iopub.status.idle": "2022-01-11T04:28:04.110989Z",
     "shell.execute_reply": "2022-01-11T04:28:04.111611Z",
     "shell.execute_reply.started": "2022-01-11T04:22:08.550411Z"
    },
    "papermill": {
     "duration": 0.027205,
     "end_time": "2022-01-11T04:28:04.111810",
     "exception": false,
     "start_time": "2022-01-11T04:28:04.084605",
     "status": "completed"
    },
    "tags": []
   },
   "outputs": [],
   "source": [
    "# ! ls"
   ]
  },
  {
   "cell_type": "code",
   "execution_count": 5,
   "id": "9842f508",
   "metadata": {
    "execution": {
     "iopub.execute_input": "2022-01-11T04:28:04.134846Z",
     "iopub.status.busy": "2022-01-11T04:28:04.134004Z",
     "iopub.status.idle": "2022-01-11T04:28:04.615494Z",
     "shell.execute_reply": "2022-01-11T04:28:04.615981Z",
     "shell.execute_reply.started": "2022-01-11T04:15:30.857931Z"
    },
    "papermill": {
     "duration": 0.495271,
     "end_time": "2022-01-11T04:28:04.616165",
     "exception": false,
     "start_time": "2022-01-11T04:28:04.120894",
     "status": "completed"
    },
    "tags": []
   },
   "outputs": [],
   "source": [
    "from datasets import load_dataset\n"
   ]
  },
  {
   "cell_type": "code",
   "execution_count": 6,
   "id": "664beeff",
   "metadata": {
    "execution": {
     "iopub.execute_input": "2022-01-11T04:28:04.632847Z",
     "iopub.status.busy": "2022-01-11T04:28:04.632134Z",
     "iopub.status.idle": "2022-01-11T04:28:09.416433Z",
     "shell.execute_reply": "2022-01-11T04:28:09.415927Z",
     "shell.execute_reply.started": "2022-01-11T04:27:34.486203Z"
    },
    "papermill": {
     "duration": 4.794096,
     "end_time": "2022-01-11T04:28:09.416568",
     "exception": false,
     "start_time": "2022-01-11T04:28:04.622472",
     "status": "completed"
    },
    "tags": []
   },
   "outputs": [],
   "source": [
    "import numpy as np\n",
    "from datasets import load_metric\n",
    "\n",
    "import transformers\n",
    "from transformers import AutoModel, AutoTokenizer\n",
    "\n",
    "# metric = load_metric(\"seqeval\")"
   ]
  },
  {
   "cell_type": "code",
   "execution_count": null,
   "id": "91baf688",
   "metadata": {
    "papermill": {
     "duration": 0.005477,
     "end_time": "2022-01-11T04:28:09.427751",
     "exception": false,
     "start_time": "2022-01-11T04:28:09.422274",
     "status": "completed"
    },
    "tags": []
   },
   "outputs": [],
   "source": []
  }
 ],
 "metadata": {
  "kernelspec": {
   "display_name": "Python 3",
   "language": "python",
   "name": "python3"
  },
  "language_info": {
   "codemirror_mode": {
    "name": "ipython",
    "version": 3
   },
   "file_extension": ".py",
   "mimetype": "text/x-python",
   "name": "python",
   "nbconvert_exporter": "python",
   "pygments_lexer": "ipython3",
   "version": "3.7.12"
  },
  "papermill": {
   "default_parameters": {},
   "duration": 18.320493,
   "end_time": "2022-01-11T04:28:12.684604",
   "environment_variables": {},
   "exception": null,
   "input_path": "__notebook__.ipynb",
   "output_path": "__notebook__.ipynb",
   "parameters": {},
   "start_time": "2022-01-11T04:27:54.364111",
   "version": "2.3.3"
  }
 },
 "nbformat": 4,
 "nbformat_minor": 5
}
